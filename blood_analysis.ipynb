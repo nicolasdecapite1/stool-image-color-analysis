{
 "cells": [
  {
   "cell_type": "code",
   "execution_count": 8,
   "metadata": {},
   "outputs": [],
   "source": [
    "'''\n",
    "Import necessary packages\n",
    "'''\n",
    "import os\n",
    "import pandas as pd\n",
    "import numpy as np\n",
    "from scipy.spatial.distance import cdist\n",
    "\n",
    "import matplotlib.pyplot as plt\n",
    "import imageio\n",
    "from colormath.color_objects import sRGBColor, LabColor\n",
    "from colormath.color_conversions import convert_color\n",
    "from PIL import Image\n",
    "# import cv2\n",
    "from collections import Counter\n",
    "\n",
    "np.set_printoptions(precision=3)\n",
    "\n",
    "%matplotlib inline"
   ]
  },
  {
   "cell_type": "code",
   "execution_count": 9,
   "metadata": {},
   "outputs": [],
   "source": [
    "def convert_to_lab(arr_rgb):\n",
    "    '''\n",
    "    This function will transform every rgb value in the list to lab. \n",
    "    '''\n",
    "    \n",
    "    list_lab = []\n",
    "    for row in arr_rgb:\n",
    "        r, g, b = row\n",
    "        list_lab.append(convert_color(sRGBColor(r, g, b, is_upscaled=True), LabColor).get_value_tuple())\n",
    "    return np.array(list_lab)\n",
    "\n",
    "\n",
    "def convert_to_rgb(arr_lab):\n",
    "    '''\n",
    "    This function will transform every rgb value in the list to lab. \n",
    "    '''\n",
    "    \n",
    "    list_rgb = []\n",
    "    for row in arr_lab:\n",
    "        l, a, b = row\n",
    "        list_rgb.append(convert_color(LabColor(l, a, b), sRGBColor).get_value_tuple())\n",
    "    return np.array(list_rgb)\n",
    "\n",
    "def find_the_cloeset_iscc(arr_img_lab, arr_iscc_lab):\n",
    "    \n",
    "    return arr_iscc_lab[np.argmin(cdist(arr_img_lab, arr_iscc_lab), 1)] \n",
    "\n",
    "# function to return key for any value \n",
    "def get_key(my_dict, val): \n",
    "    for key, value in my_dict.items(): \n",
    "         if val == value: \n",
    "                return key \n",
    "    return \"key doesn't exist\"\n",
    "      "
   ]
  },
  {
   "cell_type": "code",
   "execution_count": 10,
   "metadata": {},
   "outputs": [],
   "source": [
    "'''\n",
    "Define the color card with ISCC_NBS\n",
    "'''\n",
    "\n",
    "# Read ISCC from local file\n",
    "path_iscc = os.path.join('ISCC_NBS', 'ISCC_NBS_w3.csv')\n",
    "df_iscc = pd.read_csv(path_iscc, names = ['color_name', 'hex'])\n",
    "\n",
    "# Get the RGB and CIE-Lab values for each color in ISCC color card\n",
    "df_iscc['RGB'] = \"\"\n",
    "df_iscc['Lab'] = \"\"\n",
    "for index, row in df_iscc.iterrows(): \n",
    "    df_iscc.loc[index, 'RGB'] = sRGBColor.new_from_rgb_hex(row['hex'])\n",
    "    df_iscc.loc[index, 'Lab'] = convert_color(df_iscc.loc[index, 'RGB'], LabColor).get_value_tuple()"
   ]
  },
  {
   "cell_type": "code",
   "execution_count": 11,
   "metadata": {},
   "outputs": [],
   "source": [
    "def img_to_vec(img_path):\n",
    "    \n",
    "    img = Image.open(path_img).convert('RGB')\n",
    "    img = np.array(img)\n",
    "    arr_img_lab = convert_to_lab(img.reshape(img.shape[0]*img.shape[1], 3))\n",
    "    arr_iscc_lab = np.array(df_iscc['Lab'].tolist())\n",
    "    quantized_img_lab = find_the_cloeset_iscc(arr_img_lab, arr_iscc_lab)\n",
    "    quantized_img_rgb = convert_to_rgb(quantized_img_lab).reshape(img.shape[0], img.shape[1], 3)\n",
    "    background_lab = np.array([95.7931405 , -0.15465805, -0.6054342])\n",
    "    (unique, counts) = np.unique(quantized_img_lab, return_counts=True, axis=0)\n",
    "    indices = np.argsort(counts)[::-1]\n",
    "    dict_color_count = {}\n",
    "    dict_color_name = {}\n",
    "    sum_counts = sum(counts)\n",
    "\n",
    "\n",
    "    for i in indices:\n",
    "        if cdist(unique[i].reshape(1, 3), background_lab.reshape(1, 3)) < 0.001:\n",
    "            continue\n",
    "        index_iscc = np.where(cdist(df_iscc['Lab'].tolist(), unique[i].reshape(1, 3))<0.01)\n",
    "        hex_value = df_iscc.loc[index_iscc[0][0], 'hex']\n",
    "        color_name = df_iscc.loc[index_iscc[0][0], 'color_name']\n",
    "        dict_color_count[hex_value] = counts[i]/sum_counts\n",
    "        dict_color_name[hex_value] = color_name\n",
    "    return dict_color_count, dict_color_name"
   ]
  },
  {
   "cell_type": "code",
   "execution_count": 12,
   "metadata": {
    "scrolled": true,
    "tags": [
     "outputPrepend"
    ]
   },
   "outputs": [
    {
     "output_type": "stream",
     "name": "stdout",
     "text": "ay', '#6C541E': 'Moderate_Olive_Brown', '#51585E': 'Dark_Bluish_Gray', '#EAD8D7': 'Pale_Pink', '#1E2321': 'Greenish_Black', '#3A4B47': 'Dark_Grayish_Green', '#363527': 'Dark_Grayish_Olive', '#81878B': 'Bluish_Gray', '#796878': 'Grayish_Purple', '#202428': 'Bluish_Black', '#291E29': 'Blackish_Purple', '#36454F': 'Dark_Grayish_Blue', '#91A3B0': 'Pale_Blue', '#B2BEB5': 'Light_Greenish_Gray', '#50404D': 'Dark_Grayish_Purple', '#202830': 'Blackish_Blue', '#AA98A9': 'Pale_Purple', '#252440': 'Dark_Purplish_Blue', '#C4AEAD': 'Grayish_Pink', '#9690AB': 'Pale_Violet', '#A18F60': 'Dark_Grayish_Yellow'}\n{'#593319': 'Deep_Brown', '#848482': 'Medium_Gray', '#422518': 'Dark_Brown', '#4B3621': 'Dark_Yellowish_Brown', '#B9B8B5': 'Light_Gray', '#654522': 'Deep_Yellowish_Brown', '#8DA399': 'Pale_Green', '#7E6D5A': 'Grayish_Yellowish_Brown', '#80461B': 'Strong_Brown', '#5B5842': 'Grayish_Olive', '#3B3121': 'Dark_Olive_Brown', '#8A8776': 'Light_Olive_Gray', '#882D17': 'Strong_Reddish_Brown', '#28201C': 'Brownish_Black', '#56070C': 'Deep_Reddish_Brown', '#25241D': 'Olive_Black', '#57554C': 'Olive_Gray', '#6F4E37': 'Moderate_Brown', '#5E716A': 'Grayish_Green', '#8B8589': 'Purplish_Gray', '#363527': 'Dark_Grayish_Olive', '#8E8279': 'Light_Brownish_Gray', '#81878B': 'Bluish_Gray', '#483C32': 'Dark_Grayish_Yellowish_Brown', '#635147': 'Grayish_Brown', '#79443B': 'Moderate_Reddish_Brown', '#3E1D1E': 'Dark_Reddish_Brown', '#7D8984': 'Greenish_Gray', '#9E4732': 'Dark_Reddish_Orange', '#403D21': 'Dark_Olive', '#826644': 'Moderate_Yellowish_Brown', '#515744': 'Grayish_Olive_Green', '#6C541E': 'Moderate_Olive_Brown', '#8F817F': 'Reddish_Gray', '#555555': 'Dark_Gray', '#2E1D21': 'Blackish_Red', '#91A3B0': 'Pale_Blue', '#958070': 'Light_Grayish_Brown', '#3E322C': 'Dark_Grayish_Brown', '#A67B5B': 'Light_Brown', '#674C47': 'Grayish_Reddish_Brown', '#AE6938': 'Brownish_Orange', '#B4745E': 'Grayish_Reddish_Orange', '#AE9B82': 'Light_Grayish_Yellowish_Brown', '#905D5D': 'Grayish_Red', '#AB9144': 'Dark_Yellow', '#5D555B': 'Dark_Purplish_Gray', '#977F73': 'Light_Grayish_Reddish_Brown', '#A87C6D': 'Light_Reddish_Brown', '#C19A6B': 'Light_Yellowish_Brown', '#43302E': 'Dark_Grayish_Reddish_Brown', '#722F37': 'Dark_Red', '#282022': 'Reddish_Black', '#8F9779': 'Grayish_Yellow_Green', '#222222': 'Black', '#796878': 'Grayish_Purple', '#8C8767': 'Light_Grayish_Olive', '#31362B': 'Dark_Grayish_Olive_Green', '#841B2D': 'Deep_Red', '#996515': 'Strong_Yellowish_Brown', '#AB4E52': 'Moderate_Red', '#B4BCC0': 'Light_Bluish_Gray', '#4E5755': 'Dark_Greenish_Gray', '#C4AEAD': 'Grayish_Pink', '#D99058': 'Moderate_Orange', '#BE8A3D': 'Dark_Orange_Yellow', '#5B504F': 'Brownish_Gray', '#967117': 'Light_Olive_Brown', '#C2AC99': 'Brownish_Pink', '#543D3F': 'Dark_Grayish_Red', '#3A4B47': 'Dark_Grayish_Green', '#C1B6B3': 'Pinkish_Gray', '#EAE3E1': 'Pinkish_White', '#51585E': 'Dark_Bluish_Gray', '#242124': 'Purplish_Black', '#ECD5C5': 'Pale_Yellowish_Pink', '#2B3D26': 'Dark_Olive_Green', '#BFB8A5': 'Yellowish_Gray', '#5C504F': 'Dark_Reddish_Gray', '#AA98A9': 'Pale_Purple', '#BFB9BD': 'Light_Purplish_Gray', '#F0EAD6': 'Yellowish_White', '#CB6D51': 'Moderate_Reddish_Orange', '#A18F60': 'Dark_Grayish_Yellow', '#C48379': 'Dark_Yellowish_Pink', '#291E29': 'Blackish_Purple'}\n{'#6C541E': 'Moderate_Olive_Brown', '#826644': 'Moderate_Yellowish_Brown', '#654522': 'Deep_Yellowish_Brown', '#996515': 'Strong_Yellowish_Brown', '#593319': 'Deep_Brown', '#4B3621': 'Dark_Yellowish_Brown', '#6F4E37': 'Moderate_Brown', '#A67B5B': 'Light_Brown', '#28201C': 'Brownish_Black', '#7E6D5A': 'Grayish_Yellowish_Brown', '#8C8767': 'Light_Grayish_Olive', '#80461B': 'Strong_Brown', '#5B5842': 'Grayish_Olive', '#C19A6B': 'Light_Yellowish_Brown', '#483C32': 'Dark_Grayish_Yellowish_Brown', '#967117': 'Light_Olive_Brown', '#3B3121': 'Dark_Olive_Brown', '#A18F60': 'Dark_Grayish_Yellow', '#422518': 'Dark_Brown', '#3E322C': 'Dark_Grayish_Brown', '#AE6938': 'Brownish_Orange', '#25241D': 'Olive_Black', '#635147': 'Grayish_Brown', '#958070': 'Light_Grayish_Brown', '#AB9144': 'Dark_Yellow', '#AE9B82': 'Light_Grayish_Yellowish_Brown', '#403D21': 'Dark_Olive', '#57554C': 'Olive_Gray', '#5B504F': 'Brownish_Gray', '#C2B280': 'Grayish_Yellow', '#FAD6A5': 'Pale_Orange_Yellow', '#5D555B': 'Dark_Purplish_Gray', '#BE8A3D': 'Dark_Orange_Yellow', '#555555': 'Dark_Gray', '#282022': 'Reddish_Black', '#C2AC99': 'Brownish_Pink', '#867E36': 'Light_Olive', '#363527': 'Dark_Grayish_Olive', '#796878': 'Grayish_Purple', '#F0EAD6': 'Yellowish_White', '#50404D': 'Dark_Grayish_Purple', '#ECD5C5': 'Pale_Yellowish_Pink', '#8B8589': 'Purplish_Gray', '#848482': 'Medium_Gray', '#8E8279': 'Light_Brownish_Gray', '#BFB8A5': 'Yellowish_Gray', '#242124': 'Purplish_Black', '#81878B': 'Bluish_Gray', '#222222': 'Black', '#F3E5AB': 'Pale_Yellow', '#51585E': 'Dark_Bluish_Gray', '#8A8776': 'Light_Olive_Gray', '#977F73': 'Light_Grayish_Reddish_Brown', '#91A3B0': 'Pale_Blue', '#5C504F': 'Dark_Reddish_Gray', '#BFB9BD': 'Light_Purplish_Gray', '#31362B': 'Dark_Grayish_Olive_Green', '#8F817F': 'Reddish_Gray', '#674C47': 'Grayish_Reddish_Brown', '#C1B6B3': 'Pinkish_Gray', '#9690AB': 'Pale_Violet', '#43302E': 'Dark_Grayish_Reddish_Brown', '#DADFB7': 'Pale_Yellow_Green', '#C4C3DD': 'Very_Pale_Violet', '#B4BCC0': 'Light_Bluish_Gray', '#291E29': 'Blackish_Purple', '#AA98A9': 'Pale_Purple', '#36454F': 'Dark_Grayish_Blue', '#543D3F': 'Dark_Grayish_Red', '#EAE3E1': 'Pinkish_White', '#EAD8D7': 'Pale_Pink', '#C7ADA3': 'Grayish_Yellowish_Pink', '#C4AEAD': 'Grayish_Pink', '#8C92AC': 'Pale_Purplish_Blue', '#D6CADD': 'Very_Pale_Purple', '#202830': 'Blackish_Blue', '#665D1E': 'Moderate_Olive', '#E9E9ED': 'Bluish_White', '#C0C8E1': 'Very_Pale_Purplish_Blue', '#B9B8B5': 'Light_Gray', '#79443B': 'Moderate_Reddish_Brown', '#536878': 'Grayish_Blue', '#B3BCE2': 'Very_Light_Purplish_Blue', '#A87C6D': 'Light_Reddish_Brown', '#2E1D21': 'Blackish_Red', '#5E716A': 'Grayish_Green', '#AD8884': 'Light_Grayish_Red', '#E8E3E5': 'Purplish_White', '#202428': 'Bluish_Black', '#4C516D': 'Grayish_Purplish_Blue', '#BCD4E6': 'Very_Pale_Blue', '#554C69': 'Grayish_Violet', '#3A4B47': 'Dark_Grayish_Green', '#C3A6B1': 'Grayish_Purplish_Pink', '#3E1D1E': 'Dark_Reddish_Brown', '#FBC97F': 'Light_Orange_Yellow', '#C9AE5D': 'Moderate_Yellow', '#DCD0FF': 'Very_Light_Violet', '#E8CCD7': 'Pale_Purplish_Pink', '#8791BF': 'Light_Purplish_Blue', '#4E5755': 'Dark_Greenish_Gray', '#905D5D': 'Grayish_Red', '#7D8984': 'Greenish_Gray', '#8C82B6': 'Light_Violet', '#8DA399': 'Pale_Green', '#4E5180': 'Moderate_Purplish_Blue', '#915F6D': 'Grayish_Purplish_Red', '#1E2321': 'Greenish_Black', '#8F9779': 'Grayish_Yellow_Green', '#DFEDE8': 'Greenish_White', '#D5BADB': 'Very_Light_Purple', '#1A2421': 'Blackish_Green', '#515744': 'Grayish_Olive_Green', '#252440': 'Dark_Purplish_Blue', '#B695C0': 'Light_Purple', '#AF868E': 'Light_Grayish_Purplish_Red', '#B2BEB5': 'Light_Greenish_Gray', '#563C5C': 'Dark_Purple', '#F4C2C2': 'Light_Yellowish_Pink', '#AA8A9E': 'Pale_Reddish_Purple', '#FAB57F': 'Light_Orange', '#436B95': 'Moderate_Blue', '#F9CCCA': 'Light_Pink'}\n{'#593319': 'Deep_Brown', '#422518': 'Dark_Brown', '#654522': 'Deep_Yellowish_Brown', '#81878B': 'Bluish_Gray', '#91A3B0': 'Pale_Blue', '#B4BCC0': 'Light_Bluish_Gray', '#7E6D5A': 'Grayish_Yellowish_Brown', '#848482': 'Medium_Gray', '#3E1D1E': 'Dark_Reddish_Brown', '#826644': 'Moderate_Yellowish_Brown', '#6F4E37': 'Moderate_Brown', '#5B5842': 'Grayish_Olive', '#2E1D21': 'Blackish_Red', '#8A8776': 'Light_Olive_Gray', '#8E8279': 'Light_Brownish_Gray', '#28201C': 'Brownish_Black', '#635147': 'Grayish_Brown', '#B9B8B5': 'Light_Gray', '#8B8589': 'Purplish_Gray', '#4B3621': 'Dark_Yellowish_Brown', '#43302E': 'Dark_Grayish_Reddish_Brown', '#7D8984': 'Greenish_Gray', '#57554C': 'Olive_Gray', '#555555': 'Dark_Gray', '#8F817F': 'Reddish_Gray', '#3E322C': 'Dark_Grayish_Brown', '#5E716A': 'Grayish_Green', '#483C32': 'Dark_Grayish_Yellowish_Brown', '#6C541E': 'Moderate_Olive_Brown', '#958070': 'Light_Grayish_Brown', '#8DA399': 'Pale_Green', '#5B504F': 'Brownish_Gray', '#977F73': 'Light_Grayish_Reddish_Brown', '#8C8767': 'Light_Grayish_Olive', '#674C47': 'Grayish_Reddish_Brown', '#51585E': 'Dark_Bluish_Gray', '#79443B': 'Moderate_Reddish_Brown', '#543D3F': 'Dark_Grayish_Red', '#56070C': 'Deep_Reddish_Brown', '#5D555B': 'Dark_Purplish_Gray', '#5C504F': 'Dark_Reddish_Gray', '#282022': 'Reddish_Black', '#3B3121': 'Dark_Olive_Brown', '#A87C6D': 'Light_Reddish_Brown', '#80461B': 'Strong_Brown', '#25241D': 'Olive_Black', '#50404D': 'Dark_Grayish_Purple', '#AA98A9': 'Pale_Purple', '#36454F': 'Dark_Grayish_Blue', '#222222': 'Black', '#796878': 'Grayish_Purple', '#4E5755': 'Dark_Greenish_Gray', '#905D5D': 'Grayish_Red', '#C4AEAD': 'Grayish_Pink', '#A67B5B': 'Light_Brown', '#291E29': 'Blackish_Purple', '#3A4B47': 'Dark_Grayish_Green', '#BFB9BD': 'Light_Purplish_Gray', '#B4745E': 'Grayish_Reddish_Orange', '#31362B': 'Dark_Grayish_Olive_Green', '#363527': 'Dark_Grayish_Olive', '#403D21': 'Dark_Olive', '#9E4732': 'Dark_Reddish_Orange'}\n{'#593319': 'Deep_Brown', '#422518': 'Dark_Brown', '#AE9B82': 'Light_Grayish_Yellowish_Brown', '#C1B6B3': 'Pinkish_Gray', '#958070': 'Light_Grayish_Brown', '#826644': 'Moderate_Yellowish_Brown', '#A18F60': 'Dark_Grayish_Yellow', '#4B3621': 'Dark_Yellowish_Brown', '#B9B8B5': 'Light_Gray', '#A67B5B': 'Light_Brown', '#654522': 'Deep_Yellowish_Brown', '#6F4E37': 'Moderate_Brown', '#7E6D5A': 'Grayish_Yellowish_Brown', '#C2AC99': 'Brownish_Pink', '#8E8279': 'Light_Brownish_Gray', '#C7ADA3': 'Grayish_Yellowish_Pink', '#BFB8A5': 'Yellowish_Gray', '#8C8767': 'Light_Grayish_Olive', '#483C32': 'Dark_Grayish_Yellowish_Brown', '#977F73': 'Light_Grayish_Reddish_Brown', '#635147': 'Grayish_Brown', '#3B3121': 'Dark_Olive_Brown', '#6C541E': 'Moderate_Olive_Brown', '#8A8776': 'Light_Olive_Gray', '#BFB9BD': 'Light_Purplish_Gray', '#80461B': 'Strong_Brown', '#C4AEAD': 'Grayish_Pink', '#674C47': 'Grayish_Reddish_Brown', '#28201C': 'Brownish_Black', '#43302E': 'Dark_Grayish_Reddish_Brown', '#ECD5C5': 'Pale_Yellowish_Pink', '#3E1D1E': 'Dark_Reddish_Brown', '#A87C6D': 'Light_Reddish_Brown', '#3E322C': 'Dark_Grayish_Brown', '#EAE3E1': 'Pinkish_White', '#F0EAD6': 'Yellowish_White', '#AD8884': 'Light_Grayish_Red', '#8B8589': 'Purplish_Gray', '#2E1D21': 'Blackish_Red', '#EAD8D7': 'Pale_Pink', '#8F817F': 'Reddish_Gray', '#79443B': 'Moderate_Reddish_Brown', '#543D3F': 'Dark_Grayish_Red', '#905D5D': 'Grayish_Red', '#848482': 'Medium_Gray', '#C19A6B': 'Light_Yellowish_Brown', '#F9CCCA': 'Light_Pink'}\n{'#593319': 'Deep_Brown', '#28201C': 'Brownish_Black', '#422518': 'Dark_Brown', '#826644': 'Moderate_Yellowish_Brown', '#C2AC99': 'Brownish_Pink', '#80461B': 'Strong_Brown', '#654522': 'Deep_Yellowish_Brown', '#AE9B82': 'Light_Grayish_Yellowish_Brown', '#6F4E37': 'Moderate_Brown', '#A67B5B': 'Light_Brown', '#4B3621': 'Dark_Yellowish_Brown', '#A18F60': 'Dark_Grayish_Yellow', '#C19A6B': 'Light_Yellowish_Brown', '#ECD5C5': 'Pale_Yellowish_Pink', '#56070C': 'Deep_Reddish_Brown', '#AE6938': 'Brownish_Orange', '#C2B280': 'Grayish_Yellow', '#6C541E': 'Moderate_Olive_Brown', '#3B3121': 'Dark_Olive_Brown', '#958070': 'Light_Grayish_Brown', '#8C8767': 'Light_Grayish_Olive', '#3E1D1E': 'Dark_Reddish_Brown', '#BE8A3D': 'Dark_Orange_Yellow', '#7E6D5A': 'Grayish_Yellowish_Brown', '#996515': 'Strong_Yellowish_Brown', '#A87C6D': 'Light_Reddish_Brown', '#F0EAD6': 'Yellowish_White', '#79443B': 'Moderate_Reddish_Brown', '#2E1D21': 'Blackish_Red', '#977F73': 'Light_Grayish_Reddish_Brown', '#C7ADA3': 'Grayish_Yellowish_Pink', '#25241D': 'Olive_Black', '#674C47': 'Grayish_Reddish_Brown', '#403D21': 'Dark_Olive', '#EAD8D7': 'Pale_Pink', '#EAE3E1': 'Pinkish_White'}\n{'#422518': 'Dark_Brown', '#28201C': 'Brownish_Black', '#57554C': 'Olive_Gray', '#593319': 'Deep_Brown', '#3B3121': 'Dark_Olive_Brown', '#483C32': 'Dark_Grayish_Yellowish_Brown', '#4B3621': 'Dark_Yellowish_Brown', '#3E1D1E': 'Dark_Reddish_Brown', '#635147': 'Grayish_Brown', '#8F817F': 'Reddish_Gray', '#7E6D5A': 'Grayish_Yellowish_Brown', '#8E8279': 'Light_Brownish_Gray', '#222222': 'Black', '#25241D': 'Olive_Black', '#1E2321': 'Greenish_Black', '#848482': 'Medium_Gray', '#6F4E37': 'Moderate_Brown', '#5B5842': 'Grayish_Olive', '#8B8589': 'Purplish_Gray', '#654522': 'Deep_Yellowish_Brown', '#2E1D21': 'Blackish_Red', '#826644': 'Moderate_Yellowish_Brown', '#6C541E': 'Moderate_Olive_Brown', '#403D21': 'Dark_Olive', '#3E322C': 'Dark_Grayish_Brown', '#80461B': 'Strong_Brown', '#8A8776': 'Light_Olive_Gray', '#5C504F': 'Dark_Reddish_Gray', '#B9B8B5': 'Light_Gray', '#674C47': 'Grayish_Reddish_Brown', '#5B504F': 'Brownish_Gray', '#555555': 'Dark_Gray', '#43302E': 'Dark_Grayish_Reddish_Brown', '#8C8767': 'Light_Grayish_Olive', '#5D555B': 'Dark_Purplish_Gray', '#958070': 'Light_Grayish_Brown', '#AE9B82': 'Light_Grayish_Yellowish_Brown', '#A18F60': 'Dark_Grayish_Yellow', '#8DA399': 'Pale_Green', '#7D8984': 'Greenish_Gray', '#5E716A': 'Grayish_Green', '#363527': 'Dark_Grayish_Olive', '#543D3F': 'Dark_Grayish_Red', '#C2AC99': 'Brownish_Pink', '#977F73': 'Light_Grayish_Reddish_Brown', '#AA98A9': 'Pale_Purple', '#C1B6B3': 'Pinkish_Gray', '#C4AEAD': 'Grayish_Pink', '#C7ADA3': 'Grayish_Yellowish_Pink', '#996515': 'Strong_Yellowish_Brown', '#A87C6D': 'Light_Reddish_Brown', '#ECD5C5': 'Pale_Yellowish_Pink', '#31362B': 'Dark_Grayish_Olive_Green', '#F0EAD6': 'Yellowish_White', '#BFB8A5': 'Yellowish_Gray', '#EAD8D7': 'Pale_Pink', '#81878B': 'Bluish_Gray', '#967117': 'Light_Olive_Brown', '#EAE3E1': 'Pinkish_White', '#AD8884': 'Light_Grayish_Red', '#867E36': 'Light_Olive', '#282022': 'Reddish_Black'}\n{'#F0EAD6': 'Yellowish_White', '#AE9B82': 'Light_Grayish_Yellowish_Brown', '#7E6D5A': 'Grayish_Yellowish_Brown', '#958070': 'Light_Grayish_Brown', '#826644': 'Moderate_Yellowish_Brown', '#8E8279': 'Light_Brownish_Gray', '#654522': 'Deep_Yellowish_Brown', '#8C8767': 'Light_Grayish_Olive', '#A18F60': 'Dark_Grayish_Yellow', '#4B3621': 'Dark_Yellowish_Brown', '#C2B280': 'Grayish_Yellow', '#BFB8A5': 'Yellowish_Gray', '#ECD5C5': 'Pale_Yellowish_Pink', '#EAE3E1': 'Pinkish_White', '#8A8776': 'Light_Olive_Gray', '#A67B5B': 'Light_Brown', '#6C541E': 'Moderate_Olive_Brown', '#C2AC99': 'Brownish_Pink', '#593319': 'Deep_Brown', '#422518': 'Dark_Brown', '#635147': 'Grayish_Brown', '#6F4E37': 'Moderate_Brown', '#403D21': 'Dark_Olive', '#3B3121': 'Dark_Olive_Brown', '#5B5842': 'Grayish_Olive', '#FAD6A5': 'Pale_Orange_Yellow', '#8F9779': 'Grayish_Yellow_Green', '#DADFB7': 'Pale_Yellow_Green', '#C19A6B': 'Light_Yellowish_Brown', '#79443B': 'Moderate_Reddish_Brown', '#B9B57D': 'Grayish_Greenish_Yellow', '#F3E5AB': 'Pale_Yellow', '#867E36': 'Light_Olive', '#3E1D1E': 'Dark_Reddish_Brown', '#28201C': 'Brownish_Black', '#C9AE5D': 'Moderate_Yellow', '#665D1E': 'Moderate_Olive', '#AB9144': 'Dark_Yellow', '#EAD8D7': 'Pale_Pink', '#3E322C': 'Dark_Grayish_Brown', '#B2BEB5': 'Light_Greenish_Gray', '#674C47': 'Grayish_Reddish_Brown', '#905D5D': 'Grayish_Red', '#483C32': 'Dark_Grayish_Yellowish_Brown', '#C7ADA3': 'Grayish_Yellowish_Pink', '#AD8884': 'Light_Grayish_Red', '#977F73': 'Light_Grayish_Reddish_Brown', '#C4AEAD': 'Grayish_Pink', '#25241D': 'Olive_Black', '#43302E': 'Dark_Grayish_Reddish_Brown', '#8F817F': 'Reddish_Gray', '#C1B6B3': 'Pinkish_Gray', '#2E1D21': 'Blackish_Red', '#543D3F': 'Dark_Grayish_Red', '#A87C6D': 'Light_Reddish_Brown', '#F9CCCA': 'Light_Pink', '#722F37': 'Dark_Red', '#AF868E': 'Light_Grayish_Purplish_Red', '#E8CCD7': 'Pale_Purplish_Pink', '#915F6D': 'Grayish_Purplish_Red', '#D9A6A9': 'Moderate_Yellowish_Pink', '#E8E3E5': 'Purplish_White', '#56070C': 'Deep_Reddish_Brown', '#C3A6B1': 'Grayish_Purplish_Pink', '#363527': 'Dark_Grayish_Olive', '#DFEDE8': 'Greenish_White', '#F4C2C2': 'Light_Yellowish_Pink', '#5C504F': 'Dark_Reddish_Gray'}\n{'#422518': 'Dark_Brown', '#674C47': 'Grayish_Reddish_Brown', '#5D555B': 'Dark_Purplish_Gray', '#543D3F': 'Dark_Grayish_Red', '#B9B8B5': 'Light_Gray', '#43302E': 'Dark_Grayish_Reddish_Brown', '#3E1D1E': 'Dark_Reddish_Brown', '#593319': 'Deep_Brown', '#5C504F': 'Dark_Reddish_Gray', '#848482': 'Medium_Gray', '#8E8279': 'Light_Brownish_Gray', '#635147': 'Grayish_Brown', '#28201C': 'Brownish_Black', '#8B8589': 'Purplish_Gray', '#4B3621': 'Dark_Yellowish_Brown', '#7E6D5A': 'Grayish_Yellowish_Brown', '#8A8776': 'Light_Olive_Gray', '#6F4E37': 'Moderate_Brown', '#483C32': 'Dark_Grayish_Yellowish_Brown', '#81878B': 'Bluish_Gray', '#958070': 'Light_Grayish_Brown', '#796878': 'Grayish_Purple', '#8F817F': 'Reddish_Gray', '#2E1D21': 'Blackish_Red', '#654522': 'Deep_Yellowish_Brown', '#5B504F': 'Brownish_Gray', '#8DA399': 'Pale_Green', '#50404D': 'Dark_Grayish_Purple', '#3E322C': 'Dark_Grayish_Brown', '#826644': 'Moderate_Yellowish_Brown', '#282022': 'Reddish_Black', '#3B3121': 'Dark_Olive_Brown', '#57554C': 'Olive_Gray', '#C1B6B3': 'Pinkish_Gray', '#AE9B82': 'Light_Grayish_Yellowish_Brown', '#56070C': 'Deep_Reddish_Brown', '#91A3B0': 'Pale_Blue', '#79443B': 'Moderate_Reddish_Brown', '#C4AEAD': 'Grayish_Pink', '#555555': 'Dark_Gray', '#51585E': 'Dark_Bluish_Gray', '#977F73': 'Light_Grayish_Reddish_Brown', '#8C8767': 'Light_Grayish_Olive', '#4C516D': 'Grayish_Purplish_Blue', '#25241D': 'Olive_Black', '#BFB8A5': 'Yellowish_Gray', '#C2AC99': 'Brownish_Pink', '#536878': 'Grayish_Blue', '#36454F': 'Dark_Grayish_Blue', '#C7ADA3': 'Grayish_Yellowish_Pink', '#5B5842': 'Grayish_Olive', '#242124': 'Purplish_Black', '#905D5D': 'Grayish_Red', '#7D8984': 'Greenish_Gray', '#403D21': 'Dark_Olive', '#222222': 'Black', '#363527': 'Dark_Grayish_Olive', '#6C541E': 'Moderate_Olive_Brown', '#836479': 'Grayish_Reddish_Purple', '#291E29': 'Blackish_Purple', '#5E716A': 'Grayish_Green', '#554C69': 'Grayish_Violet', '#AA98A9': 'Pale_Purple', '#5D3954': 'Dark_Reddish_Purple', '#915F6D': 'Grayish_Purplish_Red'}\n{'#7E6D5A': 'Grayish_Yellowish_Brown', '#422518': 'Dark_Brown', '#958070': 'Light_Grayish_Brown', '#EAD8D7': 'Pale_Pink', '#C1B6B3': 'Pinkish_Gray', '#A67B5B': 'Light_Brown', '#A87C6D': 'Light_Reddish_Brown', '#635147': 'Grayish_Brown', '#C2AC99': 'Brownish_Pink', '#EAE3E1': 'Pinkish_White', '#4B3621': 'Dark_Yellowish_Brown', '#6F4E37': 'Moderate_Brown', '#674C47': 'Grayish_Reddish_Brown', '#3E1D1E': 'Dark_Reddish_Brown', '#AE9B82': 'Light_Grayish_Yellowish_Brown', '#BFB8A5': 'Yellowish_Gray', '#43302E': 'Dark_Grayish_Reddish_Brown', '#2E1D21': 'Blackish_Red', '#593319': 'Deep_Brown', '#28201C': 'Brownish_Black', '#79443B': 'Moderate_Reddish_Brown', '#C7ADA3': 'Grayish_Yellowish_Pink', '#826644': 'Moderate_Yellowish_Brown', '#B4745E': 'Grayish_Reddish_Orange', '#977F73': 'Light_Grayish_Reddish_Brown', '#8E8279': 'Light_Brownish_Gray', '#3E322C': 'Dark_Grayish_Brown', '#ECD5C5': 'Pale_Yellowish_Pink', '#3B3121': 'Dark_Olive_Brown', '#483C32': 'Dark_Grayish_Yellowish_Brown', '#543D3F': 'Dark_Grayish_Red', '#B9B8B5': 'Light_Gray', '#905D5D': 'Grayish_Red', '#8F817F': 'Reddish_Gray', '#C4AEAD': 'Grayish_Pink', '#654522': 'Deep_Yellowish_Brown', '#AD8884': 'Light_Grayish_Red', '#BFB9BD': 'Light_Purplish_Gray', '#80461B': 'Strong_Brown', '#F0EAD6': 'Yellowish_White', '#282022': 'Reddish_Black', '#AE6938': 'Brownish_Orange'}\n{'#593319': 'Deep_Brown', '#C19A6B': 'Light_Yellowish_Brown', '#80461B': 'Strong_Brown', '#A67B5B': 'Light_Brown', '#422518': 'Dark_Brown', '#654522': 'Deep_Yellowish_Brown', '#AE6938': 'Brownish_Orange', '#C2AC99': 'Brownish_Pink', '#C2B280': 'Grayish_Yellow', '#826644': 'Moderate_Yellowish_Brown', '#9E4732': 'Dark_Reddish_Orange', '#ECD5C5': 'Pale_Yellowish_Pink', '#28201C': 'Brownish_Black', '#CB6D51': 'Moderate_Reddish_Orange', '#BFB8A5': 'Yellowish_Gray', '#3E1D1E': 'Dark_Reddish_Brown', '#BE8A3D': 'Dark_Orange_Yellow', '#B4745E': 'Grayish_Reddish_Orange', '#D99058': 'Moderate_Orange', '#2E1D21': 'Blackish_Red', '#6F4E37': 'Moderate_Brown', '#996515': 'Strong_Yellowish_Brown', '#4B3621': 'Dark_Yellowish_Brown', '#6C541E': 'Moderate_Olive_Brown', '#79443B': 'Moderate_Reddish_Brown', '#882D17': 'Strong_Reddish_Brown', '#AE9B82': 'Light_Grayish_Yellowish_Brown', '#A87C6D': 'Light_Reddish_Brown'}\n"
    },
    {
     "output_type": "error",
     "ename": "KeyboardInterrupt",
     "evalue": "",
     "traceback": [
      "\u001b[0;31m---------------------------------------------------------------------------\u001b[0m",
      "\u001b[0;31mKeyboardInterrupt\u001b[0m                         Traceback (most recent call last)",
      "\u001b[0;32m<ipython-input-12-7debe11a445c>\u001b[0m in \u001b[0;36m<module>\u001b[0;34m\u001b[0m\n\u001b[1;32m      6\u001b[0m \u001b[0;34m\u001b[0m\u001b[0m\n\u001b[1;32m      7\u001b[0m     \u001b[0mpath_img\u001b[0m \u001b[0;34m=\u001b[0m \u001b[0mos\u001b[0m\u001b[0;34m.\u001b[0m\u001b[0mpath\u001b[0m\u001b[0;34m.\u001b[0m\u001b[0mjoin\u001b[0m\u001b[0;34m(\u001b[0m\u001b[0mpath\u001b[0m\u001b[0;34m,\u001b[0m \u001b[0mimg_name\u001b[0m\u001b[0;34m)\u001b[0m\u001b[0;34m\u001b[0m\u001b[0;34m\u001b[0m\u001b[0m\n\u001b[0;32m----> 8\u001b[0;31m     \u001b[0mdict_color\u001b[0m\u001b[0;34m,\u001b[0m \u001b[0mdict_temp_names\u001b[0m \u001b[0;34m=\u001b[0m \u001b[0mimg_to_vec\u001b[0m\u001b[0;34m(\u001b[0m\u001b[0mpath_img\u001b[0m\u001b[0;34m)\u001b[0m\u001b[0;34m\u001b[0m\u001b[0;34m\u001b[0m\u001b[0m\n\u001b[0m\u001b[1;32m      9\u001b[0m     \u001b[0mprint\u001b[0m\u001b[0;34m(\u001b[0m\u001b[0mdict_temp_names\u001b[0m\u001b[0;34m)\u001b[0m\u001b[0;34m\u001b[0m\u001b[0;34m\u001b[0m\u001b[0m\n\u001b[1;32m     10\u001b[0m     \u001b[0;32mfor\u001b[0m \u001b[0mcolor_hex\u001b[0m \u001b[0;32min\u001b[0m \u001b[0mdf_vec\u001b[0m\u001b[0;34m.\u001b[0m\u001b[0mcolumns\u001b[0m\u001b[0;34m:\u001b[0m\u001b[0;34m\u001b[0m\u001b[0;34m\u001b[0m\u001b[0m\n",
      "\u001b[0;32m<ipython-input-11-8cb2d5796e2b>\u001b[0m in \u001b[0;36mimg_to_vec\u001b[0;34m(img_path)\u001b[0m\n\u001b[1;32m      6\u001b[0m     \u001b[0marr_iscc_lab\u001b[0m \u001b[0;34m=\u001b[0m \u001b[0mnp\u001b[0m\u001b[0;34m.\u001b[0m\u001b[0marray\u001b[0m\u001b[0;34m(\u001b[0m\u001b[0mdf_iscc\u001b[0m\u001b[0;34m[\u001b[0m\u001b[0;34m'Lab'\u001b[0m\u001b[0;34m]\u001b[0m\u001b[0;34m.\u001b[0m\u001b[0mtolist\u001b[0m\u001b[0;34m(\u001b[0m\u001b[0;34m)\u001b[0m\u001b[0;34m)\u001b[0m\u001b[0;34m\u001b[0m\u001b[0;34m\u001b[0m\u001b[0m\n\u001b[1;32m      7\u001b[0m     \u001b[0mquantized_img_lab\u001b[0m \u001b[0;34m=\u001b[0m \u001b[0mfind_the_cloeset_iscc\u001b[0m\u001b[0;34m(\u001b[0m\u001b[0marr_img_lab\u001b[0m\u001b[0;34m,\u001b[0m \u001b[0marr_iscc_lab\u001b[0m\u001b[0;34m)\u001b[0m\u001b[0;34m\u001b[0m\u001b[0;34m\u001b[0m\u001b[0m\n\u001b[0;32m----> 8\u001b[0;31m     \u001b[0mquantized_img_rgb\u001b[0m \u001b[0;34m=\u001b[0m \u001b[0mconvert_to_rgb\u001b[0m\u001b[0;34m(\u001b[0m\u001b[0mquantized_img_lab\u001b[0m\u001b[0;34m)\u001b[0m\u001b[0;34m.\u001b[0m\u001b[0mreshape\u001b[0m\u001b[0;34m(\u001b[0m\u001b[0mimg\u001b[0m\u001b[0;34m.\u001b[0m\u001b[0mshape\u001b[0m\u001b[0;34m[\u001b[0m\u001b[0;36m0\u001b[0m\u001b[0;34m]\u001b[0m\u001b[0;34m,\u001b[0m \u001b[0mimg\u001b[0m\u001b[0;34m.\u001b[0m\u001b[0mshape\u001b[0m\u001b[0;34m[\u001b[0m\u001b[0;36m1\u001b[0m\u001b[0;34m]\u001b[0m\u001b[0;34m,\u001b[0m \u001b[0;36m3\u001b[0m\u001b[0;34m)\u001b[0m\u001b[0;34m\u001b[0m\u001b[0;34m\u001b[0m\u001b[0m\n\u001b[0m\u001b[1;32m      9\u001b[0m     \u001b[0mbackground_lab\u001b[0m \u001b[0;34m=\u001b[0m \u001b[0mnp\u001b[0m\u001b[0;34m.\u001b[0m\u001b[0marray\u001b[0m\u001b[0;34m(\u001b[0m\u001b[0;34m[\u001b[0m\u001b[0;36m95.7931405\u001b[0m \u001b[0;34m,\u001b[0m \u001b[0;34m-\u001b[0m\u001b[0;36m0.15465805\u001b[0m\u001b[0;34m,\u001b[0m \u001b[0;34m-\u001b[0m\u001b[0;36m0.6054342\u001b[0m\u001b[0;34m]\u001b[0m\u001b[0;34m)\u001b[0m\u001b[0;34m\u001b[0m\u001b[0;34m\u001b[0m\u001b[0m\n\u001b[1;32m     10\u001b[0m     \u001b[0;34m(\u001b[0m\u001b[0munique\u001b[0m\u001b[0;34m,\u001b[0m \u001b[0mcounts\u001b[0m\u001b[0;34m)\u001b[0m \u001b[0;34m=\u001b[0m \u001b[0mnp\u001b[0m\u001b[0;34m.\u001b[0m\u001b[0munique\u001b[0m\u001b[0;34m(\u001b[0m\u001b[0mquantized_img_lab\u001b[0m\u001b[0;34m,\u001b[0m \u001b[0mreturn_counts\u001b[0m\u001b[0;34m=\u001b[0m\u001b[0;32mTrue\u001b[0m\u001b[0;34m,\u001b[0m \u001b[0maxis\u001b[0m\u001b[0;34m=\u001b[0m\u001b[0;36m0\u001b[0m\u001b[0;34m)\u001b[0m\u001b[0;34m\u001b[0m\u001b[0;34m\u001b[0m\u001b[0m\n",
      "\u001b[0;32m<ipython-input-9-695dcc9a26df>\u001b[0m in \u001b[0;36mconvert_to_rgb\u001b[0;34m(arr_lab)\u001b[0m\n\u001b[1;32m     19\u001b[0m     \u001b[0;32mfor\u001b[0m \u001b[0mrow\u001b[0m \u001b[0;32min\u001b[0m \u001b[0marr_lab\u001b[0m\u001b[0;34m:\u001b[0m\u001b[0;34m\u001b[0m\u001b[0;34m\u001b[0m\u001b[0m\n\u001b[1;32m     20\u001b[0m         \u001b[0ml\u001b[0m\u001b[0;34m,\u001b[0m \u001b[0ma\u001b[0m\u001b[0;34m,\u001b[0m \u001b[0mb\u001b[0m \u001b[0;34m=\u001b[0m \u001b[0mrow\u001b[0m\u001b[0;34m\u001b[0m\u001b[0;34m\u001b[0m\u001b[0m\n\u001b[0;32m---> 21\u001b[0;31m         \u001b[0mlist_rgb\u001b[0m\u001b[0;34m.\u001b[0m\u001b[0mappend\u001b[0m\u001b[0;34m(\u001b[0m\u001b[0mconvert_color\u001b[0m\u001b[0;34m(\u001b[0m\u001b[0mLabColor\u001b[0m\u001b[0;34m(\u001b[0m\u001b[0ml\u001b[0m\u001b[0;34m,\u001b[0m \u001b[0ma\u001b[0m\u001b[0;34m,\u001b[0m \u001b[0mb\u001b[0m\u001b[0;34m)\u001b[0m\u001b[0;34m,\u001b[0m \u001b[0msRGBColor\u001b[0m\u001b[0;34m)\u001b[0m\u001b[0;34m.\u001b[0m\u001b[0mget_value_tuple\u001b[0m\u001b[0;34m(\u001b[0m\u001b[0;34m)\u001b[0m\u001b[0;34m)\u001b[0m\u001b[0;34m\u001b[0m\u001b[0;34m\u001b[0m\u001b[0m\n\u001b[0m\u001b[1;32m     22\u001b[0m     \u001b[0;32mreturn\u001b[0m \u001b[0mnp\u001b[0m\u001b[0;34m.\u001b[0m\u001b[0marray\u001b[0m\u001b[0;34m(\u001b[0m\u001b[0mlist_rgb\u001b[0m\u001b[0;34m)\u001b[0m\u001b[0;34m\u001b[0m\u001b[0;34m\u001b[0m\u001b[0m\n\u001b[1;32m     23\u001b[0m \u001b[0;34m\u001b[0m\u001b[0m\n",
      "\u001b[0;32m~/opt/anaconda3/lib/python3.8/site-packages/colormath/color_conversions.py\u001b[0m in \u001b[0;36mconvert_color\u001b[0;34m(color, target_cs, through_rgb_type, target_illuminant, *args, **kwargs)\u001b[0m\n\u001b[1;32m    937\u001b[0m         \u001b[0;32mraise\u001b[0m \u001b[0mValueError\u001b[0m\u001b[0;34m(\u001b[0m\u001b[0;34m\"target_cs parameter must be a Color object.\"\u001b[0m\u001b[0;34m)\u001b[0m\u001b[0;34m\u001b[0m\u001b[0;34m\u001b[0m\u001b[0m\n\u001b[1;32m    938\u001b[0m \u001b[0;34m\u001b[0m\u001b[0m\n\u001b[0;32m--> 939\u001b[0;31m     \u001b[0mconversions\u001b[0m \u001b[0;34m=\u001b[0m \u001b[0m_conversion_manager\u001b[0m\u001b[0;34m.\u001b[0m\u001b[0mget_conversion_path\u001b[0m\u001b[0;34m(\u001b[0m\u001b[0mcolor\u001b[0m\u001b[0;34m.\u001b[0m\u001b[0m__class__\u001b[0m\u001b[0;34m,\u001b[0m \u001b[0mtarget_cs\u001b[0m\u001b[0;34m)\u001b[0m\u001b[0;34m\u001b[0m\u001b[0;34m\u001b[0m\u001b[0m\n\u001b[0m\u001b[1;32m    940\u001b[0m \u001b[0;34m\u001b[0m\u001b[0m\n\u001b[1;32m    941\u001b[0m     \u001b[0mlogger\u001b[0m\u001b[0;34m.\u001b[0m\u001b[0mdebug\u001b[0m\u001b[0;34m(\u001b[0m\u001b[0;34m'Converting %s to %s'\u001b[0m\u001b[0;34m,\u001b[0m \u001b[0mcolor\u001b[0m\u001b[0;34m,\u001b[0m \u001b[0mtarget_cs\u001b[0m\u001b[0;34m)\u001b[0m\u001b[0;34m\u001b[0m\u001b[0;34m\u001b[0m\u001b[0m\n",
      "\u001b[0;32m~/opt/anaconda3/lib/python3.8/site-packages/colormath/color_conversions.py\u001b[0m in \u001b[0;36mget_conversion_path\u001b[0;34m(self, start_type, target_type)\u001b[0m\n\u001b[1;32m    115\u001b[0m         \u001b[0;32mtry\u001b[0m\u001b[0;34m:\u001b[0m\u001b[0;34m\u001b[0m\u001b[0;34m\u001b[0m\u001b[0m\n\u001b[1;32m    116\u001b[0m             \u001b[0;31m# Retrieve node sequence that leads from start_type to target_type.\u001b[0m\u001b[0;34m\u001b[0m\u001b[0;34m\u001b[0m\u001b[0;34m\u001b[0m\u001b[0m\n\u001b[0;32m--> 117\u001b[0;31m             \u001b[0;32mreturn\u001b[0m \u001b[0mself\u001b[0m\u001b[0;34m.\u001b[0m\u001b[0m_find_shortest_path\u001b[0m\u001b[0;34m(\u001b[0m\u001b[0mstart_type\u001b[0m\u001b[0;34m,\u001b[0m \u001b[0mtarget_type\u001b[0m\u001b[0;34m)\u001b[0m\u001b[0;34m\u001b[0m\u001b[0;34m\u001b[0m\u001b[0m\n\u001b[0m\u001b[1;32m    118\u001b[0m         \u001b[0;32mexcept\u001b[0m \u001b[0;34m(\u001b[0m\u001b[0mnetworkx\u001b[0m\u001b[0;34m.\u001b[0m\u001b[0mNetworkXNoPath\u001b[0m\u001b[0;34m,\u001b[0m \u001b[0mnetworkx\u001b[0m\u001b[0;34m.\u001b[0m\u001b[0mNodeNotFound\u001b[0m\u001b[0;34m)\u001b[0m\u001b[0;34m:\u001b[0m\u001b[0;34m\u001b[0m\u001b[0;34m\u001b[0m\u001b[0m\n\u001b[1;32m    119\u001b[0m             raise UndefinedConversionError(\n",
      "\u001b[0;32m~/opt/anaconda3/lib/python3.8/site-packages/colormath/color_conversions.py\u001b[0m in \u001b[0;36m_find_shortest_path\u001b[0;34m(self, start_type, target_type)\u001b[0m\n\u001b[1;32m    123\u001b[0m \u001b[0;34m\u001b[0m\u001b[0m\n\u001b[1;32m    124\u001b[0m     \u001b[0;32mdef\u001b[0m \u001b[0m_find_shortest_path\u001b[0m\u001b[0;34m(\u001b[0m\u001b[0mself\u001b[0m\u001b[0;34m,\u001b[0m \u001b[0mstart_type\u001b[0m\u001b[0;34m,\u001b[0m \u001b[0mtarget_type\u001b[0m\u001b[0;34m)\u001b[0m\u001b[0;34m:\u001b[0m\u001b[0;34m\u001b[0m\u001b[0;34m\u001b[0m\u001b[0m\n\u001b[0;32m--> 125\u001b[0;31m         path = networkx.shortest_path(\n\u001b[0m\u001b[1;32m    126\u001b[0m             self.conversion_graph, start_type, target_type)\n\u001b[1;32m    127\u001b[0m         \u001b[0;31m# Look up edges between nodes and retrieve the conversion function\u001b[0m\u001b[0;34m\u001b[0m\u001b[0;34m\u001b[0m\u001b[0;34m\u001b[0m\u001b[0m\n",
      "\u001b[0;32m~/opt/anaconda3/lib/python3.8/site-packages/networkx/algorithms/shortest_paths/generic.py\u001b[0m in \u001b[0;36mshortest_path\u001b[0;34m(G, source, target, weight, method)\u001b[0m\n\u001b[1;32m    168\u001b[0m             \u001b[0;31m# Find shortest source-target path.\u001b[0m\u001b[0;34m\u001b[0m\u001b[0;34m\u001b[0m\u001b[0;34m\u001b[0m\u001b[0m\n\u001b[1;32m    169\u001b[0m             \u001b[0;32mif\u001b[0m \u001b[0mmethod\u001b[0m \u001b[0;34m==\u001b[0m \u001b[0;34m'unweighted'\u001b[0m\u001b[0;34m:\u001b[0m\u001b[0;34m\u001b[0m\u001b[0;34m\u001b[0m\u001b[0m\n\u001b[0;32m--> 170\u001b[0;31m                 \u001b[0mpaths\u001b[0m \u001b[0;34m=\u001b[0m \u001b[0mnx\u001b[0m\u001b[0;34m.\u001b[0m\u001b[0mbidirectional_shortest_path\u001b[0m\u001b[0;34m(\u001b[0m\u001b[0mG\u001b[0m\u001b[0;34m,\u001b[0m \u001b[0msource\u001b[0m\u001b[0;34m,\u001b[0m \u001b[0mtarget\u001b[0m\u001b[0;34m)\u001b[0m\u001b[0;34m\u001b[0m\u001b[0;34m\u001b[0m\u001b[0m\n\u001b[0m\u001b[1;32m    171\u001b[0m             \u001b[0;32melif\u001b[0m \u001b[0mmethod\u001b[0m \u001b[0;34m==\u001b[0m \u001b[0;34m'dijkstra'\u001b[0m\u001b[0;34m:\u001b[0m\u001b[0;34m\u001b[0m\u001b[0;34m\u001b[0m\u001b[0m\n\u001b[1;32m    172\u001b[0m                 \u001b[0mpaths\u001b[0m \u001b[0;34m=\u001b[0m \u001b[0mnx\u001b[0m\u001b[0;34m.\u001b[0m\u001b[0mdijkstra_path\u001b[0m\u001b[0;34m(\u001b[0m\u001b[0mG\u001b[0m\u001b[0;34m,\u001b[0m \u001b[0msource\u001b[0m\u001b[0;34m,\u001b[0m \u001b[0mtarget\u001b[0m\u001b[0;34m,\u001b[0m \u001b[0mweight\u001b[0m\u001b[0;34m)\u001b[0m\u001b[0;34m\u001b[0m\u001b[0;34m\u001b[0m\u001b[0m\n",
      "\u001b[0;32m~/opt/anaconda3/lib/python3.8/site-packages/networkx/algorithms/shortest_paths/unweighted.py\u001b[0m in \u001b[0;36mbidirectional_shortest_path\u001b[0;34m(G, source, target)\u001b[0m\n\u001b[1;32m    224\u001b[0m \u001b[0;34m\u001b[0m\u001b[0m\n\u001b[1;32m    225\u001b[0m     \u001b[0;31m# call helper to do the real work\u001b[0m\u001b[0;34m\u001b[0m\u001b[0;34m\u001b[0m\u001b[0;34m\u001b[0m\u001b[0m\n\u001b[0;32m--> 226\u001b[0;31m     \u001b[0mresults\u001b[0m \u001b[0;34m=\u001b[0m \u001b[0m_bidirectional_pred_succ\u001b[0m\u001b[0;34m(\u001b[0m\u001b[0mG\u001b[0m\u001b[0;34m,\u001b[0m \u001b[0msource\u001b[0m\u001b[0;34m,\u001b[0m \u001b[0mtarget\u001b[0m\u001b[0;34m)\u001b[0m\u001b[0;34m\u001b[0m\u001b[0;34m\u001b[0m\u001b[0m\n\u001b[0m\u001b[1;32m    227\u001b[0m     \u001b[0mpred\u001b[0m\u001b[0;34m,\u001b[0m \u001b[0msucc\u001b[0m\u001b[0;34m,\u001b[0m \u001b[0mw\u001b[0m \u001b[0;34m=\u001b[0m \u001b[0mresults\u001b[0m\u001b[0;34m\u001b[0m\u001b[0;34m\u001b[0m\u001b[0m\n\u001b[1;32m    228\u001b[0m \u001b[0;34m\u001b[0m\u001b[0m\n",
      "\u001b[0;32m~/opt/anaconda3/lib/python3.8/site-packages/networkx/algorithms/shortest_paths/unweighted.py\u001b[0m in \u001b[0;36m_bidirectional_pred_succ\u001b[0;34m(G, source, target)\u001b[0m\n\u001b[1;32m    256\u001b[0m     \u001b[0;31m# handle either directed or undirected\u001b[0m\u001b[0;34m\u001b[0m\u001b[0;34m\u001b[0m\u001b[0;34m\u001b[0m\u001b[0m\n\u001b[1;32m    257\u001b[0m     \u001b[0;32mif\u001b[0m \u001b[0mG\u001b[0m\u001b[0;34m.\u001b[0m\u001b[0mis_directed\u001b[0m\u001b[0;34m(\u001b[0m\u001b[0;34m)\u001b[0m\u001b[0;34m:\u001b[0m\u001b[0;34m\u001b[0m\u001b[0;34m\u001b[0m\u001b[0m\n\u001b[0;32m--> 258\u001b[0;31m         \u001b[0mGpred\u001b[0m \u001b[0;34m=\u001b[0m \u001b[0mG\u001b[0m\u001b[0;34m.\u001b[0m\u001b[0mpred\u001b[0m\u001b[0;34m\u001b[0m\u001b[0;34m\u001b[0m\u001b[0m\n\u001b[0m\u001b[1;32m    259\u001b[0m         \u001b[0mGsucc\u001b[0m \u001b[0;34m=\u001b[0m \u001b[0mG\u001b[0m\u001b[0;34m.\u001b[0m\u001b[0msucc\u001b[0m\u001b[0;34m\u001b[0m\u001b[0;34m\u001b[0m\u001b[0m\n\u001b[1;32m    260\u001b[0m     \u001b[0;32melse\u001b[0m\u001b[0;34m:\u001b[0m\u001b[0;34m\u001b[0m\u001b[0;34m\u001b[0m\u001b[0m\n",
      "\u001b[0;32m~/opt/anaconda3/lib/python3.8/site-packages/networkx/classes/digraph.py\u001b[0m in \u001b[0;36mpred\u001b[0;34m(self)\u001b[0m\n\u001b[1;32m    377\u001b[0m         \u001b[0mA\u001b[0m \u001b[0mdefault\u001b[0m \u001b[0mcan\u001b[0m \u001b[0mbe\u001b[0m \u001b[0mset\u001b[0m \u001b[0mvia\u001b[0m \u001b[0ma\u001b[0m\u001b[0;31m \u001b[0m\u001b[0;31m`\u001b[0m\u001b[0mdefault\u001b[0m\u001b[0;31m`\u001b[0m \u001b[0margument\u001b[0m \u001b[0mto\u001b[0m \u001b[0mthe\u001b[0m\u001b[0;31m \u001b[0m\u001b[0;31m`\u001b[0m\u001b[0mdata\u001b[0m\u001b[0;31m`\u001b[0m \u001b[0mmethod\u001b[0m\u001b[0;34m.\u001b[0m\u001b[0;34m\u001b[0m\u001b[0;34m\u001b[0m\u001b[0m\n\u001b[1;32m    378\u001b[0m         \"\"\"\n\u001b[0;32m--> 379\u001b[0;31m         \u001b[0;32mreturn\u001b[0m \u001b[0mAdjacencyView\u001b[0m\u001b[0;34m(\u001b[0m\u001b[0mself\u001b[0m\u001b[0;34m.\u001b[0m\u001b[0m_pred\u001b[0m\u001b[0;34m)\u001b[0m\u001b[0;34m\u001b[0m\u001b[0;34m\u001b[0m\u001b[0m\n\u001b[0m\u001b[1;32m    380\u001b[0m \u001b[0;34m\u001b[0m\u001b[0m\n\u001b[1;32m    381\u001b[0m     \u001b[0;32mdef\u001b[0m \u001b[0madd_node\u001b[0m\u001b[0;34m(\u001b[0m\u001b[0mself\u001b[0m\u001b[0;34m,\u001b[0m \u001b[0mnode_for_adding\u001b[0m\u001b[0;34m,\u001b[0m \u001b[0;34m**\u001b[0m\u001b[0mattr\u001b[0m\u001b[0;34m)\u001b[0m\u001b[0;34m:\u001b[0m\u001b[0;34m\u001b[0m\u001b[0;34m\u001b[0m\u001b[0m\n",
      "\u001b[0;32m~/opt/anaconda3/lib/python3.8/site-packages/networkx/classes/coreviews.py\u001b[0m in \u001b[0;36m__init__\u001b[0;34m(self, d)\u001b[0m\n\u001b[1;32m     43\u001b[0m \u001b[0;34m\u001b[0m\u001b[0m\n\u001b[1;32m     44\u001b[0m     \u001b[0;32mdef\u001b[0m \u001b[0m__init__\u001b[0m\u001b[0;34m(\u001b[0m\u001b[0mself\u001b[0m\u001b[0;34m,\u001b[0m \u001b[0md\u001b[0m\u001b[0;34m)\u001b[0m\u001b[0;34m:\u001b[0m\u001b[0;34m\u001b[0m\u001b[0;34m\u001b[0m\u001b[0m\n\u001b[0;32m---> 45\u001b[0;31m         \u001b[0mself\u001b[0m\u001b[0;34m.\u001b[0m\u001b[0m_atlas\u001b[0m \u001b[0;34m=\u001b[0m \u001b[0md\u001b[0m\u001b[0;34m\u001b[0m\u001b[0;34m\u001b[0m\u001b[0m\n\u001b[0m\u001b[1;32m     46\u001b[0m \u001b[0;34m\u001b[0m\u001b[0m\n\u001b[1;32m     47\u001b[0m     \u001b[0;32mdef\u001b[0m \u001b[0m__len__\u001b[0m\u001b[0;34m(\u001b[0m\u001b[0mself\u001b[0m\u001b[0;34m)\u001b[0m\u001b[0;34m:\u001b[0m\u001b[0;34m\u001b[0m\u001b[0;34m\u001b[0m\u001b[0m\n",
      "\u001b[0;31mKeyboardInterrupt\u001b[0m: "
     ]
    }
   ],
   "source": [
    "\n",
    "path = os.path.join('images', 'blood')\n",
    "df_vec = pd.DataFrame(columns = df_iscc['hex'].values) \n",
    "for img_name in os.listdir(path):\n",
    "    if img_name.startswith('.'):\n",
    "        continue\n",
    "        \n",
    "    path_img = os.path.join(path, img_name)\n",
    "    dict_color, dict_temp_names = img_to_vec(path_img)\n",
    "    print(dict_temp_names)\n",
    "    for color_hex in df_vec.columns:\n",
    "        if color_hex not in dict_color.keys():\n",
    "            dict_color[color_hex] = 0\n",
    "    df_vec = df_vec.append(dict_color,ignore_index=True,sort=False)\n",
    "    # print(df_vec)\n",
    "    "
   ]
  },
  {
   "cell_type": "code",
   "execution_count": 59,
   "metadata": {},
   "outputs": [],
   "source": [
    "def place_red_values_in_csv(dominant_color_names, dict_color_count, concern_color = 'Red'):\n",
    "    dict_red = {}\n",
    "    df_vec = pd.DataFrame(columns = df_iscc['hex'].values) \n",
    "    count = 0\n",
    "    df_red_vec = pd.DataFrame(columns = df_iscc['hex'].values)\n",
    "    for color_hex in dominant_color_names:\n",
    "        name = dominant_color_names.get(color_hex)\n",
    "        if concern_color in name:\n",
    "            color_hex = get_key(dominant_color_names, name)\n",
    "            count += 1\n",
    "            dict_red[color_hex] = dict_color_count[color_hex]\n",
    "            # count += dict_dominant_color_count[color_hex]\n",
    "            # color_concerns.append(color_name)\n",
    "            df_red_vec = df_red_vec.append(dict_red,ignore_index=True,sort=False)\n",
    "\n",
    "    print(dict_red)\n",
    "    print(count)"
   ]
  },
  {
   "cell_type": "code",
   "execution_count": 60,
   "metadata": {
    "tags": []
   },
   "outputs": [
    {
     "output_type": "stream",
     "name": "stdout",
     "text": "{'#3E1D1E': 0.0019151138716356107, '#882D17': 0.0019151138716356107, '#56070C': 0.0015269151138716356, '#79443B': 0.0001915113871635611, '#AA381E': 0.00015010351966873706, '#2E1D21': 8.281573498964803e-05}\n6\nEmpty DataFrame\nColumns: [#FFB5BA, #EA9399, #E4717A, #F9CCCA, #DEA5A4, #C08081, #EAD8D7, #C4AEAD, #EAE3E1, #C1B6B3, #BE0032, #BC3F4A, #841B2D, #5C0923, #AB4E52, #722F37, #3F1728, #AD8884, #905D5D, #543D3F, #2E1D21, #8F817F, #5C504F, #282022, #FFB7A5, #F99379, #E66721, #F4C2C2, #D9A6A9, #C48379, #ECD5C5, #C7ADA3, #C2AC99, #E25822, #D9603B, #AA381E, #CB6D51, #9E4732, #B4745E, #882D17, #56070C, #A87C6D, #79443B, #3E1D1E, #977F73, #674C47, #43302E, #F38400, #FD943F, #ED872D, #BE6516, #FAB57F, #D99058, #AE6938, #80461B, #593319, #A67B5B, #6F4E37, #422518, #958070, #635147, #3E322C, #8E8279, #5B504F, #28201C, #F6A600, #FFC14F, #EAA221, #C98500, #FBC97F, #E3A857, #BE8A3D, #FAD6A5, #996515, #654522, #C19A6B, #826644, #4B3621, #AE9B82, #7E6D5A, #483C32, #F3C300, #FADA5E, #D4AF37, #AF8D13, #F8DE7E, #C9AE5D, #AB9144, #F3E5AB, #C2B280, #A18F60, #F0EAD6, #BFB8A5, #967117, #6C541E, #3B3121, #DCD300, #E9E450, #BEB72E, #9B9400, ...]\nIndex: []\n\n[0 rows x 267 columns]\n"
    }
   ],
   "source": [
    "path = os.path.join('images', 'blood')\n",
    "df_red_vec = pd.DataFrame(columns = df_iscc['hex'].values) \n",
    "\n",
    "for img_name in os.listdir(path):\n",
    "    if img_name.startswith('.'):\n",
    "        continue\n",
    "    path_img = os.path.join(path, img_name)\n",
    "    dict_color, dict_names = img_to_vec(path_img)\n",
    "\n",
    "    place_red_values_in_csv(dict_names, dict_color, 'Red')\n",
    "    # for color_hex in df_vec.columns:\n",
    "    #     if color_hex not in dict_color.keys():\n",
    "    #         dict_color[color_hex] = 0\n",
    "    break\n",
    "print(df_red_vec)"
   ]
  },
  {
   "cell_type": "code",
   "execution_count": null,
   "metadata": {},
   "outputs": [],
   "source": [
    "df_vec.shape"
   ]
  },
  {
   "cell_type": "code",
   "execution_count": null,
   "metadata": {},
   "outputs": [],
   "source": [
    "df_vec.to_csv(os.path.join(path, 'blood.csv'), index=False)"
   ]
  },
  {
   "cell_type": "code",
   "execution_count": null,
   "metadata": {},
   "outputs": [],
   "source": [
    "df_red_vec.to_csv(os.path.join(path, 'onlyRed.csv'), index = False)"
   ]
  },
  {
   "cell_type": "code",
   "execution_count": null,
   "metadata": {},
   "outputs": [],
   "source": []
  }
 ],
 "metadata": {
  "kernelspec": {
   "display_name": "Python 3",
   "language": "python",
   "name": "python3"
  },
  "language_info": {
   "codemirror_mode": {
    "name": "ipython",
    "version": 3
   },
   "file_extension": ".py",
   "mimetype": "text/x-python",
   "name": "python",
   "nbconvert_exporter": "python",
   "pygments_lexer": "ipython3",
   "version": "3.8.3-final"
  }
 },
 "nbformat": 4,
 "nbformat_minor": 4
}