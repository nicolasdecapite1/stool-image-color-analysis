{
 "cells": [
  {
   "cell_type": "code",
   "execution_count": 11,
   "metadata": {},
   "outputs": [],
   "source": [
    "'''\n",
    "Import necessary packages\n",
    "'''\n",
    "import os\n",
    "import pandas as pd\n",
    "import numpy as np\n",
    "from scipy.spatial.distance import cdist\n",
    "import csv\n",
    "import matplotlib.pyplot as plt\n",
    "import imageio\n",
    "from colormath.color_objects import sRGBColor, LabColor\n",
    "from colormath.color_conversions import convert_color\n",
    "from PIL import Image\n",
    "# import cv2\n",
    "from collections import Counter\n",
    "\n",
    "np.set_printoptions(precision=3)\n",
    "\n",
    "%matplotlib inline"
   ]
  },
  {
   "cell_type": "code",
   "execution_count": 2,
   "metadata": {},
   "outputs": [],
   "source": [
    "def convert_to_lab(arr_rgb):\n",
    "    '''\n",
    "    This function will transform every rgb value in the list to lab. \n",
    "    '''\n",
    "    \n",
    "    list_lab = []\n",
    "    for row in arr_rgb:\n",
    "        r, g, b = row\n",
    "        list_lab.append(convert_color(sRGBColor(r, g, b, is_upscaled=True), LabColor).get_value_tuple())\n",
    "    return np.array(list_lab)\n",
    "\n",
    "\n",
    "def convert_to_rgb(arr_lab):\n",
    "    '''\n",
    "    This function will transform every rgb value in the list to lab. \n",
    "    '''\n",
    "    \n",
    "    list_rgb = []\n",
    "    for row in arr_lab:\n",
    "        l, a, b = row\n",
    "        list_rgb.append(convert_color(LabColor(l, a, b), sRGBColor).get_value_tuple())\n",
    "    return np.array(list_rgb)\n",
    "\n",
    "def find_the_cloeset_iscc(arr_img_lab, arr_iscc_lab):\n",
    "    \n",
    "    return arr_iscc_lab[np.argmin(cdist(arr_img_lab, arr_iscc_lab), 1)] \n",
    "\n",
    "# function to return key for any value \n",
    "def get_key(my_dict, val): \n",
    "    for key, value in my_dict.items(): \n",
    "         if val == value: \n",
    "                return key \n",
    "    return \"key doesn't exist\"\n",
    "      "
   ]
  },
  {
   "cell_type": "code",
   "execution_count": 3,
   "metadata": {},
   "outputs": [],
   "source": [
    "'''\n",
    "Define the color card with ISCC_NBS\n",
    "'''\n",
    "\n",
    "# Read ISCC from local file\n",
    "path_iscc = os.path.join('ISCC_NBS', 'ISCC_NBS_w3.csv')\n",
    "df_iscc = pd.read_csv(path_iscc, names = ['color_name', 'hex'])\n",
    "\n",
    "# Get the RGB and CIE-Lab values for each color in ISCC color card\n",
    "df_iscc['RGB'] = \"\"\n",
    "df_iscc['Lab'] = \"\"\n",
    "for index, row in df_iscc.iterrows(): \n",
    "    df_iscc.loc[index, 'RGB'] = sRGBColor.new_from_rgb_hex(row['hex'])\n",
    "    df_iscc.loc[index, 'Lab'] = convert_color(df_iscc.loc[index, 'RGB'], LabColor).get_value_tuple()"
   ]
  },
  {
   "cell_type": "code",
   "execution_count": 4,
   "metadata": {
    "tags": []
   },
   "outputs": [],
   "source": [
    "'''\n",
    "Define the color card with ISCC_NBS for only red colors\n",
    "'''\n",
    "\n",
    "# Read ISCC from local file\n",
    "path_red_iscc = os.path.join('ISCC_NBS', 'ISCC_NBS_ONLY_RED_w3.csv')\n",
    "df_red_iscc = pd.read_csv(path_red_iscc, names = ['color_name', 'hex'])\n",
    "\n",
    "# Get the RGB and CIE-Lab values for each color in ISCC color card\n",
    "df_red_iscc['RGB'] = \"\"\n",
    "df_red_iscc['Lab'] = \"\"\n",
    "for index, row in df_red_iscc.iterrows(): \n",
    "    df_red_iscc.loc[index, 'RGB'] = sRGBColor.new_from_rgb_hex(row['hex'])\n",
    "    df_red_iscc.loc[index, 'Lab'] = convert_color(df_iscc.loc[index, 'RGB'], LabColor).get_value_tuple()"
   ]
  },
  {
   "cell_type": "code",
   "execution_count": 5,
   "metadata": {},
   "outputs": [],
   "source": [
    "def img_to_vec(img_path):\n",
    "    \n",
    "    img = Image.open(path_img).convert('RGB')\n",
    "    img = np.array(img)\n",
    "    arr_img_lab = convert_to_lab(img.reshape(img.shape[0]*img.shape[1], 3))\n",
    "    arr_iscc_lab = np.array(df_iscc['Lab'].tolist())\n",
    "    quantized_img_lab = find_the_cloeset_iscc(arr_img_lab, arr_iscc_lab)\n",
    "    quantized_img_rgb = convert_to_rgb(quantized_img_lab).reshape(img.shape[0], img.shape[1], 3)\n",
    "    background_lab = np.array([95.7931405 , -0.15465805, -0.6054342])\n",
    "    (unique, counts) = np.unique(quantized_img_lab, return_counts=True, axis=0)\n",
    "    indices = np.argsort(counts)[::-1]\n",
    "    dict_color_count = {}\n",
    "    dict_color_name = {}\n",
    "    sum_counts = sum(counts)\n",
    "\n",
    "\n",
    "    for i in indices:\n",
    "        if cdist(unique[i].reshape(1, 3), background_lab.reshape(1, 3)) < 0.001:\n",
    "            continue\n",
    "        index_iscc = np.where(cdist(df_iscc['Lab'].tolist(), unique[i].reshape(1, 3))<0.01)\n",
    "        hex_value = df_iscc.loc[index_iscc[0][0], 'hex']\n",
    "        color_name = df_iscc.loc[index_iscc[0][0], 'color_name']\n",
    "        dict_color_count[hex_value] = counts[i]/sum_counts\n",
    "        dict_color_name[hex_value] = color_name\n",
    "    return dict_color_count, dict_color_name"
   ]
  },
  {
   "cell_type": "code",
   "execution_count": 6,
   "metadata": {},
   "outputs": [],
   "source": [
    "def img_to_red_vec(img_path):\n",
    "    \n",
    "    img = Image.open(path_img).convert('RGB')\n",
    "    img = np.array(img)\n",
    "    arr_img_lab = convert_to_lab(img.reshape(img.shape[0]*img.shape[1], 3))\n",
    "    arr_iscc_lab = np.array(df_red_iscc['Lab'].tolist())\n",
    "    quantized_img_lab = find_the_cloeset_iscc(arr_img_lab, arr_iscc_lab)\n",
    "    quantized_img_rgb = convert_to_rgb(quantized_img_lab).reshape(img.shape[0], img.shape[1], 3)\n",
    "    background_lab = np.array([95.7931405 , -0.15465805, -0.6054342])\n",
    "    (unique, counts) = np.unique(quantized_img_lab, return_counts=True, axis=0)\n",
    "    indices = np.argsort(counts)[::-1]\n",
    "    dict_color_count = {}\n",
    "    dict_color_name = {}\n",
    "    sum_counts = sum(counts)\n",
    "\n",
    "\n",
    "    for i in indices:\n",
    "        if cdist(unique[i].reshape(1, 3), background_lab.reshape(1, 3)) < 0.001:\n",
    "            continue\n",
    "        index_iscc = np.where(cdist(df_red_iscc['Lab'].tolist(), unique[i].reshape(1, 3))<0.01)\n",
    "        hex_value = df_red_iscc.loc[index_iscc[0][0], 'hex']\n",
    "        color_name = df_red_iscc.loc[index_iscc[0][0], 'color_name']\n",
    "        dict_color_count[hex_value] = counts[i]/sum_counts\n",
    "        dict_color_name[hex_value] = color_name\n",
    "    return dict_color_count, dict_color_name"
   ]
  },
  {
   "cell_type": "code",
   "execution_count": 6,
   "metadata": {
    "scrolled": true,
    "tags": [
     "outputPrepend"
    ]
   },
   "outputs": [
    {
     "output_type": "stream",
     "name": "stdout",
     "text": "9;: &#39;Light_Grayish_Brown&#39;, &#39;#57554C&#39;: &#39;Olive_Gray&#39;, &#39;#3E322C&#39;: &#39;Dark_Grayish_Brown&#39;, &#39;#555555&#39;: &#39;Dark_Gray&#39;, &#39;#8DA399&#39;: &#39;Pale_Green&#39;, &#39;#635147&#39;: &#39;Grayish_Brown&#39;, &#39;#3B3121&#39;: &#39;Dark_Olive_Brown&#39;, &#39;#AE9B82&#39;: &#39;Light_Grayish_Yellowish_Brown&#39;, &#39;#483C32&#39;: &#39;Dark_Grayish_Yellowish_Brown&#39;, &#39;#BFB8A5&#39;: &#39;Yellowish_Gray&#39;, &#39;#5B504F&#39;: &#39;Brownish_Gray&#39;, &#39;#E8E3E5&#39;: &#39;Purplish_White&#39;, &#39;#8C8767&#39;: &#39;Light_Grayish_Olive&#39;, &#39;#25241D&#39;: &#39;Olive_Black&#39;, &#39;#BFB9BD&#39;: &#39;Light_Purplish_Gray&#39;, &#39;#593319&#39;: &#39;Deep_Brown&#39;, &#39;#C1B6B3&#39;: &#39;Pinkish_Gray&#39;, &#39;#C2AC99&#39;: &#39;Brownish_Pink&#39;, &#39;#E9E9ED&#39;: &#39;Bluish_White&#39;, &#39;#403D21&#39;: &#39;Dark_Olive&#39;, &#39;#B4BCC0&#39;: &#39;Light_Bluish_Gray&#39;, &#39;#3E1D1E&#39;: &#39;Dark_Reddish_Brown&#39;, &#39;#5E716A&#39;: &#39;Grayish_Green&#39;, &#39;#282022&#39;: &#39;Reddish_Black&#39;, &#39;#EAE3E1&#39;: &#39;Pinkish_White&#39;, &#39;#242124&#39;: &#39;Purplish_Black&#39;, &#39;#8B8589&#39;: &#39;Purplish_Gray&#39;, &#39;#31362B&#39;: &#39;Dark_Grayish_Olive_Green&#39;, &#39;#2E1D21&#39;: &#39;Blackish_Red&#39;, &#39;#5D555B&#39;: &#39;Dark_Purplish_Gray&#39;, &#39;#A67B5B&#39;: &#39;Light_Brown&#39;, &#39;#43302E&#39;: &#39;Dark_Grayish_Reddish_Brown&#39;, &#39;#7D8984&#39;: &#39;Greenish_Gray&#39;, &#39;#5C504F&#39;: &#39;Dark_Reddish_Gray&#39;, &#39;#8F817F&#39;: &#39;Reddish_Gray&#39;, &#39;#6C541E&#39;: &#39;Moderate_Olive_Brown&#39;, &#39;#51585E&#39;: &#39;Dark_Bluish_Gray&#39;, &#39;#EAD8D7&#39;: &#39;Pale_Pink&#39;, &#39;#1E2321&#39;: &#39;Greenish_Black&#39;, &#39;#3A4B47&#39;: &#39;Dark_Grayish_Green&#39;, &#39;#363527&#39;: &#39;Dark_Grayish_Olive&#39;, &#39;#81878B&#39;: &#39;Bluish_Gray&#39;, &#39;#796878&#39;: &#39;Grayish_Purple&#39;, &#39;#202428&#39;: &#39;Bluish_Black&#39;, &#39;#291E29&#39;: &#39;Blackish_Purple&#39;, &#39;#36454F&#39;: &#39;Dark_Grayish_Blue&#39;, &#39;#91A3B0&#39;: &#39;Pale_Blue&#39;, &#39;#B2BEB5&#39;: &#39;Light_Greenish_Gray&#39;, &#39;#50404D&#39;: &#39;Dark_Grayish_Purple&#39;, &#39;#202830&#39;: &#39;Blackish_Blue&#39;, &#39;#AA98A9&#39;: &#39;Pale_Purple&#39;, &#39;#252440&#39;: &#39;Dark_Purplish_Blue&#39;, &#39;#C4AEAD&#39;: &#39;Grayish_Pink&#39;, &#39;#9690AB&#39;: &#39;Pale_Violet&#39;, &#39;#A18F60&#39;: &#39;Dark_Grayish_Yellow&#39;}\n   #FFB5BA  #EA9399  #E4717A  #F9CCCA  #DEA5A4  #C08081   #EAD8D7   #C4AEAD  \\\n0      0.0      0.0      0.0      0.0      0.0      0.0  0.000000  0.000000   \n1      0.0      0.0      0.0      0.0      0.0      0.0  0.011588  0.000047   \n2      0.0      0.0      0.0      0.0      0.0      0.0  0.000038  0.000002   \n\n    #EAE3E1   #C1B6B3  ...  #A8516E  #673147  #38152C  #AF868E  #915F6D  \\\n0  0.000000  0.000000  ...      0.0      0.0      0.0      0.0      0.0   \n1  0.004362  0.003390  ...      0.0      0.0      0.0      0.0      0.0   \n2  0.000476  0.000812  ...      0.0      0.0      0.0      0.0      0.0   \n\n   #F2F3F4   #B9B8B5   #848482   #555555   #222222  \n0      0.0  0.000000  0.000000  0.000000  0.000000  \n1      0.0  0.000000  0.000000  0.000000  0.000041  \n2      0.0  0.082276  0.065629  0.007611  0.049385  \n\n[3 rows x 267 columns]\n801\n{&#39;#593319&#39;: &#39;Deep_Brown&#39;, &#39;#848482&#39;: &#39;Medium_Gray&#39;, &#39;#422518&#39;: &#39;Dark_Brown&#39;, &#39;#4B3621&#39;: &#39;Dark_Yellowish_Brown&#39;, &#39;#B9B8B5&#39;: &#39;Light_Gray&#39;, &#39;#654522&#39;: &#39;Deep_Yellowish_Brown&#39;, &#39;#8DA399&#39;: &#39;Pale_Green&#39;, &#39;#7E6D5A&#39;: &#39;Grayish_Yellowish_Brown&#39;, &#39;#80461B&#39;: &#39;Strong_Brown&#39;, &#39;#5B5842&#39;: &#39;Grayish_Olive&#39;, &#39;#3B3121&#39;: &#39;Dark_Olive_Brown&#39;, &#39;#8A8776&#39;: &#39;Light_Olive_Gray&#39;, &#39;#882D17&#39;: &#39;Strong_Reddish_Brown&#39;, &#39;#28201C&#39;: &#39;Brownish_Black&#39;, &#39;#56070C&#39;: &#39;Deep_Reddish_Brown&#39;, &#39;#25241D&#39;: &#39;Olive_Black&#39;, &#39;#57554C&#39;: &#39;Olive_Gray&#39;, &#39;#6F4E37&#39;: &#39;Moderate_Brown&#39;, &#39;#5E716A&#39;: &#39;Grayish_Green&#39;, &#39;#8B8589&#39;: &#39;Purplish_Gray&#39;, &#39;#363527&#39;: &#39;Dark_Grayish_Olive&#39;, &#39;#8E8279&#39;: &#39;Light_Brownish_Gray&#39;, &#39;#81878B&#39;: &#39;Bluish_Gray&#39;, &#39;#483C32&#39;: &#39;Dark_Grayish_Yellowish_Brown&#39;, &#39;#635147&#39;: &#39;Grayish_Brown&#39;, &#39;#79443B&#39;: &#39;Moderate_Reddish_Brown&#39;, &#39;#3E1D1E&#39;: &#39;Dark_Reddish_Brown&#39;, &#39;#7D8984&#39;: &#39;Greenish_Gray&#39;, &#39;#9E4732&#39;: &#39;Dark_Reddish_Orange&#39;, &#39;#403D21&#39;: &#39;Dark_Olive&#39;, &#39;#826644&#39;: &#39;Moderate_Yellowish_Brown&#39;, &#39;#515744&#39;: &#39;Grayish_Olive_Green&#39;, &#39;#6C541E&#39;: &#39;Moderate_Olive_Brown&#39;, &#39;#8F817F&#39;: &#39;Reddish_Gray&#39;, &#39;#555555&#39;: &#39;Dark_Gray&#39;, &#39;#2E1D21&#39;: &#39;Blackish_Red&#39;, &#39;#91A3B0&#39;: &#39;Pale_Blue&#39;, &#39;#958070&#39;: &#39;Light_Grayish_Brown&#39;, &#39;#3E322C&#39;: &#39;Dark_Grayish_Brown&#39;, &#39;#A67B5B&#39;: &#39;Light_Brown&#39;, &#39;#674C47&#39;: &#39;Grayish_Reddish_Brown&#39;, &#39;#AE6938&#39;: &#39;Brownish_Orange&#39;, &#39;#B4745E&#39;: &#39;Grayish_Reddish_Orange&#39;, &#39;#AE9B82&#39;: &#39;Light_Grayish_Yellowish_Brown&#39;, &#39;#905D5D&#39;: &#39;Grayish_Red&#39;, &#39;#AB9144&#39;: &#39;Dark_Yellow&#39;, &#39;#5D555B&#39;: &#39;Dark_Purplish_Gray&#39;, &#39;#977F73&#39;: &#39;Light_Grayish_Reddish_Brown&#39;, &#39;#A87C6D&#39;: &#39;Light_Reddish_Brown&#39;, &#39;#C19A6B&#39;: &#39;Light_Yellowish_Brown&#39;, &#39;#43302E&#39;: &#39;Dark_Grayish_Reddish_Brown&#39;, &#39;#722F37&#39;: &#39;Dark_Red&#39;, &#39;#282022&#39;: &#39;Reddish_Black&#39;, &#39;#8F9779&#39;: &#39;Grayish_Yellow_Green&#39;, &#39;#222222&#39;: &#39;Black&#39;, &#39;#796878&#39;: &#39;Grayish_Purple&#39;, &#39;#8C8767&#39;: &#39;Light_Grayish_Olive&#39;, &#39;#31362B&#39;: &#39;Dark_Grayish_Olive_Green&#39;, &#39;#841B2D&#39;: &#39;Deep_Red&#39;, &#39;#996515&#39;: &#39;Strong_Yellowish_Brown&#39;, &#39;#AB4E52&#39;: &#39;Moderate_Red&#39;, &#39;#B4BCC0&#39;: &#39;Light_Bluish_Gray&#39;, &#39;#4E5755&#39;: &#39;Dark_Greenish_Gray&#39;, &#39;#C4AEAD&#39;: &#39;Grayish_Pink&#39;, &#39;#D99058&#39;: &#39;Moderate_Orange&#39;, &#39;#BE8A3D&#39;: &#39;Dark_Orange_Yellow&#39;, &#39;#5B504F&#39;: &#39;Brownish_Gray&#39;, &#39;#967117&#39;: &#39;Light_Olive_Brown&#39;, &#39;#C2AC99&#39;: &#39;Brownish_Pink&#39;, &#39;#543D3F&#39;: &#39;Dark_Grayish_Red&#39;, &#39;#3A4B47&#39;: &#39;Dark_Grayish_Green&#39;, &#39;#C1B6B3&#39;: &#39;Pinkish_Gray&#39;, &#39;#EAE3E1&#39;: &#39;Pinkish_White&#39;, &#39;#51585E&#39;: &#39;Dark_Bluish_Gray&#39;, &#39;#242124&#39;: &#39;Purplish_Black&#39;, &#39;#ECD5C5&#39;: &#39;Pale_Yellowish_Pink&#39;, &#39;#2B3D26&#39;: &#39;Dark_Olive_Green&#39;, &#39;#BFB8A5&#39;: &#39;Yellowish_Gray&#39;, &#39;#5C504F&#39;: &#39;Dark_Reddish_Gray&#39;, &#39;#AA98A9&#39;: &#39;Pale_Purple&#39;, &#39;#BFB9BD&#39;: &#39;Light_Purplish_Gray&#39;, &#39;#F0EAD6&#39;: &#39;Yellowish_White&#39;, &#39;#CB6D51&#39;: &#39;Moderate_Reddish_Orange&#39;, &#39;#A18F60&#39;: &#39;Dark_Grayish_Yellow&#39;, &#39;#C48379&#39;: &#39;Dark_Yellowish_Pink&#39;, &#39;#291E29&#39;: &#39;Blackish_Purple&#39;}\n   #FFB5BA  #EA9399  #E4717A  #F9CCCA  #DEA5A4  #C08081   #EAD8D7   #C4AEAD  \\\n0      0.0      0.0      0.0      0.0      0.0      0.0  0.000000  0.000000   \n1      0.0      0.0      0.0      0.0      0.0      0.0  0.011588  0.000047   \n2      0.0      0.0      0.0      0.0      0.0      0.0  0.000038  0.000002   \n3      0.0      0.0      0.0      0.0      0.0      0.0  0.000000  0.000096   \n\n    #EAE3E1   #C1B6B3  ...  #A8516E  #673147  #38152C  #AF868E  #915F6D  \\\n0  0.000000  0.000000  ...      0.0      0.0      0.0      0.0      0.0   \n1  0.004362  0.003390  ...      0.0      0.0      0.0      0.0      0.0   \n2  0.000476  0.000812  ...      0.0      0.0      0.0      0.0      0.0   \n3  0.000037  0.000037  ...      0.0      0.0      0.0      0.0      0.0   \n\n   #F2F3F4   #B9B8B5   #848482   #555555   #222222  \n0      0.0  0.000000  0.000000  0.000000  0.000000  \n1      0.0  0.000000  0.000000  0.000000  0.000041  \n2      0.0  0.082276  0.065629  0.007611  0.049385  \n3      0.0  0.069328  0.130792  0.001317  0.000163  \n\n[4 rows x 267 columns]\n1068\n{&#39;#6C541E&#39;: &#39;Moderate_Olive_Brown&#39;, &#39;#826644&#39;: &#39;Moderate_Yellowish_Brown&#39;, &#39;#654522&#39;: &#39;Deep_Yellowish_Brown&#39;, &#39;#996515&#39;: &#39;Strong_Yellowish_Brown&#39;, &#39;#593319&#39;: &#39;Deep_Brown&#39;, &#39;#4B3621&#39;: &#39;Dark_Yellowish_Brown&#39;, &#39;#6F4E37&#39;: &#39;Moderate_Brown&#39;, &#39;#A67B5B&#39;: &#39;Light_Brown&#39;, &#39;#28201C&#39;: &#39;Brownish_Black&#39;, &#39;#7E6D5A&#39;: &#39;Grayish_Yellowish_Brown&#39;, &#39;#8C8767&#39;: &#39;Light_Grayish_Olive&#39;, &#39;#80461B&#39;: &#39;Strong_Brown&#39;, &#39;#5B5842&#39;: &#39;Grayish_Olive&#39;, &#39;#C19A6B&#39;: &#39;Light_Yellowish_Brown&#39;, &#39;#483C32&#39;: &#39;Dark_Grayish_Yellowish_Brown&#39;, &#39;#967117&#39;: &#39;Light_Olive_Brown&#39;, &#39;#3B3121&#39;: &#39;Dark_Olive_Brown&#39;, &#39;#A18F60&#39;: &#39;Dark_Grayish_Yellow&#39;, &#39;#422518&#39;: &#39;Dark_Brown&#39;, &#39;#3E322C&#39;: &#39;Dark_Grayish_Brown&#39;, &#39;#AE6938&#39;: &#39;Brownish_Orange&#39;, &#39;#25241D&#39;: &#39;Olive_Black&#39;, &#39;#635147&#39;: &#39;Grayish_Brown&#39;, &#39;#958070&#39;: &#39;Light_Grayish_Brown&#39;, &#39;#AB9144&#39;: &#39;Dark_Yellow&#39;, &#39;#AE9B82&#39;: &#39;Light_Grayish_Yellowish_Brown&#39;, &#39;#403D21&#39;: &#39;Dark_Olive&#39;, &#39;#57554C&#39;: &#39;Olive_Gray&#39;, &#39;#5B504F&#39;: &#39;Brownish_Gray&#39;, &#39;#C2B280&#39;: &#39;Grayish_Yellow&#39;, &#39;#FAD6A5&#39;: &#39;Pale_Orange_Yellow&#39;, &#39;#5D555B&#39;: &#39;Dark_Purplish_Gray&#39;, &#39;#BE8A3D&#39;: &#39;Dark_Orange_Yellow&#39;, &#39;#555555&#39;: &#39;Dark_Gray&#39;, &#39;#282022&#39;: &#39;Reddish_Black&#39;, &#39;#C2AC99&#39;: &#39;Brownish_Pink&#39;, &#39;#867E36&#39;: &#39;Light_Olive&#39;, &#39;#363527&#39;: &#39;Dark_Grayish_Olive&#39;, &#39;#796878&#39;: &#39;Grayish_Purple&#39;, &#39;#F0EAD6&#39;: &#39;Yellowish_White&#39;, &#39;#50404D&#39;: &#39;Dark_Grayish_Purple&#39;, &#39;#ECD5C5&#39;: &#39;Pale_Yellowish_Pink&#39;, &#39;#8B8589&#39;: &#39;Purplish_Gray&#39;, &#39;#848482&#39;: &#39;Medium_Gray&#39;, &#39;#8E8279&#39;: &#39;Light_Brownish_Gray&#39;, &#39;#BFB8A5&#39;: &#39;Yellowish_Gray&#39;, &#39;#242124&#39;: &#39;Purplish_Black&#39;, &#39;#81878B&#39;: &#39;Bluish_Gray&#39;, &#39;#222222&#39;: &#39;Black&#39;, &#39;#F3E5AB&#39;: &#39;Pale_Yellow&#39;, &#39;#51585E&#39;: &#39;Dark_Bluish_Gray&#39;, &#39;#8A8776&#39;: &#39;Light_Olive_Gray&#39;, &#39;#977F73&#39;: &#39;Light_Grayish_Reddish_Brown&#39;, &#39;#91A3B0&#39;: &#39;Pale_Blue&#39;, &#39;#5C504F&#39;: &#39;Dark_Reddish_Gray&#39;, &#39;#BFB9BD&#39;: &#39;Light_Purplish_Gray&#39;, &#39;#31362B&#39;: &#39;Dark_Grayish_Olive_Green&#39;, &#39;#8F817F&#39;: &#39;Reddish_Gray&#39;, &#39;#674C47&#39;: &#39;Grayish_Reddish_Brown&#39;, &#39;#C1B6B3&#39;: &#39;Pinkish_Gray&#39;, &#39;#9690AB&#39;: &#39;Pale_Violet&#39;, &#39;#43302E&#39;: &#39;Dark_Grayish_Reddish_Brown&#39;, &#39;#DADFB7&#39;: &#39;Pale_Yellow_Green&#39;, &#39;#C4C3DD&#39;: &#39;Very_Pale_Violet&#39;, &#39;#B4BCC0&#39;: &#39;Light_Bluish_Gray&#39;, &#39;#291E29&#39;: &#39;Blackish_Purple&#39;, &#39;#AA98A9&#39;: &#39;Pale_Purple&#39;, &#39;#36454F&#39;: &#39;Dark_Grayish_Blue&#39;, &#39;#543D3F&#39;: &#39;Dark_Grayish_Red&#39;, &#39;#EAE3E1&#39;: &#39;Pinkish_White&#39;, &#39;#EAD8D7&#39;: &#39;Pale_Pink&#39;, &#39;#C7ADA3&#39;: &#39;Grayish_Yellowish_Pink&#39;, &#39;#C4AEAD&#39;: &#39;Grayish_Pink&#39;, &#39;#8C92AC&#39;: &#39;Pale_Purplish_Blue&#39;, &#39;#D6CADD&#39;: &#39;Very_Pale_Purple&#39;, &#39;#202830&#39;: &#39;Blackish_Blue&#39;, &#39;#665D1E&#39;: &#39;Moderate_Olive&#39;, &#39;#E9E9ED&#39;: &#39;Bluish_White&#39;, &#39;#C0C8E1&#39;: &#39;Very_Pale_Purplish_Blue&#39;, &#39;#B9B8B5&#39;: &#39;Light_Gray&#39;, &#39;#79443B&#39;: &#39;Moderate_Reddish_Brown&#39;, &#39;#536878&#39;: &#39;Grayish_Blue&#39;, &#39;#B3BCE2&#39;: &#39;Very_Light_Purplish_Blue&#39;, &#39;#A87C6D&#39;: &#39;Light_Reddish_Brown&#39;, &#39;#2E1D21&#39;: &#39;Blackish_Red&#39;, &#39;#5E716A&#39;: &#39;Grayish_Green&#39;, &#39;#AD8884&#39;: &#39;Light_Grayish_Red&#39;, &#39;#E8E3E5&#39;: &#39;Purplish_White&#39;, &#39;#202428&#39;: &#39;Bluish_Black&#39;, &#39;#4C516D&#39;: &#39;Grayish_Purplish_Blue&#39;, &#39;#BCD4E6&#39;: &#39;Very_Pale_Blue&#39;, &#39;#554C69&#39;: &#39;Grayish_Violet&#39;, &#39;#3A4B47&#39;: &#39;Dark_Grayish_Green&#39;, &#39;#C3A6B1&#39;: &#39;Grayish_Purplish_Pink&#39;, &#39;#3E1D1E&#39;: &#39;Dark_Reddish_Brown&#39;, &#39;#FBC97F&#39;: &#39;Light_Orange_Yellow&#39;, &#39;#C9AE5D&#39;: &#39;Moderate_Yellow&#39;, &#39;#DCD0FF&#39;: &#39;Very_Light_Violet&#39;, &#39;#E8CCD7&#39;: &#39;Pale_Purplish_Pink&#39;, &#39;#8791BF&#39;: &#39;Light_Purplish_Blue&#39;, &#39;#4E5755&#39;: &#39;Dark_Greenish_Gray&#39;, &#39;#905D5D&#39;: &#39;Grayish_Red&#39;, &#39;#7D8984&#39;: &#39;Greenish_Gray&#39;, &#39;#8C82B6&#39;: &#39;Light_Violet&#39;, &#39;#8DA399&#39;: &#39;Pale_Green&#39;, &#39;#4E5180&#39;: &#39;Moderate_Purplish_Blue&#39;, &#39;#915F6D&#39;: &#39;Grayish_Purplish_Red&#39;, &#39;#1E2321&#39;: &#39;Greenish_Black&#39;, &#39;#8F9779&#39;: &#39;Grayish_Yellow_Green&#39;, &#39;#DFEDE8&#39;: &#39;Greenish_White&#39;, &#39;#D5BADB&#39;: &#39;Very_Light_Purple&#39;, &#39;#1A2421&#39;: &#39;Blackish_Green&#39;, &#39;#515744&#39;: &#39;Grayish_Olive_Green&#39;, &#39;#252440&#39;: &#39;Dark_Purplish_Blue&#39;, &#39;#B695C0&#39;: &#39;Light_Purple&#39;, &#39;#AF868E&#39;: &#39;Light_Grayish_Purplish_Red&#39;, &#39;#B2BEB5&#39;: &#39;Light_Greenish_Gray&#39;, &#39;#563C5C&#39;: &#39;Dark_Purple&#39;, &#39;#F4C2C2&#39;: &#39;Light_Yellowish_Pink&#39;, &#39;#AA8A9E&#39;: &#39;Pale_Reddish_Purple&#39;, &#39;#FAB57F&#39;: &#39;Light_Orange&#39;, &#39;#436B95&#39;: &#39;Moderate_Blue&#39;, &#39;#F9CCCA&#39;: &#39;Light_Pink&#39;}\n   #FFB5BA  #EA9399  #E4717A   #F9CCCA  #DEA5A4  #C08081   #EAD8D7   #C4AEAD  \\\n0      0.0      0.0      0.0  0.000000      0.0      0.0  0.000000  0.000000   \n1      0.0      0.0      0.0  0.000000      0.0      0.0  0.011588  0.000047   \n2      0.0      0.0      0.0  0.000000      0.0      0.0  0.000038  0.000002   \n3      0.0      0.0      0.0  0.000000      0.0      0.0  0.000000  0.000096   \n4      0.0      0.0      0.0  0.000003      0.0      0.0  0.000321  0.000309   \n\n    #EAE3E1   #C1B6B3  ...  #A8516E  #673147  #38152C   #AF868E   #915F6D  \\\n0  0.000000  0.000000  ...      0.0      0.0      0.0  0.000000  0.000000   \n1  0.004362  0.003390  ...      0.0      0.0      0.0  0.000000  0.000000   \n2  0.000476  0.000812  ...      0.0      0.0      0.0  0.000000  0.000000   \n3  0.000037  0.000037  ...      0.0      0.0      0.0  0.000000  0.000000   \n4  0.000326  0.000419  ...      0.0      0.0      0.0  0.000008  0.000018   \n\n   #F2F3F4   #B9B8B5   #848482   #555555   #222222  \n0      0.0  0.000000  0.000000  0.000000  0.000000  \n1      0.0  0.000000  0.000000  0.000000  0.000041  \n2      0.0  0.082276  0.065629  0.007611  0.049385  \n3      0.0  0.069328  0.130792  0.001317  0.000163  \n4      0.0  0.000241  0.000976  0.001669  0.000698  \n\n[5 rows x 267 columns]\n1335\n{&#39;#593319&#39;: &#39;Deep_Brown&#39;, &#39;#422518&#39;: &#39;Dark_Brown&#39;, &#39;#654522&#39;: &#39;Deep_Yellowish_Brown&#39;, &#39;#81878B&#39;: &#39;Bluish_Gray&#39;, &#39;#91A3B0&#39;: &#39;Pale_Blue&#39;, &#39;#B4BCC0&#39;: &#39;Light_Bluish_Gray&#39;, &#39;#7E6D5A&#39;: &#39;Grayish_Yellowish_Brown&#39;, &#39;#848482&#39;: &#39;Medium_Gray&#39;, &#39;#3E1D1E&#39;: &#39;Dark_Reddish_Brown&#39;, &#39;#826644&#39;: &#39;Moderate_Yellowish_Brown&#39;, &#39;#6F4E37&#39;: &#39;Moderate_Brown&#39;, &#39;#5B5842&#39;: &#39;Grayish_Olive&#39;, &#39;#2E1D21&#39;: &#39;Blackish_Red&#39;, &#39;#8A8776&#39;: &#39;Light_Olive_Gray&#39;, &#39;#8E8279&#39;: &#39;Light_Brownish_Gray&#39;, &#39;#28201C&#39;: &#39;Brownish_Black&#39;, &#39;#635147&#39;: &#39;Grayish_Brown&#39;, &#39;#B9B8B5&#39;: &#39;Light_Gray&#39;, &#39;#8B8589&#39;: &#39;Purplish_Gray&#39;, &#39;#4B3621&#39;: &#39;Dark_Yellowish_Brown&#39;, &#39;#43302E&#39;: &#39;Dark_Grayish_Reddish_Brown&#39;, &#39;#7D8984&#39;: &#39;Greenish_Gray&#39;, &#39;#57554C&#39;: &#39;Olive_Gray&#39;, &#39;#555555&#39;: &#39;Dark_Gray&#39;, &#39;#8F817F&#39;: &#39;Reddish_Gray&#39;, &#39;#3E322C&#39;: &#39;Dark_Grayish_Brown&#39;, &#39;#5E716A&#39;: &#39;Grayish_Green&#39;, &#39;#483C32&#39;: &#39;Dark_Grayish_Yellowish_Brown&#39;, &#39;#6C541E&#39;: &#39;Moderate_Olive_Brown&#39;, &#39;#958070&#39;: &#39;Light_Grayish_Brown&#39;, &#39;#8DA399&#39;: &#39;Pale_Green&#39;, &#39;#5B504F&#39;: &#39;Brownish_Gray&#39;, &#39;#977F73&#39;: &#39;Light_Grayish_Reddish_Brown&#39;, &#39;#8C8767&#39;: &#39;Light_Grayish_Olive&#39;, &#39;#674C47&#39;: &#39;Grayish_Reddish_Brown&#39;, &#39;#51585E&#39;: &#39;Dark_Bluish_Gray&#39;, &#39;#79443B&#39;: &#39;Moderate_Reddish_Brown&#39;, &#39;#543D3F&#39;: &#39;Dark_Grayish_Red&#39;, &#39;#56070C&#39;: &#39;Deep_Reddish_Brown&#39;, &#39;#5D555B&#39;: &#39;Dark_Purplish_Gray&#39;, &#39;#5C504F&#39;: &#39;Dark_Reddish_Gray&#39;, &#39;#282022&#39;: &#39;Reddish_Black&#39;, &#39;#3B3121&#39;: &#39;Dark_Olive_Brown&#39;, &#39;#A87C6D&#39;: &#39;Light_Reddish_Brown&#39;, &#39;#80461B&#39;: &#39;Strong_Brown&#39;, &#39;#25241D&#39;: &#39;Olive_Black&#39;, &#39;#50404D&#39;: &#39;Dark_Grayish_Purple&#39;, &#39;#AA98A9&#39;: &#39;Pale_Purple&#39;, &#39;#36454F&#39;: &#39;Dark_Grayish_Blue&#39;, &#39;#222222&#39;: &#39;Black&#39;, &#39;#796878&#39;: &#39;Grayish_Purple&#39;, &#39;#4E5755&#39;: &#39;Dark_Greenish_Gray&#39;, &#39;#905D5D&#39;: &#39;Grayish_Red&#39;, &#39;#C4AEAD&#39;: &#39;Grayish_Pink&#39;, &#39;#A67B5B&#39;: &#39;Light_Brown&#39;, &#39;#291E29&#39;: &#39;Blackish_Purple&#39;, &#39;#3A4B47&#39;: &#39;Dark_Grayish_Green&#39;, &#39;#BFB9BD&#39;: &#39;Light_Purplish_Gray&#39;, &#39;#B4745E&#39;: &#39;Grayish_Reddish_Orange&#39;, &#39;#31362B&#39;: &#39;Dark_Grayish_Olive_Green&#39;, &#39;#363527&#39;: &#39;Dark_Grayish_Olive&#39;, &#39;#403D21&#39;: &#39;Dark_Olive&#39;, &#39;#9E4732&#39;: &#39;Dark_Reddish_Orange&#39;}\n   #FFB5BA  #EA9399  #E4717A   #F9CCCA  #DEA5A4  #C08081   #EAD8D7   #C4AEAD  \\\n0      0.0      0.0      0.0  0.000000      0.0      0.0  0.000000  0.000000   \n1      0.0      0.0      0.0  0.000000      0.0      0.0  0.011588  0.000047   \n2      0.0      0.0      0.0  0.000000      0.0      0.0  0.000038  0.000002   \n3      0.0      0.0      0.0  0.000000      0.0      0.0  0.000000  0.000096   \n4      0.0      0.0      0.0  0.000003      0.0      0.0  0.000321  0.000309   \n5      0.0      0.0      0.0  0.000000      0.0      0.0  0.000000  0.000023   \n\n    #EAE3E1   #C1B6B3  ...  #A8516E  #673147  #38152C   #AF868E   #915F6D  \\\n0  0.000000  0.000000  ...      0.0      0.0      0.0  0.000000  0.000000   \n1  0.004362  0.003390  ...      0.0      0.0      0.0  0.000000  0.000000   \n2  0.000476  0.000812  ...      0.0      0.0      0.0  0.000000  0.000000   \n3  0.000037  0.000037  ...      0.0      0.0      0.0  0.000000  0.000000   \n4  0.000326  0.000419  ...      0.0      0.0      0.0  0.000008  0.000018   \n5  0.000000  0.000000  ...      0.0      0.0      0.0  0.000000  0.000000   \n\n   #F2F3F4   #B9B8B5   #848482   #555555   #222222  \n0      0.0  0.000000  0.000000  0.000000  0.000000  \n1      0.0  0.000000  0.000000  0.000000  0.000041  \n2      0.0  0.082276  0.065629  0.007611  0.049385  \n3      0.0  0.069328  0.130792  0.001317  0.000163  \n4      0.0  0.000241  0.000976  0.001669  0.000698  \n5      0.0  0.007506  0.050681  0.002565  0.000029  \n\n[6 rows x 267 columns]\n1602\n"
    },
    {
     "output_type": "error",
     "ename": "KeyboardInterrupt",
     "evalue": "",
     "traceback": [
      "\u001b[0;31m---------------------------------------------------------------------------\u001b[0m",
      "\u001b[0;31mKeyboardInterrupt\u001b[0m                         Traceback (most recent call last)",
      "\u001b[0;32m&lt;ipython-input-6-cc4ade427467&gt;\u001b[0m in \u001b[0;36m&lt;module&gt;\u001b[0;34m\u001b[0m\n\u001b[1;32m      6\u001b[0m \u001b[0;34m\u001b[0m\u001b[0m\n\u001b[1;32m      7\u001b[0m     \u001b[0mpath_img\u001b[0m \u001b[0;34m=\u001b[0m \u001b[0mos\u001b[0m\u001b[0;34m.\u001b[0m\u001b[0mpath\u001b[0m\u001b[0;34m.\u001b[0m\u001b[0mjoin\u001b[0m\u001b[0;34m(\u001b[0m\u001b[0mpath\u001b[0m\u001b[0;34m,\u001b[0m \u001b[0mimg_name\u001b[0m\u001b[0;34m)\u001b[0m\u001b[0;34m\u001b[0m\u001b[0;34m\u001b[0m\u001b[0m\n\u001b[0;32m----&gt; 8\u001b[0;31m     \u001b[0mdict_color\u001b[0m\u001b[0;34m,\u001b[0m \u001b[0mdict_temp_names\u001b[0m \u001b[0;34m=\u001b[0m \u001b[0mimg_to_vec\u001b[0m\u001b[0;34m(\u001b[0m\u001b[0mpath_img\u001b[0m\u001b[0;34m)\u001b[0m\u001b[0;34m\u001b[0m\u001b[0;34m\u001b[0m\u001b[0m\n\u001b[0m\u001b[1;32m      9\u001b[0m     \u001b[0mprint\u001b[0m\u001b[0;34m(\u001b[0m\u001b[0mdict_temp_names\u001b[0m\u001b[0;34m)\u001b[0m\u001b[0;34m\u001b[0m\u001b[0;34m\u001b[0m\u001b[0m\n\u001b[1;32m     10\u001b[0m     \u001b[0;32mfor\u001b[0m \u001b[0mcolor_hex\u001b[0m \u001b[0;32min\u001b[0m \u001b[0mdf_vec\u001b[0m\u001b[0;34m.\u001b[0m\u001b[0mcolumns\u001b[0m\u001b[0;34m:\u001b[0m\u001b[0;34m\u001b[0m\u001b[0;34m\u001b[0m\u001b[0m\n",
      "\u001b[0;32m&lt;ipython-input-5-8cb2d5796e2b&gt;\u001b[0m in \u001b[0;36mimg_to_vec\u001b[0;34m(img_path)\u001b[0m\n\u001b[1;32m      3\u001b[0m     \u001b[0mimg\u001b[0m \u001b[0;34m=\u001b[0m \u001b[0mImage\u001b[0m\u001b[0;34m.\u001b[0m\u001b[0mopen\u001b[0m\u001b[0;34m(\u001b[0m\u001b[0mpath_img\u001b[0m\u001b[0;34m)\u001b[0m\u001b[0;34m.\u001b[0m\u001b[0mconvert\u001b[0m\u001b[0;34m(\u001b[0m\u001b[0;34m&#39;RGB&#39;\u001b[0m\u001b[0;34m)\u001b[0m\u001b[0;34m\u001b[0m\u001b[0;34m\u001b[0m\u001b[0m\n\u001b[1;32m      4\u001b[0m     \u001b[0mimg\u001b[0m \u001b[0;34m=\u001b[0m \u001b[0mnp\u001b[0m\u001b[0;34m.\u001b[0m\u001b[0marray\u001b[0m\u001b[0;34m(\u001b[0m\u001b[0mimg\u001b[0m\u001b[0;34m)\u001b[0m\u001b[0;34m\u001b[0m\u001b[0;34m\u001b[0m\u001b[0m\n\u001b[0;32m----&gt; 5\u001b[0;31m     \u001b[0marr_img_lab\u001b[0m \u001b[0;34m=\u001b[0m \u001b[0mconvert_to_lab\u001b[0m\u001b[0;34m(\u001b[0m\u001b[0mimg\u001b[0m\u001b[0;34m.\u001b[0m\u001b[0mreshape\u001b[0m\u001b[0;34m(\u001b[0m\u001b[0mimg\u001b[0m\u001b[0;34m.\u001b[0m\u001b[0mshape\u001b[0m\u001b[0;34m[\u001b[0m\u001b[0;36m0\u001b[0m\u001b[0;34m]\u001b[0m\u001b[0;34m*\u001b[0m\u001b[0mimg\u001b[0m\u001b[0;34m.\u001b[0m\u001b[0mshape\u001b[0m\u001b[0;34m[\u001b[0m\u001b[0;36m1\u001b[0m\u001b[0;34m]\u001b[0m\u001b[0;34m,\u001b[0m \u001b[0;36m3\u001b[0m\u001b[0;34m)\u001b[0m\u001b[0;34m)\u001b[0m\u001b[0;34m\u001b[0m\u001b[0;34m\u001b[0m\u001b[0m\n\u001b[0m\u001b[1;32m      6\u001b[0m     \u001b[0marr_iscc_lab\u001b[0m \u001b[0;34m=\u001b[0m \u001b[0mnp\u001b[0m\u001b[0;34m.\u001b[0m\u001b[0marray\u001b[0m\u001b[0;34m(\u001b[0m\u001b[0mdf_iscc\u001b[0m\u001b[0;34m[\u001b[0m\u001b[0;34m&#39;Lab&#39;\u001b[0m\u001b[0;34m]\u001b[0m\u001b[0;34m.\u001b[0m\u001b[0mtolist\u001b[0m\u001b[0;34m(\u001b[0m\u001b[0;34m)\u001b[0m\u001b[0;34m)\u001b[0m\u001b[0;34m\u001b[0m\u001b[0;34m\u001b[0m\u001b[0m\n\u001b[1;32m      7\u001b[0m     \u001b[0mquantized_img_lab\u001b[0m \u001b[0;34m=\u001b[0m \u001b[0mfind_the_cloeset_iscc\u001b[0m\u001b[0;34m(\u001b[0m\u001b[0marr_img_lab\u001b[0m\u001b[0;34m,\u001b[0m \u001b[0marr_iscc_lab\u001b[0m\u001b[0;34m)\u001b[0m\u001b[0;34m\u001b[0m\u001b[0;34m\u001b[0m\u001b[0m\n",
      "\u001b[0;32m&lt;ipython-input-3-695dcc9a26df&gt;\u001b[0m in \u001b[0;36mconvert_to_lab\u001b[0;34m(arr_rgb)\u001b[0m\n\u001b[1;32m      7\u001b[0m     \u001b[0;32mfor\u001b[0m \u001b[0mrow\u001b[0m \u001b[0;32min\u001b[0m \u001b[0marr_rgb\u001b[0m\u001b[0;34m:\u001b[0m\u001b[0;34m\u001b[0m\u001b[0;34m\u001b[0m\u001b[0m\n\u001b[1;32m      8\u001b[0m         \u001b[0mr\u001b[0m\u001b[0;34m,\u001b[0m \u001b[0mg\u001b[0m\u001b[0;34m,\u001b[0m \u001b[0mb\u001b[0m \u001b[0;34m=\u001b[0m \u001b[0mrow\u001b[0m\u001b[0;34m\u001b[0m\u001b[0;34m\u001b[0m\u001b[0m\n\u001b[0;32m----&gt; 9\u001b[0;31m         \u001b[0mlist_lab\u001b[0m\u001b[0;34m.\u001b[0m\u001b[0mappend\u001b[0m\u001b[0;34m(\u001b[0m\u001b[0mconvert_color\u001b[0m\u001b[0;34m(\u001b[0m\u001b[0msRGBColor\u001b[0m\u001b[0;34m(\u001b[0m\u001b[0mr\u001b[0m\u001b[0;34m,\u001b[0m \u001b[0mg\u001b[0m\u001b[0;34m,\u001b[0m \u001b[0mb\u001b[0m\u001b[0;34m,\u001b[0m \u001b[0mis_upscaled\u001b[0m\u001b[0;34m=\u001b[0m\u001b[0;32mTrue\u001b[0m\u001b[0;34m)\u001b[0m\u001b[0;34m,\u001b[0m \u001b[0mLabColor\u001b[0m\u001b[0;34m)\u001b[0m\u001b[0;34m.\u001b[0m\u001b[0mget_value_tuple\u001b[0m\u001b[0;34m(\u001b[0m\u001b[0;34m)\u001b[0m\u001b[0;34m)\u001b[0m\u001b[0;34m\u001b[0m\u001b[0;34m\u001b[0m\u001b[0m\n\u001b[0m\u001b[1;32m     10\u001b[0m     \u001b[0;32mreturn\u001b[0m \u001b[0mnp\u001b[0m\u001b[0;34m.\u001b[0m\u001b[0marray\u001b[0m\u001b[0;34m(\u001b[0m\u001b[0mlist_lab\u001b[0m\u001b[0;34m)\u001b[0m\u001b[0;34m\u001b[0m\u001b[0;34m\u001b[0m\u001b[0m\n\u001b[1;32m     11\u001b[0m \u001b[0;34m\u001b[0m\u001b[0m\n",
      "\u001b[0;32m~/opt/anaconda3/lib/python3.8/site-packages/colormath/color_objects.py\u001b[0m in \u001b[0;36m__init__\u001b[0;34m(self, rgb_r, rgb_g, rgb_b, is_upscaled)\u001b[0m\n\u001b[1;32m    519\u001b[0m         \u001b[0;32mif\u001b[0m \u001b[0mis_upscaled\u001b[0m\u001b[0;34m:\u001b[0m\u001b[0;34m\u001b[0m\u001b[0;34m\u001b[0m\u001b[0m\n\u001b[1;32m    520\u001b[0m             \u001b[0mself\u001b[0m\u001b[0;34m.\u001b[0m\u001b[0mrgb_r\u001b[0m \u001b[0;34m=\u001b[0m \u001b[0mrgb_r\u001b[0m \u001b[0;34m/\u001b[0m \u001b[0;36m255.0\u001b[0m\u001b[0;34m\u001b[0m\u001b[0;34m\u001b[0m\u001b[0m\n\u001b[0;32m--&gt; 521\u001b[0;31m             \u001b[0mself\u001b[0m\u001b[0;34m.\u001b[0m\u001b[0mrgb_g\u001b[0m \u001b[0;34m=\u001b[0m \u001b[0mrgb_g\u001b[0m \u001b[0;34m/\u001b[0m \u001b[0;36m255.0\u001b[0m\u001b[0;34m\u001b[0m\u001b[0;34m\u001b[0m\u001b[0m\n\u001b[0m\u001b[1;32m    522\u001b[0m             \u001b[0mself\u001b[0m\u001b[0;34m.\u001b[0m\u001b[0mrgb_b\u001b[0m \u001b[0;34m=\u001b[0m \u001b[0mrgb_b\u001b[0m \u001b[0;34m/\u001b[0m \u001b[0;36m255.0\u001b[0m\u001b[0;34m\u001b[0m\u001b[0;34m\u001b[0m\u001b[0m\n\u001b[1;32m    523\u001b[0m         \u001b[0;32melse\u001b[0m\u001b[0;34m:\u001b[0m\u001b[0;34m\u001b[0m\u001b[0;34m\u001b[0m\u001b[0m\n",
      "\u001b[0;31mKeyboardInterrupt\u001b[0m: "
     ]
    }
   ],
   "source": [
    "\n",
    "'''\n",
    "Put all color values into csv for blood images\n",
    "'''\n",
    "\n",
    "path = os.path.join('images', 'blood')\n",
    "df_vec = pd.DataFrame(columns = df_iscc['hex'].values) \n",
    "for img_name in os.listdir(path):\n",
    "    if img_name.startswith('data'):\n",
    "        continue\n",
    "        \n",
    "    path_img = os.path.join(path, img_name)\n",
    "    dict_color, dict_temp_names = img_to_vec(path_img)\n",
    "    print(dict_temp_names)\n",
    "    for color_hex in df_vec.columns:\n",
    "        if color_hex not in dict_color.keys():\n",
    "            dict_color[color_hex] = 0\n",
    "    df_vec = df_vec.append(dict_color,ignore_index=True,sort=False)\n",
    "    print(df_vec)\n",
    "    print(df_vec.size)"
   ]
  },
  {
   "cell_type": "code",
   "execution_count": 8,
   "metadata": {
    "tags": []
   },
   "outputs": [
    {
     "output_type": "stream",
     "name": "stdout",
     "text": [
      "images/blood/online_v1_00190.png\n",
      "{1: 'online_v1_00190.png'}\n",
      "   #BE0032  #BC3F4A  #841B2D  #5C0923  #AB4E52  #722F37  #3F1728  #AD8884  \\\n",
      "0      0.0      0.0      0.0      0.0      0.0      0.0      0.0      0.0   \n",
      "\n",
      "   #905D5D  #543D3F  ...   #836479   #CE4676   #B3446C   #78184A   #54133B  \\\n",
      "0      0.0      0.0  ...  0.261377  0.125202  0.061941  0.007914  0.031781   \n",
      "\n",
      "    #A8516E   #673147   #38152C   #AF868E   #915F6D  \n",
      "0  0.141491  0.020435  0.008028  0.000393  0.002226  \n",
      "\n",
      "[1 rows x 47 columns]\n",
      "47\n",
      "images/blood/online_v1_00224.png\n",
      "{1: 'online_v1_00190.png', 2: 'online_v1_00224.png'}\n",
      "   #BE0032  #BC3F4A  #841B2D  #5C0923  #AB4E52  #722F37   #3F1728   #AD8884  \\\n",
      "0      0.0      0.0      0.0      0.0      0.0      0.0  0.000000  0.000000   \n",
      "1      0.0      0.0      0.0      0.0      0.0      0.0  0.011853  0.000047   \n",
      "\n",
      "    #905D5D   #543D3F  ...   #836479   #CE4676   #B3446C   #78184A   #54133B  \\\n",
      "0  0.000000  0.000000  ...  0.261377  0.125202  0.061941  0.007914  0.031781   \n",
      "1  0.015691  0.004776  ...  0.145533  0.309296  0.035123  0.003390  0.048640   \n",
      "\n",
      "    #A8516E   #673147   #38152C   #AF868E   #915F6D  \n",
      "0  0.141491  0.020435  0.008028  0.000393  0.002226  \n",
      "1  0.238551  0.019605  0.005193  0.027711  0.015915  \n",
      "\n",
      "[2 rows x 47 columns]\n",
      "94\n",
      "images/blood/crowdsourcing_00132.png\n",
      "{1: 'online_v1_00190.png', 2: 'online_v1_00224.png', 3: 'crowdsourcing_00132.png'}\n",
      "   #BE0032  #BC3F4A  #841B2D  #5C0923  #AB4E52  #722F37   #3F1728   #AD8884  \\\n",
      "0      0.0      0.0      0.0      0.0      0.0      0.0  0.000000  0.000000   \n",
      "1      0.0      0.0      0.0      0.0      0.0      0.0  0.011853  0.000047   \n",
      "2      0.0      0.0      0.0      0.0      0.0      0.0  0.001217  0.000010   \n",
      "\n",
      "    #905D5D   #543D3F  ...   #836479   #CE4676   #B3446C   #78184A   #54133B  \\\n",
      "0  0.000000  0.000000  ...  0.261377  0.125202  0.061941  0.007914  0.031781   \n",
      "1  0.015691  0.004776  ...  0.145533  0.309296  0.035123  0.003390  0.048640   \n",
      "2  0.011456  0.091890  ...  0.000000  0.000032  0.000000  0.000000  0.001012   \n",
      "\n",
      "    #A8516E   #673147   #38152C   #AF868E   #915F6D  \n",
      "0  0.141491  0.020435  0.008028  0.000393  0.002226  \n",
      "1  0.238551  0.019605  0.005193  0.027711  0.015915  \n",
      "2  0.002041  0.021780  0.138292  0.139429  0.033746  \n",
      "\n",
      "[3 rows x 47 columns]\n",
      "141\n",
      "images/blood/online_v1_00179.png\n",
      "{1: 'online_v1_00190.png', 2: 'online_v1_00224.png', 3: 'crowdsourcing_00132.png', 4: 'online_v1_00179.png'}\n",
      "   #BE0032  #BC3F4A  #841B2D  #5C0923  #AB4E52  #722F37   #3F1728   #AD8884  \\\n",
      "0      0.0      0.0      0.0      0.0      0.0      0.0  0.000000  0.000000   \n",
      "1      0.0      0.0      0.0      0.0      0.0      0.0  0.011853  0.000047   \n",
      "2      0.0      0.0      0.0      0.0      0.0      0.0  0.001217  0.000010   \n",
      "3      0.0      0.0      0.0      0.0      0.0      0.0  0.000000  0.000100   \n",
      "\n",
      "    #905D5D   #543D3F  ...   #836479   #CE4676   #B3446C   #78184A   #54133B  \\\n",
      "0  0.000000  0.000000  ...  0.261377  0.125202  0.061941  0.007914  0.031781   \n",
      "1  0.015691  0.004776  ...  0.145533  0.309296  0.035123  0.003390  0.048640   \n",
      "2  0.011456  0.091890  ...  0.000000  0.000032  0.000000  0.000000  0.001012   \n",
      "3  0.000126  0.101204  ...  0.012688  0.003234  0.044587  0.043323  0.001124   \n",
      "\n",
      "    #A8516E   #673147   #38152C   #AF868E   #915F6D  \n",
      "0  0.141491  0.020435  0.008028  0.000393  0.002226  \n",
      "1  0.238551  0.019605  0.005193  0.027711  0.015915  \n",
      "2  0.002041  0.021780  0.138292  0.139429  0.033746  \n",
      "3  0.194102  0.083343  0.031534  0.059408  0.112911  \n",
      "\n",
      "[4 rows x 47 columns]\n",
      "188\n",
      "images/blood/online_v1_00169.png\n"
     ]
    },
    {
     "output_type": "error",
     "ename": "KeyboardInterrupt",
     "evalue": "",
     "traceback": [
      "\u001b[0;31m---------------------------------------------------------------------------\u001b[0m",
      "\u001b[0;31mKeyboardInterrupt\u001b[0m                         Traceback (most recent call last)",
      "\u001b[0;32m<ipython-input-8-d9dd3b4312c0>\u001b[0m in \u001b[0;36m<module>\u001b[0;34m\u001b[0m\n\u001b[1;32m     12\u001b[0m     \u001b[0mpath_img\u001b[0m \u001b[0;34m=\u001b[0m \u001b[0mos\u001b[0m\u001b[0;34m.\u001b[0m\u001b[0mpath\u001b[0m\u001b[0;34m.\u001b[0m\u001b[0mjoin\u001b[0m\u001b[0;34m(\u001b[0m\u001b[0mpath\u001b[0m\u001b[0;34m,\u001b[0m \u001b[0mimg_name\u001b[0m\u001b[0;34m)\u001b[0m\u001b[0;34m\u001b[0m\u001b[0;34m\u001b[0m\u001b[0m\n\u001b[1;32m     13\u001b[0m     \u001b[0mprint\u001b[0m\u001b[0;34m(\u001b[0m\u001b[0mpath_img\u001b[0m\u001b[0;34m)\u001b[0m\u001b[0;34m\u001b[0m\u001b[0;34m\u001b[0m\u001b[0m\n\u001b[0;32m---> 14\u001b[0;31m     \u001b[0mdict_red\u001b[0m\u001b[0;34m,\u001b[0m \u001b[0mdict_temp_names\u001b[0m \u001b[0;34m=\u001b[0m \u001b[0mimg_to_red_vec\u001b[0m\u001b[0;34m(\u001b[0m\u001b[0mpath_img\u001b[0m\u001b[0;34m)\u001b[0m\u001b[0;34m\u001b[0m\u001b[0;34m\u001b[0m\u001b[0m\n\u001b[0m\u001b[1;32m     15\u001b[0m     \u001b[0mdict_img_names\u001b[0m\u001b[0;34m[\u001b[0m\u001b[0midx\u001b[0m\u001b[0;34m]\u001b[0m \u001b[0;34m=\u001b[0m \u001b[0mimg_name\u001b[0m\u001b[0;34m\u001b[0m\u001b[0;34m\u001b[0m\u001b[0m\n\u001b[1;32m     16\u001b[0m     \u001b[0;32mfor\u001b[0m \u001b[0mcolor_hex\u001b[0m \u001b[0;32min\u001b[0m \u001b[0mdf_red_vec\u001b[0m\u001b[0;34m.\u001b[0m\u001b[0mcolumns\u001b[0m\u001b[0;34m:\u001b[0m\u001b[0;34m\u001b[0m\u001b[0;34m\u001b[0m\u001b[0m\n",
      "\u001b[0;32m<ipython-input-6-aac8a8f140c3>\u001b[0m in \u001b[0;36mimg_to_red_vec\u001b[0;34m(img_path)\u001b[0m\n\u001b[1;32m      3\u001b[0m     \u001b[0mimg\u001b[0m \u001b[0;34m=\u001b[0m \u001b[0mImage\u001b[0m\u001b[0;34m.\u001b[0m\u001b[0mopen\u001b[0m\u001b[0;34m(\u001b[0m\u001b[0mpath_img\u001b[0m\u001b[0;34m)\u001b[0m\u001b[0;34m.\u001b[0m\u001b[0mconvert\u001b[0m\u001b[0;34m(\u001b[0m\u001b[0;34m'RGB'\u001b[0m\u001b[0;34m)\u001b[0m\u001b[0;34m\u001b[0m\u001b[0;34m\u001b[0m\u001b[0m\n\u001b[1;32m      4\u001b[0m     \u001b[0mimg\u001b[0m \u001b[0;34m=\u001b[0m \u001b[0mnp\u001b[0m\u001b[0;34m.\u001b[0m\u001b[0marray\u001b[0m\u001b[0;34m(\u001b[0m\u001b[0mimg\u001b[0m\u001b[0;34m)\u001b[0m\u001b[0;34m\u001b[0m\u001b[0;34m\u001b[0m\u001b[0m\n\u001b[0;32m----> 5\u001b[0;31m     \u001b[0marr_img_lab\u001b[0m \u001b[0;34m=\u001b[0m \u001b[0mconvert_to_lab\u001b[0m\u001b[0;34m(\u001b[0m\u001b[0mimg\u001b[0m\u001b[0;34m.\u001b[0m\u001b[0mreshape\u001b[0m\u001b[0;34m(\u001b[0m\u001b[0mimg\u001b[0m\u001b[0;34m.\u001b[0m\u001b[0mshape\u001b[0m\u001b[0;34m[\u001b[0m\u001b[0;36m0\u001b[0m\u001b[0;34m]\u001b[0m\u001b[0;34m*\u001b[0m\u001b[0mimg\u001b[0m\u001b[0;34m.\u001b[0m\u001b[0mshape\u001b[0m\u001b[0;34m[\u001b[0m\u001b[0;36m1\u001b[0m\u001b[0;34m]\u001b[0m\u001b[0;34m,\u001b[0m \u001b[0;36m3\u001b[0m\u001b[0;34m)\u001b[0m\u001b[0;34m)\u001b[0m\u001b[0;34m\u001b[0m\u001b[0;34m\u001b[0m\u001b[0m\n\u001b[0m\u001b[1;32m      6\u001b[0m     \u001b[0marr_iscc_lab\u001b[0m \u001b[0;34m=\u001b[0m \u001b[0mnp\u001b[0m\u001b[0;34m.\u001b[0m\u001b[0marray\u001b[0m\u001b[0;34m(\u001b[0m\u001b[0mdf_red_iscc\u001b[0m\u001b[0;34m[\u001b[0m\u001b[0;34m'Lab'\u001b[0m\u001b[0;34m]\u001b[0m\u001b[0;34m.\u001b[0m\u001b[0mtolist\u001b[0m\u001b[0;34m(\u001b[0m\u001b[0;34m)\u001b[0m\u001b[0;34m)\u001b[0m\u001b[0;34m\u001b[0m\u001b[0;34m\u001b[0m\u001b[0m\n\u001b[1;32m      7\u001b[0m     \u001b[0mquantized_img_lab\u001b[0m \u001b[0;34m=\u001b[0m \u001b[0mfind_the_cloeset_iscc\u001b[0m\u001b[0;34m(\u001b[0m\u001b[0marr_img_lab\u001b[0m\u001b[0;34m,\u001b[0m \u001b[0marr_iscc_lab\u001b[0m\u001b[0;34m)\u001b[0m\u001b[0;34m\u001b[0m\u001b[0;34m\u001b[0m\u001b[0m\n",
      "\u001b[0;32m<ipython-input-2-695dcc9a26df>\u001b[0m in \u001b[0;36mconvert_to_lab\u001b[0;34m(arr_rgb)\u001b[0m\n\u001b[1;32m      7\u001b[0m     \u001b[0;32mfor\u001b[0m \u001b[0mrow\u001b[0m \u001b[0;32min\u001b[0m \u001b[0marr_rgb\u001b[0m\u001b[0;34m:\u001b[0m\u001b[0;34m\u001b[0m\u001b[0;34m\u001b[0m\u001b[0m\n\u001b[1;32m      8\u001b[0m         \u001b[0mr\u001b[0m\u001b[0;34m,\u001b[0m \u001b[0mg\u001b[0m\u001b[0;34m,\u001b[0m \u001b[0mb\u001b[0m \u001b[0;34m=\u001b[0m \u001b[0mrow\u001b[0m\u001b[0;34m\u001b[0m\u001b[0;34m\u001b[0m\u001b[0m\n\u001b[0;32m----> 9\u001b[0;31m         \u001b[0mlist_lab\u001b[0m\u001b[0;34m.\u001b[0m\u001b[0mappend\u001b[0m\u001b[0;34m(\u001b[0m\u001b[0mconvert_color\u001b[0m\u001b[0;34m(\u001b[0m\u001b[0msRGBColor\u001b[0m\u001b[0;34m(\u001b[0m\u001b[0mr\u001b[0m\u001b[0;34m,\u001b[0m \u001b[0mg\u001b[0m\u001b[0;34m,\u001b[0m \u001b[0mb\u001b[0m\u001b[0;34m,\u001b[0m \u001b[0mis_upscaled\u001b[0m\u001b[0;34m=\u001b[0m\u001b[0;32mTrue\u001b[0m\u001b[0;34m)\u001b[0m\u001b[0;34m,\u001b[0m \u001b[0mLabColor\u001b[0m\u001b[0;34m)\u001b[0m\u001b[0;34m.\u001b[0m\u001b[0mget_value_tuple\u001b[0m\u001b[0;34m(\u001b[0m\u001b[0;34m)\u001b[0m\u001b[0;34m)\u001b[0m\u001b[0;34m\u001b[0m\u001b[0;34m\u001b[0m\u001b[0m\n\u001b[0m\u001b[1;32m     10\u001b[0m     \u001b[0;32mreturn\u001b[0m \u001b[0mnp\u001b[0m\u001b[0;34m.\u001b[0m\u001b[0marray\u001b[0m\u001b[0;34m(\u001b[0m\u001b[0mlist_lab\u001b[0m\u001b[0;34m)\u001b[0m\u001b[0;34m\u001b[0m\u001b[0;34m\u001b[0m\u001b[0m\n\u001b[1;32m     11\u001b[0m \u001b[0;34m\u001b[0m\u001b[0m\n",
      "\u001b[0;32m~/opt/anaconda3/lib/python3.8/site-packages/colormath/color_objects.py\u001b[0m in \u001b[0;36m__init__\u001b[0;34m(self, rgb_r, rgb_g, rgb_b, is_upscaled)\u001b[0m\n\u001b[1;32m    508\u001b[0m     \u001b[0mVALUES\u001b[0m \u001b[0;34m=\u001b[0m \u001b[0;34m[\u001b[0m\u001b[0;34m'rgb_r'\u001b[0m\u001b[0;34m,\u001b[0m \u001b[0;34m'rgb_g'\u001b[0m\u001b[0;34m,\u001b[0m \u001b[0;34m'rgb_b'\u001b[0m\u001b[0;34m]\u001b[0m\u001b[0;34m\u001b[0m\u001b[0;34m\u001b[0m\u001b[0m\n\u001b[1;32m    509\u001b[0m \u001b[0;34m\u001b[0m\u001b[0m\n\u001b[0;32m--> 510\u001b[0;31m     \u001b[0;32mdef\u001b[0m \u001b[0m__init__\u001b[0m\u001b[0;34m(\u001b[0m\u001b[0mself\u001b[0m\u001b[0;34m,\u001b[0m \u001b[0mrgb_r\u001b[0m\u001b[0;34m,\u001b[0m \u001b[0mrgb_g\u001b[0m\u001b[0;34m,\u001b[0m \u001b[0mrgb_b\u001b[0m\u001b[0;34m,\u001b[0m \u001b[0mis_upscaled\u001b[0m\u001b[0;34m=\u001b[0m\u001b[0;32mFalse\u001b[0m\u001b[0;34m)\u001b[0m\u001b[0;34m:\u001b[0m\u001b[0;34m\u001b[0m\u001b[0;34m\u001b[0m\u001b[0m\n\u001b[0m\u001b[1;32m    511\u001b[0m         \"\"\"\n\u001b[1;32m    512\u001b[0m         \u001b[0;34m:\u001b[0m\u001b[0mparam\u001b[0m \u001b[0mfloat\u001b[0m \u001b[0mrgb_r\u001b[0m\u001b[0;34m:\u001b[0m \u001b[0mR\u001b[0m \u001b[0mcoordinate\u001b[0m\u001b[0;34m.\u001b[0m \u001b[0;36m0.\u001b[0m\u001b[0;34m.\u001b[0m\u001b[0;36m.1\u001b[0m\u001b[0;34m.\u001b[0m \u001b[0;36m1\u001b[0m\u001b[0;34m-\u001b[0m\u001b[0;36m255\u001b[0m \u001b[0;32mif\u001b[0m \u001b[0mis_upscaled\u001b[0m\u001b[0;34m=\u001b[0m\u001b[0;32mTrue\u001b[0m\u001b[0;34m.\u001b[0m\u001b[0;34m\u001b[0m\u001b[0;34m\u001b[0m\u001b[0m\n",
      "\u001b[0;31mKeyboardInterrupt\u001b[0m: "
     ]
    }
   ],
   "source": [
    "'''\n",
    "Put all red color values into csv for blood images\n",
    "'''\n",
    "path = os.path.join('images', 'blood')\n",
    "df_red_vec = pd.DataFrame(columns = df_red_iscc['hex'].values) \n",
    "for img_name in os.listdir(path):\n",
    "    if img_name.startswith('data'):\n",
    "        continue\n",
    "        \n",
    "    path_img = os.path.join(path, img_name)\n",
    "    print(path_img)\n",
    "    dict_red, dict_temp_names = img_to_red_vec(path_img)\n",
    "    for color_hex in df_red_vec.columns:\n",
    "        if color_hex not in dict_red.keys():\n",
    "            dict_red[color_hex] = 0\n",
    "    df_red_vec = df_red_vec.append(dict_red,ignore_index=True,sort=False)\n",
    "    print(df_red_vec)\n",
    "    print(df_red_vec.size)"
   ]
  },
  {
   "cell_type": "code",
   "execution_count": 13,
   "metadata": {
    "tags": [
     "outputPrepend"
    ]
   },
   "outputs": [
    {
     "output_type": "stream",
     "name": "stdout",
     "text": "603  \n4   0.104359  0.198648  0.044717  0.093683  0.005829  0.000000  \n5   0.034683  0.126619  0.094119  0.106285  0.059926  0.105820  \n6   0.004189  0.027836  0.023654  0.272389  0.122614  0.180109  \n7   0.132928  0.124818  0.046162  0.103036  0.077055  0.143065  \n8   0.003430  0.119495  0.082804  0.110247  0.059906  0.133704  \n9   0.005188  0.127439  0.066829  0.092078  0.105285  0.259556  \n10  0.014602  0.068660  0.021236  0.186166  0.146231  0.207968  \n11  0.000010  0.000010  0.000228  0.201656  0.069819  0.199275  \n12  0.000827  0.087186  0.058316  0.140236  0.263477  0.121895  \n13  0.000016  0.000073  0.002022  0.110844  0.055898  0.332390  \n14  0.000031  0.031807  0.096433  0.136721  0.127371  0.207850  \n15  0.000000  0.000361  0.014460  0.283406  0.069314  0.036975  \n16  0.117483  0.202170  0.001823  0.009146  0.163806  0.086088  \n17  0.004586  0.166110  0.149130  0.068054  0.069011  0.038112  \n18  0.000011  0.002978  0.011145  0.072732  0.013058  0.264198  \n19  0.047551  0.069221  0.029106  0.153625  0.304596  0.174625  \n20  0.018079  0.074546  0.000565  0.505376  0.146398  0.111155  \n21  0.011900  0.340078  0.059451  0.111729  0.106916  0.049112  \n22  0.003240  0.000000  0.000003  0.220037  0.144641  0.161942  \n23  0.004425  0.142660  0.166206  0.035089  0.043257  0.163321  \n24  0.068030  0.195998  0.007165  0.008195  0.013593  0.028127  \n\n[25 rows x 47 columns]\n1175\nimages/good/online_v1_00017.png\ndone\n    #BE0032  #BC3F4A  #841B2D   #5C0923   #AB4E52   #722F37   #3F1728  \\\n0       0.0      0.0      0.0  0.000013  0.000000  0.000000  0.000036   \n1       0.0      0.0      0.0  0.000000  0.000000  0.000000  0.000221   \n2       0.0      0.0      0.0  0.000000  0.000000  0.000000  0.000000   \n3       0.0      0.0      0.0  0.000000  0.000000  0.000000  0.000024   \n4       0.0      0.0      0.0  0.000000  0.000000  0.000000  0.007257   \n5       0.0      0.0      0.0  0.000000  0.000000  0.000000  0.000135   \n6       0.0      0.0      0.0  0.000000  0.000000  0.000000  0.000000   \n7       0.0      0.0      0.0  0.000000  0.000000  0.000000  0.000000   \n8       0.0      0.0      0.0  0.000000  0.000000  0.000000  0.002801   \n9       0.0      0.0      0.0  0.000000  0.000000  0.000000  0.000000   \n10      0.0      0.0      0.0  0.000000  0.000000  0.000000  0.000000   \n11      0.0      0.0      0.0  0.000000  0.000000  0.000000  0.000000   \n12      0.0      0.0      0.0  0.000000  0.000000  0.000000  0.000025   \n13      0.0      0.0      0.0  0.000000  0.000000  0.000000  0.000000   \n14      0.0      0.0      0.0  0.000000  0.000000  0.000000  0.000000   \n15      0.0      0.0      0.0  0.000000  0.000000  0.000000  0.000239   \n16      0.0      0.0      0.0  0.000000  0.000000  0.000000  0.000000   \n17      0.0      0.0      0.0  0.000008  0.000037  0.000055  0.013209   \n18      0.0      0.0      0.0  0.000000  0.000000  0.000000  0.000000   \n19      0.0      0.0      0.0  0.000000  0.000000  0.000000  0.000093   \n20      0.0      0.0      0.0  0.000000  0.000000  0.000000  0.000000   \n21      0.0      0.0      0.0  0.000000  0.000000  0.000000  0.000915   \n22      0.0      0.0      0.0  0.000000  0.000000  0.000000  0.001813   \n23      0.0      0.0      0.0  0.000002  0.000000  0.000000  0.066062   \n24      0.0      0.0      0.0  0.000000  0.000000  0.000000  0.000000   \n25      0.0      0.0      0.0  0.000000  0.000000  0.000000  0.017109   \n\n     #AD8884   #905D5D   #543D3F  ...   #836479   #CE4676   #B3446C   #78184A  \\\n0   0.000104  0.000018  0.009325  ...  0.000000  0.000041  0.000000  0.000074   \n1   0.013959  0.002276  0.049887  ...  0.000000  0.000000  0.000000  0.000000   \n2   0.000000  0.034208  0.122478  ...  0.000000  0.000000  0.000000  0.000000   \n3   0.000069  0.000006  0.000253  ...  0.000000  0.000027  0.000000  0.000000   \n4   0.000000  0.000000  0.000333  ...  0.085803  0.089695  0.118089  0.043327   \n5   0.000000  0.000000  0.064067  ...  0.001506  0.069449  0.002786  0.000078   \n6   0.000123  0.000000  0.020907  ...  0.000000  0.000000  0.000000  0.000000   \n7   0.000000  0.000000  0.000000  ...  0.000000  0.074367  0.000000  0.000000   \n8   0.001358  0.002570  0.207852  ...  0.000169  0.007390  0.000000  0.000000   \n9   0.001382  0.000000  0.015011  ...  0.000032  0.038229  0.000000  0.000000   \n10  0.000425  0.000005  0.130915  ...  0.000000  0.003235  0.000000  0.000000   \n11  0.000000  0.000000  0.000000  ...  0.000000  0.000000  0.000000  0.000000   \n12  0.002996  0.000000  0.099350  ...  0.000000  0.000021  0.000000  0.000000   \n13  0.000000  0.000000  0.000000  ...  0.000000  0.000000  0.000000  0.000000   \n14  0.000000  0.000000  0.000191  ...  0.000000  0.000000  0.000000  0.000000   \n15  0.000010  0.044331  0.236958  ...  0.000000  0.000000  0.000000  0.000000   \n16  0.000000  0.000000  0.000000  ...  0.000085  0.138235  0.000000  0.000000   \n17  0.000069  0.012930  0.099597  ...  0.000000  0.000000  0.000000  0.000949   \n18  0.000046  0.002869  0.025859  ...  0.000000  0.000000  0.000040  0.000000   \n19  0.000000  0.033391  0.040667  ...  0.000000  0.000750  0.000000  0.000003   \n20  0.000000  0.000000  0.000000  ...  0.001041  0.016373  0.000000  0.000000   \n21  0.002741  0.000635  0.093213  ...  0.002181  0.007991  0.001417  0.003431   \n22  0.000000  0.048894  0.011019  ...  0.000000  0.000000  0.000000  0.000000   \n23  0.008287  0.003437  0.103658  ...  0.000028  0.001448  0.000013  0.000119   \n24  0.000000  0.000000  0.000000  ...  0.046563  0.292144  0.000702  0.000011   \n25  0.050253  0.000192  0.065987  ...  0.000000  0.000000  0.000000  0.000000   \n\n     #54133B   #A8516E   #673147   #38152C   #AF868E   #915F6D  \n0   0.000895  0.095890  0.223404  0.003848  0.031195  0.278633  \n1   0.000025  0.000000  0.000000  0.039442  0.218389  0.102099  \n2   0.000000  0.000000  0.000000  0.000000  0.000000  0.033776  \n3   0.000169  0.003651  0.043405  0.027219  0.116437  0.285603  \n4   0.104359  0.198648  0.044717  0.093683  0.005829  0.000000  \n5   0.034683  0.126619  0.094119  0.106285  0.059926  0.105820  \n6   0.004189  0.027836  0.023654  0.272389  0.122614  0.180109  \n7   0.132928  0.124818  0.046162  0.103036  0.077055  0.143065  \n8   0.003430  0.119495  0.082804  0.110247  0.059906  0.133704  \n9   0.005188  0.127439  0.066829  0.092078  0.105285  0.259556  \n10  0.014602  0.068660  0.021236  0.186166  0.146231  0.207968  \n11  0.000010  0.000010  0.000228  0.201656  0.069819  0.199275  \n12  0.000827  0.087186  0.058316  0.140236  0.263477  0.121895  \n13  0.000016  0.000073  0.002022  0.110844  0.055898  0.332390  \n14  0.000031  0.031807  0.096433  0.136721  0.127371  0.207850  \n15  0.000000  0.000361  0.014460  0.283406  0.069314  0.036975  \n16  0.117483  0.202170  0.001823  0.009146  0.163806  0.086088  \n17  0.004586  0.166110  0.149130  0.068054  0.069011  0.038112  \n18  0.000011  0.002978  0.011145  0.072732  0.013058  0.264198  \n19  0.047551  0.069221  0.029106  0.153625  0.304596  0.174625  \n20  0.018079  0.074546  0.000565  0.505376  0.146398  0.111155  \n21  0.011900  0.340078  0.059451  0.111729  0.106916  0.049112  \n22  0.003240  0.000000  0.000003  0.220037  0.144641  0.161942  \n23  0.004425  0.142660  0.166206  0.035089  0.043257  0.163321  \n24  0.068030  0.195998  0.007165  0.008195  0.013593  0.028127  \n25  0.000000  0.013103  0.000042  0.416897  0.120978  0.054804  \n\n[26 rows x 47 columns]\n1222\nimages/good/online_v1_00016.png\ndone\n    #BE0032  #BC3F4A  #841B2D   #5C0923   #AB4E52   #722F37   #3F1728  \\\n0       0.0      0.0      0.0  0.000013  0.000000  0.000000  0.000036   \n1       0.0      0.0      0.0  0.000000  0.000000  0.000000  0.000221   \n2       0.0      0.0      0.0  0.000000  0.000000  0.000000  0.000000   \n3       0.0      0.0      0.0  0.000000  0.000000  0.000000  0.000024   \n4       0.0      0.0      0.0  0.000000  0.000000  0.000000  0.007257   \n5       0.0      0.0      0.0  0.000000  0.000000  0.000000  0.000135   \n6       0.0      0.0      0.0  0.000000  0.000000  0.000000  0.000000   \n7       0.0      0.0      0.0  0.000000  0.000000  0.000000  0.000000   \n8       0.0      0.0      0.0  0.000000  0.000000  0.000000  0.002801   \n9       0.0      0.0      0.0  0.000000  0.000000  0.000000  0.000000   \n10      0.0      0.0      0.0  0.000000  0.000000  0.000000  0.000000   \n11      0.0      0.0      0.0  0.000000  0.000000  0.000000  0.000000   \n12      0.0      0.0      0.0  0.000000  0.000000  0.000000  0.000025   \n13      0.0      0.0      0.0  0.000000  0.000000  0.000000  0.000000   \n14      0.0      0.0      0.0  0.000000  0.000000  0.000000  0.000000   \n15      0.0      0.0      0.0  0.000000  0.000000  0.000000  0.000239   \n16      0.0      0.0      0.0  0.000000  0.000000  0.000000  0.000000   \n17      0.0      0.0      0.0  0.000008  0.000037  0.000055  0.013209   \n18      0.0      0.0      0.0  0.000000  0.000000  0.000000  0.000000   \n19      0.0      0.0      0.0  0.000000  0.000000  0.000000  0.000093   \n20      0.0      0.0      0.0  0.000000  0.000000  0.000000  0.000000   \n21      0.0      0.0      0.0  0.000000  0.000000  0.000000  0.000915   \n22      0.0      0.0      0.0  0.000000  0.000000  0.000000  0.001813   \n23      0.0      0.0      0.0  0.000002  0.000000  0.000000  0.066062   \n24      0.0      0.0      0.0  0.000000  0.000000  0.000000  0.000000   \n25      0.0      0.0      0.0  0.000000  0.000000  0.000000  0.017109   \n26      0.0      0.0      0.0  0.000000  0.000000  0.000000  0.000000   \n\n     #AD8884   #905D5D   #543D3F  ...   #836479   #CE4676   #B3446C   #78184A  \\\n0   0.000104  0.000018  0.009325  ...  0.000000  0.000041  0.000000  0.000074   \n1   0.013959  0.002276  0.049887  ...  0.000000  0.000000  0.000000  0.000000   \n2   0.000000  0.034208  0.122478  ...  0.000000  0.000000  0.000000  0.000000   \n3   0.000069  0.000006  0.000253  ...  0.000000  0.000027  0.000000  0.000000   \n4   0.000000  0.000000  0.000333  ...  0.085803  0.089695  0.118089  0.043327   \n5   0.000000  0.000000  0.064067  ...  0.001506  0.069449  0.002786  0.000078   \n6   0.000123  0.000000  0.020907  ...  0.000000  0.000000  0.000000  0.000000   \n7   0.000000  0.000000  0.000000  ...  0.000000  0.074367  0.000000  0.000000   \n8   0.001358  0.002570  0.207852  ...  0.000169  0.007390  0.000000  0.000000   \n9   0.001382  0.000000  0.015011  ...  0.000032  0.038229  0.000000  0.000000   \n10  0.000425  0.000005  0.130915  ...  0.000000  0.003235  0.000000  0.000000   \n11  0.000000  0.000000  0.000000  ...  0.000000  0.000000  0.000000  0.000000   \n12  0.002996  0.000000  0.099350  ...  0.000000  0.000021  0.000000  0.000000   \n13  0.000000  0.000000  0.000000  ...  0.000000  0.000000  0.000000  0.000000   \n14  0.000000  0.000000  0.000191  ...  0.000000  0.000000  0.000000  0.000000   \n15  0.000010  0.044331  0.236958  ...  0.000000  0.000000  0.000000  0.000000   \n16  0.000000  0.000000  0.000000  ...  0.000085  0.138235  0.000000  0.000000   \n17  0.000069  0.012930  0.099597  ...  0.000000  0.000000  0.000000  0.000949   \n18  0.000046  0.002869  0.025859  ...  0.000000  0.000000  0.000040  0.000000   \n19  0.000000  0.033391  0.040667  ...  0.000000  0.000750  0.000000  0.000003   \n20  0.000000  0.000000  0.000000  ...  0.001041  0.016373  0.000000  0.000000   \n21  0.002741  0.000635  0.093213  ...  0.002181  0.007991  0.001417  0.003431   \n22  0.000000  0.048894  0.011019  ...  0.000000  0.000000  0.000000  0.000000   \n23  0.008287  0.003437  0.103658  ...  0.000028  0.001448  0.000013  0.000119   \n24  0.000000  0.000000  0.000000  ...  0.046563  0.292144  0.000702  0.000011   \n25  0.050253  0.000192  0.065987  ...  0.000000  0.000000  0.000000  0.000000   \n26  0.000012  0.000012  0.173858  ...  0.000000  0.000000  0.000000  0.000000   \n\n     #54133B   #A8516E   #673147   #38152C   #AF868E   #915F6D  \n0   0.000895  0.095890  0.223404  0.003848  0.031195  0.278633  \n1   0.000025  0.000000  0.000000  0.039442  0.218389  0.102099  \n2   0.000000  0.000000  0.000000  0.000000  0.000000  0.033776  \n3   0.000169  0.003651  0.043405  0.027219  0.116437  0.285603  \n4   0.104359  0.198648  0.044717  0.093683  0.005829  0.000000  \n5   0.034683  0.126619  0.094119  0.106285  0.059926  0.105820  \n6   0.004189  0.027836  0.023654  0.272389  0.122614  0.180109  \n7   0.132928  0.124818  0.046162  0.103036  0.077055  0.143065  \n8   0.003430  0.119495  0.082804  0.110247  0.059906  0.133704  \n9   0.005188  0.127439  0.066829  0.092078  0.105285  0.259556  \n10  0.014602  0.068660  0.021236  0.186166  0.146231  0.207968  \n11  0.000010  0.000010  0.000228  0.201656  0.069819  0.199275  \n12  0.000827  0.087186  0.058316  0.140236  0.263477  0.121895  \n13  0.000016  0.000073  0.002022  0.110844  0.055898  0.332390  \n14  0.000031  0.031807  0.096433  0.136721  0.127371  0.207850  \n15  0.000000  0.000361  0.014460  0.283406  0.069314  0.036975  \n16  0.117483  0.202170  0.001823  0.009146  0.163806  0.086088  \n17  0.004586  0.166110  0.149130  0.068054  0.069011  0.038112  \n18  0.000011  0.002978  0.011145  0.072732  0.013058  0.264198  \n19  0.047551  0.069221  0.029106  0.153625  0.304596  0.174625  \n20  0.018079  0.074546  0.000565  0.505376  0.146398  0.111155  \n21  0.011900  0.340078  0.059451  0.111729  0.106916  0.049112  \n22  0.003240  0.000000  0.000003  0.220037  0.144641  0.161942  \n23  0.004425  0.142660  0.166206  0.035089  0.043257  0.163321  \n24  0.068030  0.195998  0.007165  0.008195  0.013593  0.028127  \n25  0.000000  0.013103  0.000042  0.416897  0.120978  0.054804  \n26  0.000000  0.000000  0.000111  0.001527  0.172652  0.164848  \n\n[27 rows x 47 columns]\n1269\nimages/good/online_v1_00002.png\ndone\n    #BE0032  #BC3F4A  #841B2D   #5C0923   #AB4E52   #722F37   #3F1728  \\\n0       0.0      0.0      0.0  0.000013  0.000000  0.000000  0.000036   \n1       0.0      0.0      0.0  0.000000  0.000000  0.000000  0.000221   \n2       0.0      0.0      0.0  0.000000  0.000000  0.000000  0.000000   \n3       0.0      0.0      0.0  0.000000  0.000000  0.000000  0.000024   \n4       0.0      0.0      0.0  0.000000  0.000000  0.000000  0.007257   \n5       0.0      0.0      0.0  0.000000  0.000000  0.000000  0.000135   \n6       0.0      0.0      0.0  0.000000  0.000000  0.000000  0.000000   \n7       0.0      0.0      0.0  0.000000  0.000000  0.000000  0.000000   \n8       0.0      0.0      0.0  0.000000  0.000000  0.000000  0.002801   \n9       0.0      0.0      0.0  0.000000  0.000000  0.000000  0.000000   \n10      0.0      0.0      0.0  0.000000  0.000000  0.000000  0.000000   \n11      0.0      0.0      0.0  0.000000  0.000000  0.000000  0.000000   \n12      0.0      0.0      0.0  0.000000  0.000000  0.000000  0.000025   \n13      0.0      0.0      0.0  0.000000  0.000000  0.000000  0.000000   \n14      0.0      0.0      0.0  0.000000  0.000000  0.000000  0.000000   \n15      0.0      0.0      0.0  0.000000  0.000000  0.000000  0.000239   \n16      0.0      0.0      0.0  0.000000  0.000000  0.000000  0.000000   \n17      0.0      0.0      0.0  0.000008  0.000037  0.000055  0.013209   \n18      0.0      0.0      0.0  0.000000  0.000000  0.000000  0.000000   \n19      0.0      0.0      0.0  0.000000  0.000000  0.000000  0.000093   \n20      0.0      0.0      0.0  0.000000  0.000000  0.000000  0.000000   \n21      0.0      0.0      0.0  0.000000  0.000000  0.000000  0.000915   \n22      0.0      0.0      0.0  0.000000  0.000000  0.000000  0.001813   \n23      0.0      0.0      0.0  0.000002  0.000000  0.000000  0.066062   \n24      0.0      0.0      0.0  0.000000  0.000000  0.000000  0.000000   \n25      0.0      0.0      0.0  0.000000  0.000000  0.000000  0.017109   \n26      0.0      0.0      0.0  0.000000  0.000000  0.000000  0.000000   \n27      0.0      0.0      0.0  0.000000  0.000000  0.000000  0.000000   \n\n     #AD8884   #905D5D   #543D3F  ...   #836479   #CE4676   #B3446C   #78184A  \\\n0   0.000104  0.000018  0.009325  ...  0.000000  0.000041  0.000000  0.000074   \n1   0.013959  0.002276  0.049887  ...  0.000000  0.000000  0.000000  0.000000   \n2   0.000000  0.034208  0.122478  ...  0.000000  0.000000  0.000000  0.000000   \n3   0.000069  0.000006  0.000253  ...  0.000000  0.000027  0.000000  0.000000   \n4   0.000000  0.000000  0.000333  ...  0.085803  0.089695  0.118089  0.043327   \n5   0.000000  0.000000  0.064067  ...  0.001506  0.069449  0.002786  0.000078   \n6   0.000123  0.000000  0.020907  ...  0.000000  0.000000  0.000000  0.000000   \n7   0.000000  0.000000  0.000000  ...  0.000000  0.074367  0.000000  0.000000   \n8   0.001358  0.002570  0.207852  ...  0.000169  0.007390  0.000000  0.000000   \n9   0.001382  0.000000  0.015011  ...  0.000032  0.038229  0.000000  0.000000   \n10  0.000425  0.000005  0.130915  ...  0.000000  0.003235  0.000000  0.000000   \n11  0.000000  0.000000  0.000000  ...  0.000000  0.000000  0.000000  0.000000   \n12  0.002996  0.000000  0.099350  ...  0.000000  0.000021  0.000000  0.000000   \n13  0.000000  0.000000  0.000000  ...  0.000000  0.000000  0.000000  0.000000   \n14  0.000000  0.000000  0.000191  ...  0.000000  0.000000  0.000000  0.000000   \n15  0.000010  0.044331  0.236958  ...  0.000000  0.000000  0.000000  0.000000   \n16  0.000000  0.000000  0.000000  ...  0.000085  0.138235  0.000000  0.000000   \n17  0.000069  0.012930  0.099597  ...  0.000000  0.000000  0.000000  0.000949   \n18  0.000046  0.002869  0.025859  ...  0.000000  0.000000  0.000040  0.000000   \n19  0.000000  0.033391  0.040667  ...  0.000000  0.000750  0.000000  0.000003   \n20  0.000000  0.000000  0.000000  ...  0.001041  0.016373  0.000000  0.000000   \n21  0.002741  0.000635  0.093213  ...  0.002181  0.007991  0.001417  0.003431   \n22  0.000000  0.048894  0.011019  ...  0.000000  0.000000  0.000000  0.000000   \n23  0.008287  0.003437  0.103658  ...  0.000028  0.001448  0.000013  0.000119   \n24  0.000000  0.000000  0.000000  ...  0.046563  0.292144  0.000702  0.000011   \n25  0.050253  0.000192  0.065987  ...  0.000000  0.000000  0.000000  0.000000   \n26  0.000012  0.000012  0.173858  ...  0.000000  0.000000  0.000000  0.000000   \n27  0.000000  0.000000  0.000000  ...  0.000963  0.043947  0.000000  0.000000   \n\n     #54133B   #A8516E   #673147   #38152C   #AF868E   #915F6D  \n0   0.000895  0.095890  0.223404  0.003848  0.031195  0.278633  \n1   0.000025  0.000000  0.000000  0.039442  0.218389  0.102099  \n2   0.000000  0.000000  0.000000  0.000000  0.000000  0.033776  \n3   0.000169  0.003651  0.043405  0.027219  0.116437  0.285603  \n4   0.104359  0.198648  0.044717  0.093683  0.005829  0.000000  \n5   0.034683  0.126619  0.094119  0.106285  0.059926  0.105820  \n6   0.004189  0.027836  0.023654  0.272389  0.122614  0.180109  \n7   0.132928  0.124818  0.046162  0.103036  0.077055  0.143065  \n8   0.003430  0.119495  0.082804  0.110247  0.059906  0.133704  \n9   0.005188  0.127439  0.066829  0.092078  0.105285  0.259556  \n10  0.014602  0.068660  0.021236  0.186166  0.146231  0.207968  \n11  0.000010  0.000010  0.000228  0.201656  0.069819  0.199275  \n12  0.000827  0.087186  0.058316  0.140236  0.263477  0.121895  \n13  0.000016  0.000073  0.002022  0.110844  0.055898  0.332390  \n14  0.000031  0.031807  0.096433  0.136721  0.127371  0.207850  \n15  0.000000  0.000361  0.014460  0.283406  0.069314  0.036975  \n16  0.117483  0.202170  0.001823  0.009146  0.163806  0.086088  \n17  0.004586  0.166110  0.149130  0.068054  0.069011  0.038112  \n18  0.000011  0.002978  0.011145  0.072732  0.013058  0.264198  \n19  0.047551  0.069221  0.029106  0.153625  0.304596  0.174625  \n20  0.018079  0.074546  0.000565  0.505376  0.146398  0.111155  \n21  0.011900  0.340078  0.059451  0.111729  0.106916  0.049112  \n22  0.003240  0.000000  0.000003  0.220037  0.144641  0.161942  \n23  0.004425  0.142660  0.166206  0.035089  0.043257  0.163321  \n24  0.068030  0.195998  0.007165  0.008195  0.013593  0.028127  \n25  0.000000  0.013103  0.000042  0.416897  0.120978  0.054804  \n26  0.000000  0.000000  0.000111  0.001527  0.172652  0.164848  \n27  0.036970  0.283346  0.010468  0.153469  0.122937  0.126289  \n\n[28 rows x 47 columns]\n1316\n"
    }
   ],
   "source": [
    "'''\n",
    "Put all red color values into csv for good images\n",
    "'''\n",
    "path = os.path.join('images', 'good')\n",
    "df_good_red_vec = pd.DataFrame(columns = df_red_iscc['hex'].values) \n",
    "for img_name in os.listdir(path):\n",
    "    if img_name.startswith('data'):\n",
    "        continue\n",
    "    if img_name.startswith('.'):\n",
    "        continue\n",
    "       \n",
    "    path_img = os.path.join(path, img_name)\n",
    "    print(path_img)\n",
    "    dict_red, dict_temp_names = img_to_red_vec(path_img)\n",
    "    print('done')\n",
    "    for color_hex in df_red_vec.columns:\n",
    "        if color_hex not in dict_red.keys():\n",
    "            dict_red[color_hex] = 0\n",
    "    df_good_red_vec = df_good_red_vec.append(dict_red,ignore_index=True,sort=False)\n",
    "    print(df_good_red_vec)\n",
    "    print(df_good_red_vec.size)"
   ]
  },
  {
   "cell_type": "code",
   "execution_count": 15,
   "metadata": {},
   "outputs": [
    {
     "output_type": "execute_result",
     "data": {
      "text/plain": "(6, 267)"
     },
     "metadata": {},
     "execution_count": 15
    }
   ],
   "source": [
    "# all 267 colors\n",
    "df_vec.shape"
   ]
  },
  {
   "cell_type": "code",
   "execution_count": 15,
   "metadata": {},
   "outputs": [
    {
     "output_type": "execute_result",
     "data": {
      "text/plain": "(26, 47)"
     },
     "metadata": {},
     "execution_count": 15
    }
   ],
   "source": [
    "df_red_vec.shape"
   ]
  },
  {
   "cell_type": "code",
   "execution_count": null,
   "metadata": {},
   "outputs": [],
   "source": [
    "df_vec.to_csv(os.path.join(path, 'data_blood.csv'), index=False)"
   ]
  },
  {
   "cell_type": "code",
   "execution_count": 14,
   "metadata": {},
   "outputs": [],
   "source": [
    "df_red_vec.to_csv(os.path.join(path, 'data_red_only.csv'), index = False)"
   ]
  },
  {
   "cell_type": "code",
   "execution_count": 15,
   "metadata": {},
   "outputs": [],
   "source": [
    "df_good_red_vec.to_csv(os.path.join(path, 'data_good_red_only.csv'), index = False)"
   ]
  },
  {
   "cell_type": "code",
   "execution_count": null,
   "metadata": {},
   "outputs": [],
   "source": []
  }
 ],
 "metadata": {
  "kernelspec": {
   "display_name": "Python 3",
   "language": "python",
   "name": "python3"
  },
  "language_info": {
   "codemirror_mode": {
    "name": "ipython",
    "version": 3
   },
   "file_extension": ".py",
   "mimetype": "text/x-python",
   "name": "python",
   "nbconvert_exporter": "python",
   "pygments_lexer": "ipython3",
   "version": "3.8.3-final"
  }
 },
 "nbformat": 4,
 "nbformat_minor": 4
}