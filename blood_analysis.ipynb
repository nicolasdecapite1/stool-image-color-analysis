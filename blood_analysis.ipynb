{
 "cells": [
  {
   "cell_type": "code",
   "execution_count": 1,
   "metadata": {},
   "outputs": [],
   "source": [
    "'''\n",
    "Import necessary packages\n",
    "'''\n",
    "import os\n",
    "import pandas as pd\n",
    "import numpy as np\n",
    "from scipy.spatial.distance import cdist\n",
    "\n",
    "import matplotlib.pyplot as plt\n",
    "import imageio\n",
    "from colormath.color_objects import sRGBColor, LabColor\n",
    "from colormath.color_conversions import convert_color\n",
    "from PIL import Image\n",
    "# import cv2\n",
    "from collections import Counter\n",
    "\n",
    "np.set_printoptions(precision=3)\n",
    "\n",
    "%matplotlib inline"
   ]
  },
  {
   "cell_type": "code",
   "execution_count": 2,
   "metadata": {},
   "outputs": [],
   "source": [
    "def convert_to_lab(arr_rgb):\n",
    "    '''\n",
    "    This function will transform every rgb value in the list to lab. \n",
    "    '''\n",
    "    \n",
    "    list_lab = []\n",
    "    for row in arr_rgb:\n",
    "        r, g, b = row\n",
    "        list_lab.append(convert_color(sRGBColor(r, g, b, is_upscaled=True), LabColor).get_value_tuple())\n",
    "    return np.array(list_lab)\n",
    "\n",
    "\n",
    "def convert_to_rgb(arr_lab):\n",
    "    '''\n",
    "    This function will transform every rgb value in the list to lab. \n",
    "    '''\n",
    "    \n",
    "    list_rgb = []\n",
    "    for row in arr_lab:\n",
    "        l, a, b = row\n",
    "        list_rgb.append(convert_color(LabColor(l, a, b), sRGBColor).get_value_tuple())\n",
    "    return np.array(list_rgb)\n",
    "\n",
    "def find_the_cloeset_iscc(arr_img_lab, arr_iscc_lab):\n",
    "    \n",
    "    return arr_iscc_lab[np.argmin(cdist(arr_img_lab, arr_iscc_lab), 1)] \n",
    "\n",
    "# function to return key for any value \n",
    "def get_key(my_dict, val): \n",
    "    for key, value in my_dict.items(): \n",
    "         if val == value: \n",
    "                return key \n",
    "    return \"key doesn't exist\"\n",
    "      "
   ]
  },
  {
   "cell_type": "code",
   "execution_count": 4,
   "metadata": {},
   "outputs": [],
   "source": [
    "'''\n",
    "Define the color card with ISCC_NBS\n",
    "'''\n",
    "\n",
    "# Read ISCC from local file\n",
    "path_iscc = os.path.join('ISCC_NBS', 'ISCC_NBS_w3.csv')\n",
    "df_iscc = pd.read_csv(path_iscc, names = ['color_name', 'hex'])\n",
    "\n",
    "# Get the RGB and CIE-Lab values for each color in ISCC color card\n",
    "df_iscc['RGB'] = \"\"\n",
    "df_iscc['Lab'] = \"\"\n",
    "for index, row in df_iscc.iterrows(): \n",
    "    df_iscc.loc[index, 'RGB'] = sRGBColor.new_from_rgb_hex(row['hex'])\n",
    "    df_iscc.loc[index, 'Lab'] = convert_color(df_iscc.loc[index, 'RGB'], LabColor).get_value_tuple()"
   ]
  },
  {
   "cell_type": "code",
   "execution_count": 5,
   "metadata": {
    "tags": []
   },
   "outputs": [],
   "source": [
    "'''\n",
    "Define the color card with ISCC_NBS for only red colors\n",
    "'''\n",
    "\n",
    "# Read ISCC from local file\n",
    "path_red_iscc = os.path.join('ISCC_NBS', 'ISCC_NBS_ONLY_RED_w3.csv')\n",
    "df_red_iscc = pd.read_csv(path_red_iscc, names = ['color_name', 'hex'])\n",
    "\n",
    "# Get the RGB and CIE-Lab values for each color in ISCC color card\n",
    "df_red_iscc['RGB'] = \"\"\n",
    "df_red_iscc['Lab'] = \"\"\n",
    "for index, row in df_red_iscc.iterrows(): \n",
    "    df_red_iscc.loc[index, 'RGB'] = sRGBColor.new_from_rgb_hex(row['hex'])\n",
    "    df_red_iscc.loc[index, 'Lab'] = convert_color(df_iscc.loc[index, 'RGB'], LabColor).get_value_tuple()"
   ]
  },
  {
   "cell_type": "code",
   "execution_count": 6,
   "metadata": {},
   "outputs": [],
   "source": [
    "def img_to_vec(img_path):\n",
    "    \n",
    "    img = Image.open(path_img).convert('RGB')\n",
    "    img = np.array(img)\n",
    "    arr_img_lab = convert_to_lab(img.reshape(img.shape[0]*img.shape[1], 3))\n",
    "    arr_iscc_lab = np.array(df_iscc['Lab'].tolist())\n",
    "    quantized_img_lab = find_the_cloeset_iscc(arr_img_lab, arr_iscc_lab)\n",
    "    quantized_img_rgb = convert_to_rgb(quantized_img_lab).reshape(img.shape[0], img.shape[1], 3)\n",
    "    background_lab = np.array([95.7931405 , -0.15465805, -0.6054342])\n",
    "    (unique, counts) = np.unique(quantized_img_lab, return_counts=True, axis=0)\n",
    "    indices = np.argsort(counts)[::-1]\n",
    "    dict_color_count = {}\n",
    "    dict_color_name = {}\n",
    "    sum_counts = sum(counts)\n",
    "\n",
    "\n",
    "    for i in indices:\n",
    "        if cdist(unique[i].reshape(1, 3), background_lab.reshape(1, 3)) < 0.001:\n",
    "            continue\n",
    "        index_iscc = np.where(cdist(df_iscc['Lab'].tolist(), unique[i].reshape(1, 3))<0.01)\n",
    "        hex_value = df_iscc.loc[index_iscc[0][0], 'hex']\n",
    "        color_name = df_iscc.loc[index_iscc[0][0], 'color_name']\n",
    "        dict_color_count[hex_value] = counts[i]/sum_counts\n",
    "        dict_color_name[hex_value] = color_name\n",
    "    return dict_color_count, dict_color_name"
   ]
  },
  {
   "cell_type": "code",
   "execution_count": 7,
   "metadata": {},
   "outputs": [],
   "source": [
    "def img_to_red_vec(img_path):\n",
    "    \n",
    "    img = Image.open(path_img).convert('RGB')\n",
    "    img = np.array(img)\n",
    "    arr_img_lab = convert_to_lab(img.reshape(img.shape[0]*img.shape[1], 3))\n",
    "    arr_iscc_lab = np.array(df_red_iscc['Lab'].tolist())\n",
    "    quantized_img_lab = find_the_cloeset_iscc(arr_img_lab, arr_iscc_lab)\n",
    "    quantized_img_rgb = convert_to_rgb(quantized_img_lab).reshape(img.shape[0], img.shape[1], 3)\n",
    "    background_lab = np.array([95.7931405 , -0.15465805, -0.6054342])\n",
    "    (unique, counts) = np.unique(quantized_img_lab, return_counts=True, axis=0)\n",
    "    indices = np.argsort(counts)[::-1]\n",
    "    dict_color_count = {}\n",
    "    dict_color_name = {}\n",
    "    sum_counts = sum(counts)\n",
    "\n",
    "\n",
    "    for i in indices:\n",
    "        if cdist(unique[i].reshape(1, 3), background_lab.reshape(1, 3)) < 0.001:\n",
    "            continue\n",
    "        index_iscc = np.where(cdist(df_red_iscc['Lab'].tolist(), unique[i].reshape(1, 3))<0.01)\n",
    "        hex_value = df_red_iscc.loc[index_iscc[0][0], 'hex']\n",
    "        color_name = df_red_iscc.loc[index_iscc[0][0], 'color_name']\n",
    "        dict_color_count[hex_value] = counts[i]/sum_counts\n",
    "        dict_color_name[hex_value] = color_name\n",
    "    return dict_color_count, dict_color_name"
   ]
  },
  {
   "cell_type": "code",
   "execution_count": 6,
   "metadata": {
    "scrolled": true,
    "tags": [
     "outputPrepend"
    ]
   },
   "outputs": [
    {
     "output_type": "stream",
     "name": "stdout",
     "text": "9;: &#39;Light_Grayish_Brown&#39;, &#39;#57554C&#39;: &#39;Olive_Gray&#39;, &#39;#3E322C&#39;: &#39;Dark_Grayish_Brown&#39;, &#39;#555555&#39;: &#39;Dark_Gray&#39;, &#39;#8DA399&#39;: &#39;Pale_Green&#39;, &#39;#635147&#39;: &#39;Grayish_Brown&#39;, &#39;#3B3121&#39;: &#39;Dark_Olive_Brown&#39;, &#39;#AE9B82&#39;: &#39;Light_Grayish_Yellowish_Brown&#39;, &#39;#483C32&#39;: &#39;Dark_Grayish_Yellowish_Brown&#39;, &#39;#BFB8A5&#39;: &#39;Yellowish_Gray&#39;, &#39;#5B504F&#39;: &#39;Brownish_Gray&#39;, &#39;#E8E3E5&#39;: &#39;Purplish_White&#39;, &#39;#8C8767&#39;: &#39;Light_Grayish_Olive&#39;, &#39;#25241D&#39;: &#39;Olive_Black&#39;, &#39;#BFB9BD&#39;: &#39;Light_Purplish_Gray&#39;, &#39;#593319&#39;: &#39;Deep_Brown&#39;, &#39;#C1B6B3&#39;: &#39;Pinkish_Gray&#39;, &#39;#C2AC99&#39;: &#39;Brownish_Pink&#39;, &#39;#E9E9ED&#39;: &#39;Bluish_White&#39;, &#39;#403D21&#39;: &#39;Dark_Olive&#39;, &#39;#B4BCC0&#39;: &#39;Light_Bluish_Gray&#39;, &#39;#3E1D1E&#39;: &#39;Dark_Reddish_Brown&#39;, &#39;#5E716A&#39;: &#39;Grayish_Green&#39;, &#39;#282022&#39;: &#39;Reddish_Black&#39;, &#39;#EAE3E1&#39;: &#39;Pinkish_White&#39;, &#39;#242124&#39;: &#39;Purplish_Black&#39;, &#39;#8B8589&#39;: &#39;Purplish_Gray&#39;, &#39;#31362B&#39;: &#39;Dark_Grayish_Olive_Green&#39;, &#39;#2E1D21&#39;: &#39;Blackish_Red&#39;, &#39;#5D555B&#39;: &#39;Dark_Purplish_Gray&#39;, &#39;#A67B5B&#39;: &#39;Light_Brown&#39;, &#39;#43302E&#39;: &#39;Dark_Grayish_Reddish_Brown&#39;, &#39;#7D8984&#39;: &#39;Greenish_Gray&#39;, &#39;#5C504F&#39;: &#39;Dark_Reddish_Gray&#39;, &#39;#8F817F&#39;: &#39;Reddish_Gray&#39;, &#39;#6C541E&#39;: &#39;Moderate_Olive_Brown&#39;, &#39;#51585E&#39;: &#39;Dark_Bluish_Gray&#39;, &#39;#EAD8D7&#39;: &#39;Pale_Pink&#39;, &#39;#1E2321&#39;: &#39;Greenish_Black&#39;, &#39;#3A4B47&#39;: &#39;Dark_Grayish_Green&#39;, &#39;#363527&#39;: &#39;Dark_Grayish_Olive&#39;, &#39;#81878B&#39;: &#39;Bluish_Gray&#39;, &#39;#796878&#39;: &#39;Grayish_Purple&#39;, &#39;#202428&#39;: &#39;Bluish_Black&#39;, &#39;#291E29&#39;: &#39;Blackish_Purple&#39;, &#39;#36454F&#39;: &#39;Dark_Grayish_Blue&#39;, &#39;#91A3B0&#39;: &#39;Pale_Blue&#39;, &#39;#B2BEB5&#39;: &#39;Light_Greenish_Gray&#39;, &#39;#50404D&#39;: &#39;Dark_Grayish_Purple&#39;, &#39;#202830&#39;: &#39;Blackish_Blue&#39;, &#39;#AA98A9&#39;: &#39;Pale_Purple&#39;, &#39;#252440&#39;: &#39;Dark_Purplish_Blue&#39;, &#39;#C4AEAD&#39;: &#39;Grayish_Pink&#39;, &#39;#9690AB&#39;: &#39;Pale_Violet&#39;, &#39;#A18F60&#39;: &#39;Dark_Grayish_Yellow&#39;}\n   #FFB5BA  #EA9399  #E4717A  #F9CCCA  #DEA5A4  #C08081   #EAD8D7   #C4AEAD  \\\n0      0.0      0.0      0.0      0.0      0.0      0.0  0.000000  0.000000   \n1      0.0      0.0      0.0      0.0      0.0      0.0  0.011588  0.000047   \n2      0.0      0.0      0.0      0.0      0.0      0.0  0.000038  0.000002   \n\n    #EAE3E1   #C1B6B3  ...  #A8516E  #673147  #38152C  #AF868E  #915F6D  \\\n0  0.000000  0.000000  ...      0.0      0.0      0.0      0.0      0.0   \n1  0.004362  0.003390  ...      0.0      0.0      0.0      0.0      0.0   \n2  0.000476  0.000812  ...      0.0      0.0      0.0      0.0      0.0   \n\n   #F2F3F4   #B9B8B5   #848482   #555555   #222222  \n0      0.0  0.000000  0.000000  0.000000  0.000000  \n1      0.0  0.000000  0.000000  0.000000  0.000041  \n2      0.0  0.082276  0.065629  0.007611  0.049385  \n\n[3 rows x 267 columns]\n801\n{&#39;#593319&#39;: &#39;Deep_Brown&#39;, &#39;#848482&#39;: &#39;Medium_Gray&#39;, &#39;#422518&#39;: &#39;Dark_Brown&#39;, &#39;#4B3621&#39;: &#39;Dark_Yellowish_Brown&#39;, &#39;#B9B8B5&#39;: &#39;Light_Gray&#39;, &#39;#654522&#39;: &#39;Deep_Yellowish_Brown&#39;, &#39;#8DA399&#39;: &#39;Pale_Green&#39;, &#39;#7E6D5A&#39;: &#39;Grayish_Yellowish_Brown&#39;, &#39;#80461B&#39;: &#39;Strong_Brown&#39;, &#39;#5B5842&#39;: &#39;Grayish_Olive&#39;, &#39;#3B3121&#39;: &#39;Dark_Olive_Brown&#39;, &#39;#8A8776&#39;: &#39;Light_Olive_Gray&#39;, &#39;#882D17&#39;: &#39;Strong_Reddish_Brown&#39;, &#39;#28201C&#39;: &#39;Brownish_Black&#39;, &#39;#56070C&#39;: &#39;Deep_Reddish_Brown&#39;, &#39;#25241D&#39;: &#39;Olive_Black&#39;, &#39;#57554C&#39;: &#39;Olive_Gray&#39;, &#39;#6F4E37&#39;: &#39;Moderate_Brown&#39;, &#39;#5E716A&#39;: &#39;Grayish_Green&#39;, &#39;#8B8589&#39;: &#39;Purplish_Gray&#39;, &#39;#363527&#39;: &#39;Dark_Grayish_Olive&#39;, &#39;#8E8279&#39;: &#39;Light_Brownish_Gray&#39;, &#39;#81878B&#39;: &#39;Bluish_Gray&#39;, &#39;#483C32&#39;: &#39;Dark_Grayish_Yellowish_Brown&#39;, &#39;#635147&#39;: &#39;Grayish_Brown&#39;, &#39;#79443B&#39;: &#39;Moderate_Reddish_Brown&#39;, &#39;#3E1D1E&#39;: &#39;Dark_Reddish_Brown&#39;, &#39;#7D8984&#39;: &#39;Greenish_Gray&#39;, &#39;#9E4732&#39;: &#39;Dark_Reddish_Orange&#39;, &#39;#403D21&#39;: &#39;Dark_Olive&#39;, &#39;#826644&#39;: &#39;Moderate_Yellowish_Brown&#39;, &#39;#515744&#39;: &#39;Grayish_Olive_Green&#39;, &#39;#6C541E&#39;: &#39;Moderate_Olive_Brown&#39;, &#39;#8F817F&#39;: &#39;Reddish_Gray&#39;, &#39;#555555&#39;: &#39;Dark_Gray&#39;, &#39;#2E1D21&#39;: &#39;Blackish_Red&#39;, &#39;#91A3B0&#39;: &#39;Pale_Blue&#39;, &#39;#958070&#39;: &#39;Light_Grayish_Brown&#39;, &#39;#3E322C&#39;: &#39;Dark_Grayish_Brown&#39;, &#39;#A67B5B&#39;: &#39;Light_Brown&#39;, &#39;#674C47&#39;: &#39;Grayish_Reddish_Brown&#39;, &#39;#AE6938&#39;: &#39;Brownish_Orange&#39;, &#39;#B4745E&#39;: &#39;Grayish_Reddish_Orange&#39;, &#39;#AE9B82&#39;: &#39;Light_Grayish_Yellowish_Brown&#39;, &#39;#905D5D&#39;: &#39;Grayish_Red&#39;, &#39;#AB9144&#39;: &#39;Dark_Yellow&#39;, &#39;#5D555B&#39;: &#39;Dark_Purplish_Gray&#39;, &#39;#977F73&#39;: &#39;Light_Grayish_Reddish_Brown&#39;, &#39;#A87C6D&#39;: &#39;Light_Reddish_Brown&#39;, &#39;#C19A6B&#39;: &#39;Light_Yellowish_Brown&#39;, &#39;#43302E&#39;: &#39;Dark_Grayish_Reddish_Brown&#39;, &#39;#722F37&#39;: &#39;Dark_Red&#39;, &#39;#282022&#39;: &#39;Reddish_Black&#39;, &#39;#8F9779&#39;: &#39;Grayish_Yellow_Green&#39;, &#39;#222222&#39;: &#39;Black&#39;, &#39;#796878&#39;: &#39;Grayish_Purple&#39;, &#39;#8C8767&#39;: &#39;Light_Grayish_Olive&#39;, &#39;#31362B&#39;: &#39;Dark_Grayish_Olive_Green&#39;, &#39;#841B2D&#39;: &#39;Deep_Red&#39;, &#39;#996515&#39;: &#39;Strong_Yellowish_Brown&#39;, &#39;#AB4E52&#39;: &#39;Moderate_Red&#39;, &#39;#B4BCC0&#39;: &#39;Light_Bluish_Gray&#39;, &#39;#4E5755&#39;: &#39;Dark_Greenish_Gray&#39;, &#39;#C4AEAD&#39;: &#39;Grayish_Pink&#39;, &#39;#D99058&#39;: &#39;Moderate_Orange&#39;, &#39;#BE8A3D&#39;: &#39;Dark_Orange_Yellow&#39;, &#39;#5B504F&#39;: &#39;Brownish_Gray&#39;, &#39;#967117&#39;: &#39;Light_Olive_Brown&#39;, &#39;#C2AC99&#39;: &#39;Brownish_Pink&#39;, &#39;#543D3F&#39;: &#39;Dark_Grayish_Red&#39;, &#39;#3A4B47&#39;: &#39;Dark_Grayish_Green&#39;, &#39;#C1B6B3&#39;: &#39;Pinkish_Gray&#39;, &#39;#EAE3E1&#39;: &#39;Pinkish_White&#39;, &#39;#51585E&#39;: &#39;Dark_Bluish_Gray&#39;, &#39;#242124&#39;: &#39;Purplish_Black&#39;, &#39;#ECD5C5&#39;: &#39;Pale_Yellowish_Pink&#39;, &#39;#2B3D26&#39;: &#39;Dark_Olive_Green&#39;, &#39;#BFB8A5&#39;: &#39;Yellowish_Gray&#39;, &#39;#5C504F&#39;: &#39;Dark_Reddish_Gray&#39;, &#39;#AA98A9&#39;: &#39;Pale_Purple&#39;, &#39;#BFB9BD&#39;: &#39;Light_Purplish_Gray&#39;, &#39;#F0EAD6&#39;: &#39;Yellowish_White&#39;, &#39;#CB6D51&#39;: &#39;Moderate_Reddish_Orange&#39;, &#39;#A18F60&#39;: &#39;Dark_Grayish_Yellow&#39;, &#39;#C48379&#39;: &#39;Dark_Yellowish_Pink&#39;, &#39;#291E29&#39;: &#39;Blackish_Purple&#39;}\n   #FFB5BA  #EA9399  #E4717A  #F9CCCA  #DEA5A4  #C08081   #EAD8D7   #C4AEAD  \\\n0      0.0      0.0      0.0      0.0      0.0      0.0  0.000000  0.000000   \n1      0.0      0.0      0.0      0.0      0.0      0.0  0.011588  0.000047   \n2      0.0      0.0      0.0      0.0      0.0      0.0  0.000038  0.000002   \n3      0.0      0.0      0.0      0.0      0.0      0.0  0.000000  0.000096   \n\n    #EAE3E1   #C1B6B3  ...  #A8516E  #673147  #38152C  #AF868E  #915F6D  \\\n0  0.000000  0.000000  ...      0.0      0.0      0.0      0.0      0.0   \n1  0.004362  0.003390  ...      0.0      0.0      0.0      0.0      0.0   \n2  0.000476  0.000812  ...      0.0      0.0      0.0      0.0      0.0   \n3  0.000037  0.000037  ...      0.0      0.0      0.0      0.0      0.0   \n\n   #F2F3F4   #B9B8B5   #848482   #555555   #222222  \n0      0.0  0.000000  0.000000  0.000000  0.000000  \n1      0.0  0.000000  0.000000  0.000000  0.000041  \n2      0.0  0.082276  0.065629  0.007611  0.049385  \n3      0.0  0.069328  0.130792  0.001317  0.000163  \n\n[4 rows x 267 columns]\n1068\n{&#39;#6C541E&#39;: &#39;Moderate_Olive_Brown&#39;, &#39;#826644&#39;: &#39;Moderate_Yellowish_Brown&#39;, &#39;#654522&#39;: &#39;Deep_Yellowish_Brown&#39;, &#39;#996515&#39;: &#39;Strong_Yellowish_Brown&#39;, &#39;#593319&#39;: &#39;Deep_Brown&#39;, &#39;#4B3621&#39;: &#39;Dark_Yellowish_Brown&#39;, &#39;#6F4E37&#39;: &#39;Moderate_Brown&#39;, &#39;#A67B5B&#39;: &#39;Light_Brown&#39;, &#39;#28201C&#39;: &#39;Brownish_Black&#39;, &#39;#7E6D5A&#39;: &#39;Grayish_Yellowish_Brown&#39;, &#39;#8C8767&#39;: &#39;Light_Grayish_Olive&#39;, &#39;#80461B&#39;: &#39;Strong_Brown&#39;, &#39;#5B5842&#39;: &#39;Grayish_Olive&#39;, &#39;#C19A6B&#39;: &#39;Light_Yellowish_Brown&#39;, &#39;#483C32&#39;: &#39;Dark_Grayish_Yellowish_Brown&#39;, &#39;#967117&#39;: &#39;Light_Olive_Brown&#39;, &#39;#3B3121&#39;: &#39;Dark_Olive_Brown&#39;, &#39;#A18F60&#39;: &#39;Dark_Grayish_Yellow&#39;, &#39;#422518&#39;: &#39;Dark_Brown&#39;, &#39;#3E322C&#39;: &#39;Dark_Grayish_Brown&#39;, &#39;#AE6938&#39;: &#39;Brownish_Orange&#39;, &#39;#25241D&#39;: &#39;Olive_Black&#39;, &#39;#635147&#39;: &#39;Grayish_Brown&#39;, &#39;#958070&#39;: &#39;Light_Grayish_Brown&#39;, &#39;#AB9144&#39;: &#39;Dark_Yellow&#39;, &#39;#AE9B82&#39;: &#39;Light_Grayish_Yellowish_Brown&#39;, &#39;#403D21&#39;: &#39;Dark_Olive&#39;, &#39;#57554C&#39;: &#39;Olive_Gray&#39;, &#39;#5B504F&#39;: &#39;Brownish_Gray&#39;, &#39;#C2B280&#39;: &#39;Grayish_Yellow&#39;, &#39;#FAD6A5&#39;: &#39;Pale_Orange_Yellow&#39;, &#39;#5D555B&#39;: &#39;Dark_Purplish_Gray&#39;, &#39;#BE8A3D&#39;: &#39;Dark_Orange_Yellow&#39;, &#39;#555555&#39;: &#39;Dark_Gray&#39;, &#39;#282022&#39;: &#39;Reddish_Black&#39;, &#39;#C2AC99&#39;: &#39;Brownish_Pink&#39;, &#39;#867E36&#39;: &#39;Light_Olive&#39;, &#39;#363527&#39;: &#39;Dark_Grayish_Olive&#39;, &#39;#796878&#39;: &#39;Grayish_Purple&#39;, &#39;#F0EAD6&#39;: &#39;Yellowish_White&#39;, &#39;#50404D&#39;: &#39;Dark_Grayish_Purple&#39;, &#39;#ECD5C5&#39;: &#39;Pale_Yellowish_Pink&#39;, &#39;#8B8589&#39;: &#39;Purplish_Gray&#39;, &#39;#848482&#39;: &#39;Medium_Gray&#39;, &#39;#8E8279&#39;: &#39;Light_Brownish_Gray&#39;, &#39;#BFB8A5&#39;: &#39;Yellowish_Gray&#39;, &#39;#242124&#39;: &#39;Purplish_Black&#39;, &#39;#81878B&#39;: &#39;Bluish_Gray&#39;, &#39;#222222&#39;: &#39;Black&#39;, &#39;#F3E5AB&#39;: &#39;Pale_Yellow&#39;, &#39;#51585E&#39;: &#39;Dark_Bluish_Gray&#39;, &#39;#8A8776&#39;: &#39;Light_Olive_Gray&#39;, &#39;#977F73&#39;: &#39;Light_Grayish_Reddish_Brown&#39;, &#39;#91A3B0&#39;: &#39;Pale_Blue&#39;, &#39;#5C504F&#39;: &#39;Dark_Reddish_Gray&#39;, &#39;#BFB9BD&#39;: &#39;Light_Purplish_Gray&#39;, &#39;#31362B&#39;: &#39;Dark_Grayish_Olive_Green&#39;, &#39;#8F817F&#39;: &#39;Reddish_Gray&#39;, &#39;#674C47&#39;: &#39;Grayish_Reddish_Brown&#39;, &#39;#C1B6B3&#39;: &#39;Pinkish_Gray&#39;, &#39;#9690AB&#39;: &#39;Pale_Violet&#39;, &#39;#43302E&#39;: &#39;Dark_Grayish_Reddish_Brown&#39;, &#39;#DADFB7&#39;: &#39;Pale_Yellow_Green&#39;, &#39;#C4C3DD&#39;: &#39;Very_Pale_Violet&#39;, &#39;#B4BCC0&#39;: &#39;Light_Bluish_Gray&#39;, &#39;#291E29&#39;: &#39;Blackish_Purple&#39;, &#39;#AA98A9&#39;: &#39;Pale_Purple&#39;, &#39;#36454F&#39;: &#39;Dark_Grayish_Blue&#39;, &#39;#543D3F&#39;: &#39;Dark_Grayish_Red&#39;, &#39;#EAE3E1&#39;: &#39;Pinkish_White&#39;, &#39;#EAD8D7&#39;: &#39;Pale_Pink&#39;, &#39;#C7ADA3&#39;: &#39;Grayish_Yellowish_Pink&#39;, &#39;#C4AEAD&#39;: &#39;Grayish_Pink&#39;, &#39;#8C92AC&#39;: &#39;Pale_Purplish_Blue&#39;, &#39;#D6CADD&#39;: &#39;Very_Pale_Purple&#39;, &#39;#202830&#39;: &#39;Blackish_Blue&#39;, &#39;#665D1E&#39;: &#39;Moderate_Olive&#39;, &#39;#E9E9ED&#39;: &#39;Bluish_White&#39;, &#39;#C0C8E1&#39;: &#39;Very_Pale_Purplish_Blue&#39;, &#39;#B9B8B5&#39;: &#39;Light_Gray&#39;, &#39;#79443B&#39;: &#39;Moderate_Reddish_Brown&#39;, &#39;#536878&#39;: &#39;Grayish_Blue&#39;, &#39;#B3BCE2&#39;: &#39;Very_Light_Purplish_Blue&#39;, &#39;#A87C6D&#39;: &#39;Light_Reddish_Brown&#39;, &#39;#2E1D21&#39;: &#39;Blackish_Red&#39;, &#39;#5E716A&#39;: &#39;Grayish_Green&#39;, &#39;#AD8884&#39;: &#39;Light_Grayish_Red&#39;, &#39;#E8E3E5&#39;: &#39;Purplish_White&#39;, &#39;#202428&#39;: &#39;Bluish_Black&#39;, &#39;#4C516D&#39;: &#39;Grayish_Purplish_Blue&#39;, &#39;#BCD4E6&#39;: &#39;Very_Pale_Blue&#39;, &#39;#554C69&#39;: &#39;Grayish_Violet&#39;, &#39;#3A4B47&#39;: &#39;Dark_Grayish_Green&#39;, &#39;#C3A6B1&#39;: &#39;Grayish_Purplish_Pink&#39;, &#39;#3E1D1E&#39;: &#39;Dark_Reddish_Brown&#39;, &#39;#FBC97F&#39;: &#39;Light_Orange_Yellow&#39;, &#39;#C9AE5D&#39;: &#39;Moderate_Yellow&#39;, &#39;#DCD0FF&#39;: &#39;Very_Light_Violet&#39;, &#39;#E8CCD7&#39;: &#39;Pale_Purplish_Pink&#39;, &#39;#8791BF&#39;: &#39;Light_Purplish_Blue&#39;, &#39;#4E5755&#39;: &#39;Dark_Greenish_Gray&#39;, &#39;#905D5D&#39;: &#39;Grayish_Red&#39;, &#39;#7D8984&#39;: &#39;Greenish_Gray&#39;, &#39;#8C82B6&#39;: &#39;Light_Violet&#39;, &#39;#8DA399&#39;: &#39;Pale_Green&#39;, &#39;#4E5180&#39;: &#39;Moderate_Purplish_Blue&#39;, &#39;#915F6D&#39;: &#39;Grayish_Purplish_Red&#39;, &#39;#1E2321&#39;: &#39;Greenish_Black&#39;, &#39;#8F9779&#39;: &#39;Grayish_Yellow_Green&#39;, &#39;#DFEDE8&#39;: &#39;Greenish_White&#39;, &#39;#D5BADB&#39;: &#39;Very_Light_Purple&#39;, &#39;#1A2421&#39;: &#39;Blackish_Green&#39;, &#39;#515744&#39;: &#39;Grayish_Olive_Green&#39;, &#39;#252440&#39;: &#39;Dark_Purplish_Blue&#39;, &#39;#B695C0&#39;: &#39;Light_Purple&#39;, &#39;#AF868E&#39;: &#39;Light_Grayish_Purplish_Red&#39;, &#39;#B2BEB5&#39;: &#39;Light_Greenish_Gray&#39;, &#39;#563C5C&#39;: &#39;Dark_Purple&#39;, &#39;#F4C2C2&#39;: &#39;Light_Yellowish_Pink&#39;, &#39;#AA8A9E&#39;: &#39;Pale_Reddish_Purple&#39;, &#39;#FAB57F&#39;: &#39;Light_Orange&#39;, &#39;#436B95&#39;: &#39;Moderate_Blue&#39;, &#39;#F9CCCA&#39;: &#39;Light_Pink&#39;}\n   #FFB5BA  #EA9399  #E4717A   #F9CCCA  #DEA5A4  #C08081   #EAD8D7   #C4AEAD  \\\n0      0.0      0.0      0.0  0.000000      0.0      0.0  0.000000  0.000000   \n1      0.0      0.0      0.0  0.000000      0.0      0.0  0.011588  0.000047   \n2      0.0      0.0      0.0  0.000000      0.0      0.0  0.000038  0.000002   \n3      0.0      0.0      0.0  0.000000      0.0      0.0  0.000000  0.000096   \n4      0.0      0.0      0.0  0.000003      0.0      0.0  0.000321  0.000309   \n\n    #EAE3E1   #C1B6B3  ...  #A8516E  #673147  #38152C   #AF868E   #915F6D  \\\n0  0.000000  0.000000  ...      0.0      0.0      0.0  0.000000  0.000000   \n1  0.004362  0.003390  ...      0.0      0.0      0.0  0.000000  0.000000   \n2  0.000476  0.000812  ...      0.0      0.0      0.0  0.000000  0.000000   \n3  0.000037  0.000037  ...      0.0      0.0      0.0  0.000000  0.000000   \n4  0.000326  0.000419  ...      0.0      0.0      0.0  0.000008  0.000018   \n\n   #F2F3F4   #B9B8B5   #848482   #555555   #222222  \n0      0.0  0.000000  0.000000  0.000000  0.000000  \n1      0.0  0.000000  0.000000  0.000000  0.000041  \n2      0.0  0.082276  0.065629  0.007611  0.049385  \n3      0.0  0.069328  0.130792  0.001317  0.000163  \n4      0.0  0.000241  0.000976  0.001669  0.000698  \n\n[5 rows x 267 columns]\n1335\n{&#39;#593319&#39;: &#39;Deep_Brown&#39;, &#39;#422518&#39;: &#39;Dark_Brown&#39;, &#39;#654522&#39;: &#39;Deep_Yellowish_Brown&#39;, &#39;#81878B&#39;: &#39;Bluish_Gray&#39;, &#39;#91A3B0&#39;: &#39;Pale_Blue&#39;, &#39;#B4BCC0&#39;: &#39;Light_Bluish_Gray&#39;, &#39;#7E6D5A&#39;: &#39;Grayish_Yellowish_Brown&#39;, &#39;#848482&#39;: &#39;Medium_Gray&#39;, &#39;#3E1D1E&#39;: &#39;Dark_Reddish_Brown&#39;, &#39;#826644&#39;: &#39;Moderate_Yellowish_Brown&#39;, &#39;#6F4E37&#39;: &#39;Moderate_Brown&#39;, &#39;#5B5842&#39;: &#39;Grayish_Olive&#39;, &#39;#2E1D21&#39;: &#39;Blackish_Red&#39;, &#39;#8A8776&#39;: &#39;Light_Olive_Gray&#39;, &#39;#8E8279&#39;: &#39;Light_Brownish_Gray&#39;, &#39;#28201C&#39;: &#39;Brownish_Black&#39;, &#39;#635147&#39;: &#39;Grayish_Brown&#39;, &#39;#B9B8B5&#39;: &#39;Light_Gray&#39;, &#39;#8B8589&#39;: &#39;Purplish_Gray&#39;, &#39;#4B3621&#39;: &#39;Dark_Yellowish_Brown&#39;, &#39;#43302E&#39;: &#39;Dark_Grayish_Reddish_Brown&#39;, &#39;#7D8984&#39;: &#39;Greenish_Gray&#39;, &#39;#57554C&#39;: &#39;Olive_Gray&#39;, &#39;#555555&#39;: &#39;Dark_Gray&#39;, &#39;#8F817F&#39;: &#39;Reddish_Gray&#39;, &#39;#3E322C&#39;: &#39;Dark_Grayish_Brown&#39;, &#39;#5E716A&#39;: &#39;Grayish_Green&#39;, &#39;#483C32&#39;: &#39;Dark_Grayish_Yellowish_Brown&#39;, &#39;#6C541E&#39;: &#39;Moderate_Olive_Brown&#39;, &#39;#958070&#39;: &#39;Light_Grayish_Brown&#39;, &#39;#8DA399&#39;: &#39;Pale_Green&#39;, &#39;#5B504F&#39;: &#39;Brownish_Gray&#39;, &#39;#977F73&#39;: &#39;Light_Grayish_Reddish_Brown&#39;, &#39;#8C8767&#39;: &#39;Light_Grayish_Olive&#39;, &#39;#674C47&#39;: &#39;Grayish_Reddish_Brown&#39;, &#39;#51585E&#39;: &#39;Dark_Bluish_Gray&#39;, &#39;#79443B&#39;: &#39;Moderate_Reddish_Brown&#39;, &#39;#543D3F&#39;: &#39;Dark_Grayish_Red&#39;, &#39;#56070C&#39;: &#39;Deep_Reddish_Brown&#39;, &#39;#5D555B&#39;: &#39;Dark_Purplish_Gray&#39;, &#39;#5C504F&#39;: &#39;Dark_Reddish_Gray&#39;, &#39;#282022&#39;: &#39;Reddish_Black&#39;, &#39;#3B3121&#39;: &#39;Dark_Olive_Brown&#39;, &#39;#A87C6D&#39;: &#39;Light_Reddish_Brown&#39;, &#39;#80461B&#39;: &#39;Strong_Brown&#39;, &#39;#25241D&#39;: &#39;Olive_Black&#39;, &#39;#50404D&#39;: &#39;Dark_Grayish_Purple&#39;, &#39;#AA98A9&#39;: &#39;Pale_Purple&#39;, &#39;#36454F&#39;: &#39;Dark_Grayish_Blue&#39;, &#39;#222222&#39;: &#39;Black&#39;, &#39;#796878&#39;: &#39;Grayish_Purple&#39;, &#39;#4E5755&#39;: &#39;Dark_Greenish_Gray&#39;, &#39;#905D5D&#39;: &#39;Grayish_Red&#39;, &#39;#C4AEAD&#39;: &#39;Grayish_Pink&#39;, &#39;#A67B5B&#39;: &#39;Light_Brown&#39;, &#39;#291E29&#39;: &#39;Blackish_Purple&#39;, &#39;#3A4B47&#39;: &#39;Dark_Grayish_Green&#39;, &#39;#BFB9BD&#39;: &#39;Light_Purplish_Gray&#39;, &#39;#B4745E&#39;: &#39;Grayish_Reddish_Orange&#39;, &#39;#31362B&#39;: &#39;Dark_Grayish_Olive_Green&#39;, &#39;#363527&#39;: &#39;Dark_Grayish_Olive&#39;, &#39;#403D21&#39;: &#39;Dark_Olive&#39;, &#39;#9E4732&#39;: &#39;Dark_Reddish_Orange&#39;}\n   #FFB5BA  #EA9399  #E4717A   #F9CCCA  #DEA5A4  #C08081   #EAD8D7   #C4AEAD  \\\n0      0.0      0.0      0.0  0.000000      0.0      0.0  0.000000  0.000000   \n1      0.0      0.0      0.0  0.000000      0.0      0.0  0.011588  0.000047   \n2      0.0      0.0      0.0  0.000000      0.0      0.0  0.000038  0.000002   \n3      0.0      0.0      0.0  0.000000      0.0      0.0  0.000000  0.000096   \n4      0.0      0.0      0.0  0.000003      0.0      0.0  0.000321  0.000309   \n5      0.0      0.0      0.0  0.000000      0.0      0.0  0.000000  0.000023   \n\n    #EAE3E1   #C1B6B3  ...  #A8516E  #673147  #38152C   #AF868E   #915F6D  \\\n0  0.000000  0.000000  ...      0.0      0.0      0.0  0.000000  0.000000   \n1  0.004362  0.003390  ...      0.0      0.0      0.0  0.000000  0.000000   \n2  0.000476  0.000812  ...      0.0      0.0      0.0  0.000000  0.000000   \n3  0.000037  0.000037  ...      0.0      0.0      0.0  0.000000  0.000000   \n4  0.000326  0.000419  ...      0.0      0.0      0.0  0.000008  0.000018   \n5  0.000000  0.000000  ...      0.0      0.0      0.0  0.000000  0.000000   \n\n   #F2F3F4   #B9B8B5   #848482   #555555   #222222  \n0      0.0  0.000000  0.000000  0.000000  0.000000  \n1      0.0  0.000000  0.000000  0.000000  0.000041  \n2      0.0  0.082276  0.065629  0.007611  0.049385  \n3      0.0  0.069328  0.130792  0.001317  0.000163  \n4      0.0  0.000241  0.000976  0.001669  0.000698  \n5      0.0  0.007506  0.050681  0.002565  0.000029  \n\n[6 rows x 267 columns]\n1602\n"
    },
    {
     "output_type": "error",
     "ename": "KeyboardInterrupt",
     "evalue": "",
     "traceback": [
      "\u001b[0;31m---------------------------------------------------------------------------\u001b[0m",
      "\u001b[0;31mKeyboardInterrupt\u001b[0m                         Traceback (most recent call last)",
      "\u001b[0;32m&lt;ipython-input-6-cc4ade427467&gt;\u001b[0m in \u001b[0;36m&lt;module&gt;\u001b[0;34m\u001b[0m\n\u001b[1;32m      6\u001b[0m \u001b[0;34m\u001b[0m\u001b[0m\n\u001b[1;32m      7\u001b[0m     \u001b[0mpath_img\u001b[0m \u001b[0;34m=\u001b[0m \u001b[0mos\u001b[0m\u001b[0;34m.\u001b[0m\u001b[0mpath\u001b[0m\u001b[0;34m.\u001b[0m\u001b[0mjoin\u001b[0m\u001b[0;34m(\u001b[0m\u001b[0mpath\u001b[0m\u001b[0;34m,\u001b[0m \u001b[0mimg_name\u001b[0m\u001b[0;34m)\u001b[0m\u001b[0;34m\u001b[0m\u001b[0;34m\u001b[0m\u001b[0m\n\u001b[0;32m----&gt; 8\u001b[0;31m     \u001b[0mdict_color\u001b[0m\u001b[0;34m,\u001b[0m \u001b[0mdict_temp_names\u001b[0m \u001b[0;34m=\u001b[0m \u001b[0mimg_to_vec\u001b[0m\u001b[0;34m(\u001b[0m\u001b[0mpath_img\u001b[0m\u001b[0;34m)\u001b[0m\u001b[0;34m\u001b[0m\u001b[0;34m\u001b[0m\u001b[0m\n\u001b[0m\u001b[1;32m      9\u001b[0m     \u001b[0mprint\u001b[0m\u001b[0;34m(\u001b[0m\u001b[0mdict_temp_names\u001b[0m\u001b[0;34m)\u001b[0m\u001b[0;34m\u001b[0m\u001b[0;34m\u001b[0m\u001b[0m\n\u001b[1;32m     10\u001b[0m     \u001b[0;32mfor\u001b[0m \u001b[0mcolor_hex\u001b[0m \u001b[0;32min\u001b[0m \u001b[0mdf_vec\u001b[0m\u001b[0;34m.\u001b[0m\u001b[0mcolumns\u001b[0m\u001b[0;34m:\u001b[0m\u001b[0;34m\u001b[0m\u001b[0;34m\u001b[0m\u001b[0m\n",
      "\u001b[0;32m&lt;ipython-input-5-8cb2d5796e2b&gt;\u001b[0m in \u001b[0;36mimg_to_vec\u001b[0;34m(img_path)\u001b[0m\n\u001b[1;32m      3\u001b[0m     \u001b[0mimg\u001b[0m \u001b[0;34m=\u001b[0m \u001b[0mImage\u001b[0m\u001b[0;34m.\u001b[0m\u001b[0mopen\u001b[0m\u001b[0;34m(\u001b[0m\u001b[0mpath_img\u001b[0m\u001b[0;34m)\u001b[0m\u001b[0;34m.\u001b[0m\u001b[0mconvert\u001b[0m\u001b[0;34m(\u001b[0m\u001b[0;34m&#39;RGB&#39;\u001b[0m\u001b[0;34m)\u001b[0m\u001b[0;34m\u001b[0m\u001b[0;34m\u001b[0m\u001b[0m\n\u001b[1;32m      4\u001b[0m     \u001b[0mimg\u001b[0m \u001b[0;34m=\u001b[0m \u001b[0mnp\u001b[0m\u001b[0;34m.\u001b[0m\u001b[0marray\u001b[0m\u001b[0;34m(\u001b[0m\u001b[0mimg\u001b[0m\u001b[0;34m)\u001b[0m\u001b[0;34m\u001b[0m\u001b[0;34m\u001b[0m\u001b[0m\n\u001b[0;32m----&gt; 5\u001b[0;31m     \u001b[0marr_img_lab\u001b[0m \u001b[0;34m=\u001b[0m \u001b[0mconvert_to_lab\u001b[0m\u001b[0;34m(\u001b[0m\u001b[0mimg\u001b[0m\u001b[0;34m.\u001b[0m\u001b[0mreshape\u001b[0m\u001b[0;34m(\u001b[0m\u001b[0mimg\u001b[0m\u001b[0;34m.\u001b[0m\u001b[0mshape\u001b[0m\u001b[0;34m[\u001b[0m\u001b[0;36m0\u001b[0m\u001b[0;34m]\u001b[0m\u001b[0;34m*\u001b[0m\u001b[0mimg\u001b[0m\u001b[0;34m.\u001b[0m\u001b[0mshape\u001b[0m\u001b[0;34m[\u001b[0m\u001b[0;36m1\u001b[0m\u001b[0;34m]\u001b[0m\u001b[0;34m,\u001b[0m \u001b[0;36m3\u001b[0m\u001b[0;34m)\u001b[0m\u001b[0;34m)\u001b[0m\u001b[0;34m\u001b[0m\u001b[0;34m\u001b[0m\u001b[0m\n\u001b[0m\u001b[1;32m      6\u001b[0m     \u001b[0marr_iscc_lab\u001b[0m \u001b[0;34m=\u001b[0m \u001b[0mnp\u001b[0m\u001b[0;34m.\u001b[0m\u001b[0marray\u001b[0m\u001b[0;34m(\u001b[0m\u001b[0mdf_iscc\u001b[0m\u001b[0;34m[\u001b[0m\u001b[0;34m&#39;Lab&#39;\u001b[0m\u001b[0;34m]\u001b[0m\u001b[0;34m.\u001b[0m\u001b[0mtolist\u001b[0m\u001b[0;34m(\u001b[0m\u001b[0;34m)\u001b[0m\u001b[0;34m)\u001b[0m\u001b[0;34m\u001b[0m\u001b[0;34m\u001b[0m\u001b[0m\n\u001b[1;32m      7\u001b[0m     \u001b[0mquantized_img_lab\u001b[0m \u001b[0;34m=\u001b[0m \u001b[0mfind_the_cloeset_iscc\u001b[0m\u001b[0;34m(\u001b[0m\u001b[0marr_img_lab\u001b[0m\u001b[0;34m,\u001b[0m \u001b[0marr_iscc_lab\u001b[0m\u001b[0;34m)\u001b[0m\u001b[0;34m\u001b[0m\u001b[0;34m\u001b[0m\u001b[0m\n",
      "\u001b[0;32m&lt;ipython-input-3-695dcc9a26df&gt;\u001b[0m in \u001b[0;36mconvert_to_lab\u001b[0;34m(arr_rgb)\u001b[0m\n\u001b[1;32m      7\u001b[0m     \u001b[0;32mfor\u001b[0m \u001b[0mrow\u001b[0m \u001b[0;32min\u001b[0m \u001b[0marr_rgb\u001b[0m\u001b[0;34m:\u001b[0m\u001b[0;34m\u001b[0m\u001b[0;34m\u001b[0m\u001b[0m\n\u001b[1;32m      8\u001b[0m         \u001b[0mr\u001b[0m\u001b[0;34m,\u001b[0m \u001b[0mg\u001b[0m\u001b[0;34m,\u001b[0m \u001b[0mb\u001b[0m \u001b[0;34m=\u001b[0m \u001b[0mrow\u001b[0m\u001b[0;34m\u001b[0m\u001b[0;34m\u001b[0m\u001b[0m\n\u001b[0;32m----&gt; 9\u001b[0;31m         \u001b[0mlist_lab\u001b[0m\u001b[0;34m.\u001b[0m\u001b[0mappend\u001b[0m\u001b[0;34m(\u001b[0m\u001b[0mconvert_color\u001b[0m\u001b[0;34m(\u001b[0m\u001b[0msRGBColor\u001b[0m\u001b[0;34m(\u001b[0m\u001b[0mr\u001b[0m\u001b[0;34m,\u001b[0m \u001b[0mg\u001b[0m\u001b[0;34m,\u001b[0m \u001b[0mb\u001b[0m\u001b[0;34m,\u001b[0m \u001b[0mis_upscaled\u001b[0m\u001b[0;34m=\u001b[0m\u001b[0;32mTrue\u001b[0m\u001b[0;34m)\u001b[0m\u001b[0;34m,\u001b[0m \u001b[0mLabColor\u001b[0m\u001b[0;34m)\u001b[0m\u001b[0;34m.\u001b[0m\u001b[0mget_value_tuple\u001b[0m\u001b[0;34m(\u001b[0m\u001b[0;34m)\u001b[0m\u001b[0;34m)\u001b[0m\u001b[0;34m\u001b[0m\u001b[0;34m\u001b[0m\u001b[0m\n\u001b[0m\u001b[1;32m     10\u001b[0m     \u001b[0;32mreturn\u001b[0m \u001b[0mnp\u001b[0m\u001b[0;34m.\u001b[0m\u001b[0marray\u001b[0m\u001b[0;34m(\u001b[0m\u001b[0mlist_lab\u001b[0m\u001b[0;34m)\u001b[0m\u001b[0;34m\u001b[0m\u001b[0;34m\u001b[0m\u001b[0m\n\u001b[1;32m     11\u001b[0m \u001b[0;34m\u001b[0m\u001b[0m\n",
      "\u001b[0;32m~/opt/anaconda3/lib/python3.8/site-packages/colormath/color_objects.py\u001b[0m in \u001b[0;36m__init__\u001b[0;34m(self, rgb_r, rgb_g, rgb_b, is_upscaled)\u001b[0m\n\u001b[1;32m    519\u001b[0m         \u001b[0;32mif\u001b[0m \u001b[0mis_upscaled\u001b[0m\u001b[0;34m:\u001b[0m\u001b[0;34m\u001b[0m\u001b[0;34m\u001b[0m\u001b[0m\n\u001b[1;32m    520\u001b[0m             \u001b[0mself\u001b[0m\u001b[0;34m.\u001b[0m\u001b[0mrgb_r\u001b[0m \u001b[0;34m=\u001b[0m \u001b[0mrgb_r\u001b[0m \u001b[0;34m/\u001b[0m \u001b[0;36m255.0\u001b[0m\u001b[0;34m\u001b[0m\u001b[0;34m\u001b[0m\u001b[0m\n\u001b[0;32m--&gt; 521\u001b[0;31m             \u001b[0mself\u001b[0m\u001b[0;34m.\u001b[0m\u001b[0mrgb_g\u001b[0m \u001b[0;34m=\u001b[0m \u001b[0mrgb_g\u001b[0m \u001b[0;34m/\u001b[0m \u001b[0;36m255.0\u001b[0m\u001b[0;34m\u001b[0m\u001b[0;34m\u001b[0m\u001b[0m\n\u001b[0m\u001b[1;32m    522\u001b[0m             \u001b[0mself\u001b[0m\u001b[0;34m.\u001b[0m\u001b[0mrgb_b\u001b[0m \u001b[0;34m=\u001b[0m \u001b[0mrgb_b\u001b[0m \u001b[0;34m/\u001b[0m \u001b[0;36m255.0\u001b[0m\u001b[0;34m\u001b[0m\u001b[0;34m\u001b[0m\u001b[0m\n\u001b[1;32m    523\u001b[0m         \u001b[0;32melse\u001b[0m\u001b[0;34m:\u001b[0m\u001b[0;34m\u001b[0m\u001b[0;34m\u001b[0m\u001b[0m\n",
      "\u001b[0;31mKeyboardInterrupt\u001b[0m: "
     ]
    }
   ],
   "source": [
    "\n",
    "path = os.path.join('images', 'blood')\n",
    "df_vec = pd.DataFrame(columns = df_iscc['hex'].values) \n",
    "for img_name in os.listdir(path):\n",
    "    if img_name.startswith('data'):\n",
    "        continue\n",
    "        \n",
    "    path_img = os.path.join(path, img_name)\n",
    "    dict_color, dict_temp_names = img_to_vec(path_img)\n",
    "    print(dict_temp_names)\n",
    "    for color_hex in df_vec.columns:\n",
    "        if color_hex not in dict_color.keys():\n",
    "            dict_color[color_hex] = 0\n",
    "    df_vec = df_vec.append(dict_color,ignore_index=True,sort=False)\n",
    "    print(df_vec)\n",
    "    print(df_vec.size)"
   ]
  },
  {
   "cell_type": "code",
   "execution_count": 13,
   "metadata": {
    "tags": [
     "outputPrepend"
    ]
   },
   "outputs": [
    {
     "output_type": "stream",
     "name": "stdout",
     "text": " 0.109823  0.003270  ...  0.000000  0.001710  0.000000  0.000016   \n10  0.001701  0.000000  0.074569  ...  0.000000  0.000000  0.000000  0.015353   \n11  0.000075  0.044155  0.070865  ...  0.000000  0.010158  0.000000  0.000000   \n12  0.000000  0.000000  0.000000  ...  0.053434  0.245935  0.001601  0.002841   \n13  0.000000  0.000000  0.000000  ...  0.000000  0.000000  0.000000  0.000000   \n14  0.011556  0.004597  0.459257  ...  0.000000  0.000000  0.000000  0.000000   \n15  0.000000  0.000000  0.000000  ...  0.000000  0.000000  0.000000  0.000000   \n16  0.000006  0.033669  0.002371  ...  0.000039  0.000045  0.000168  0.033501   \n17  0.000000  0.000248  0.000004  ...  0.001532  0.097037  0.000408  0.010779   \n18  0.000007  0.008114  0.009682  ...  0.060484  0.195893  0.062920  0.047539   \n19  0.000000  0.000000  0.000000  ...  0.050187  0.060093  0.012076  0.043844   \n20  0.000297  0.000726  0.000026  ...  0.008730  0.006264  0.084166  0.067787   \n21  0.000000  0.000167  0.000568  ...  0.000000  0.000000  0.000000  0.024765   \n22  0.000020  0.296758  0.027399  ...  0.000008  0.138345  0.000000  0.000000   \n\n     #54133B   #A8516E   #673147   #38152C   #AF868E   #915F6D  \n0   0.031781  0.141491  0.020435  0.008028  0.000393  0.002226  \n1   0.048640  0.238551  0.019605  0.005193  0.027711  0.015915  \n2   0.001012  0.002041  0.021780  0.138292  0.139429  0.033746  \n3   0.001124  0.194102  0.083343  0.031534  0.059408  0.112911  \n4   0.039814  0.257184  0.009219  0.081245  0.071370  0.038983  \n5   0.000481  0.122952  0.243803  0.070282  0.134525  0.009765  \n6   0.060748  0.212645  0.257338  0.152191  0.032478  0.066129  \n7   0.030437  0.362148  0.155370  0.095704  0.053552  0.013053  \n8   0.000398  0.017441  0.541660  0.004620  0.020769  0.069691  \n9   0.038361  0.046942  0.013066  0.350829  0.094399  0.043943  \n10  0.000164  0.036272  0.149106  0.047642  0.162022  0.106092  \n11  0.131335  0.050312  0.071588  0.177299  0.158104  0.093807  \n12  0.057276  0.359530  0.092398  0.000000  0.000250  0.000351  \n13  0.000000  0.002583  0.000750  0.198218  0.291436  0.218146  \n14  0.007397  0.014151  0.001317  0.136428  0.098932  0.006606  \n15  0.013265  0.063307  0.355936  0.020123  0.297915  0.076775  \n16  0.018926  0.135721  0.114698  0.150570  0.027981  0.087836  \n17  0.106831  0.117121  0.350476  0.003535  0.004352  0.008721  \n18  0.127285  0.137602  0.056741  0.047970  0.041363  0.030071  \n19  0.000009  0.205858  0.487240  0.000000  0.000151  0.000440  \n20  0.015323  0.331047  0.222421  0.140535  0.100620  0.019081  \n21  0.000105  0.421173  0.154710  0.027006  0.043654  0.087654  \n22  0.032586  0.022892  0.000036  0.121444  0.091500  0.058031  \n\n[23 rows x 47 columns]\n1081\nimages/blood/online_v1_00007.png\ndone\n    #BE0032  #BC3F4A  #841B2D   #5C0923   #AB4E52   #722F37   #3F1728  \\\n0       0.0      0.0      0.0  0.000000  0.000000  0.000000  0.000000   \n1       0.0      0.0      0.0  0.000000  0.000000  0.000000  0.011853   \n2       0.0      0.0      0.0  0.000000  0.000000  0.000000  0.001217   \n3       0.0      0.0      0.0  0.000000  0.000000  0.000000  0.000000   \n4       0.0      0.0      0.0  0.000003  0.000000  0.000000  0.000756   \n5       0.0      0.0      0.0  0.000000  0.000000  0.000000  0.000000   \n6       0.0      0.0      0.0  0.000007  0.000000  0.000000  0.000127   \n7       0.0      0.0      0.0  0.000000  0.000000  0.000000  0.000004   \n8       0.0      0.0      0.0  0.000000  0.000000  0.000000  0.000031   \n9       0.0      0.0      0.0  0.000055  0.000000  0.000004  0.000735   \n10      0.0      0.0      0.0  0.000000  0.000000  0.000000  0.000000   \n11      0.0      0.0      0.0  0.000000  0.000000  0.000000  0.065225   \n12      0.0      0.0      0.0  0.000000  0.000000  0.000000  0.000000   \n13      0.0      0.0      0.0  0.000000  0.000000  0.000000  0.000000   \n14      0.0      0.0      0.0  0.000000  0.000000  0.000000  0.001397   \n15      0.0      0.0      0.0  0.000000  0.000000  0.000000  0.000000   \n16      0.0      0.0      0.0  0.000000  0.000000  0.000000  0.000000   \n17      0.0      0.0      0.0  0.000000  0.000000  0.000000  0.000000   \n18      0.0      0.0      0.0  0.000000  0.000011  0.000000  0.004657   \n19      0.0      0.0      0.0  0.000000  0.000000  0.000000  0.000000   \n20      0.0      0.0      0.0  0.000004  0.000004  0.000000  0.000232   \n21      0.0      0.0      0.0  0.000000  0.000000  0.000000  0.000012   \n22      0.0      0.0      0.0  0.000000  0.000000  0.000000  0.000756   \n23      0.0      0.0      0.0  0.000000  0.000000  0.000000  0.000011   \n\n     #AD8884   #905D5D   #543D3F  ...   #836479   #CE4676   #B3446C   #78184A  \\\n0   0.000000  0.000000  0.000000  ...  0.261377  0.125202  0.061941  0.007914   \n1   0.000047  0.015691  0.004776  ...  0.145533  0.309296  0.035123  0.003390   \n2   0.000010  0.011456  0.091890  ...  0.000000  0.000032  0.000000  0.000000   \n3   0.000100  0.000126  0.101204  ...  0.012688  0.003234  0.044587  0.043323   \n4   0.000881  0.001970  0.002605  ...  0.005505  0.421908  0.000020  0.000003   \n5   0.000041  0.000000  0.127318  ...  0.000006  0.000035  0.000041  0.048093   \n6   0.001490  0.000608  0.110942  ...  0.000000  0.020454  0.000000  0.000291   \n7   0.000000  0.000040  0.000000  ...  0.014242  0.020914  0.001332  0.010856   \n8   0.000219  0.000040  0.000904  ...  0.000256  0.000309  0.000454  0.000253   \n9   0.000204  0.109823  0.003270  ...  0.000000  0.001710  0.000000  0.000016   \n10  0.001701  0.000000  0.074569  ...  0.000000  0.000000  0.000000  0.015353   \n11  0.000075  0.044155  0.070865  ...  0.000000  0.010158  0.000000  0.000000   \n12  0.000000  0.000000  0.000000  ...  0.053434  0.245935  0.001601  0.002841   \n13  0.000000  0.000000  0.000000  ...  0.000000  0.000000  0.000000  0.000000   \n14  0.011556  0.004597  0.459257  ...  0.000000  0.000000  0.000000  0.000000   \n15  0.000000  0.000000  0.000000  ...  0.000000  0.000000  0.000000  0.000000   \n16  0.000006  0.033669  0.002371  ...  0.000039  0.000045  0.000168  0.033501   \n17  0.000000  0.000248  0.000004  ...  0.001532  0.097037  0.000408  0.010779   \n18  0.000007  0.008114  0.009682  ...  0.060484  0.195893  0.062920  0.047539   \n19  0.000000  0.000000  0.000000  ...  0.050187  0.060093  0.012076  0.043844   \n20  0.000297  0.000726  0.000026  ...  0.008730  0.006264  0.084166  0.067787   \n21  0.000000  0.000167  0.000568  ...  0.000000  0.000000  0.000000  0.024765   \n22  0.000020  0.296758  0.027399  ...  0.000008  0.138345  0.000000  0.000000   \n23  0.000000  0.057086  0.013554  ...  0.016054  0.063602  0.003752  0.011743   \n\n     #54133B   #A8516E   #673147   #38152C   #AF868E   #915F6D  \n0   0.031781  0.141491  0.020435  0.008028  0.000393  0.002226  \n1   0.048640  0.238551  0.019605  0.005193  0.027711  0.015915  \n2   0.001012  0.002041  0.021780  0.138292  0.139429  0.033746  \n3   0.001124  0.194102  0.083343  0.031534  0.059408  0.112911  \n4   0.039814  0.257184  0.009219  0.081245  0.071370  0.038983  \n5   0.000481  0.122952  0.243803  0.070282  0.134525  0.009765  \n6   0.060748  0.212645  0.257338  0.152191  0.032478  0.066129  \n7   0.030437  0.362148  0.155370  0.095704  0.053552  0.013053  \n8   0.000398  0.017441  0.541660  0.004620  0.020769  0.069691  \n9   0.038361  0.046942  0.013066  0.350829  0.094399  0.043943  \n10  0.000164  0.036272  0.149106  0.047642  0.162022  0.106092  \n11  0.131335  0.050312  0.071588  0.177299  0.158104  0.093807  \n12  0.057276  0.359530  0.092398  0.000000  0.000250  0.000351  \n13  0.000000  0.002583  0.000750  0.198218  0.291436  0.218146  \n14  0.007397  0.014151  0.001317  0.136428  0.098932  0.006606  \n15  0.013265  0.063307  0.355936  0.020123  0.297915  0.076775  \n16  0.018926  0.135721  0.114698  0.150570  0.027981  0.087836  \n17  0.106831  0.117121  0.350476  0.003535  0.004352  0.008721  \n18  0.127285  0.137602  0.056741  0.047970  0.041363  0.030071  \n19  0.000009  0.205858  0.487240  0.000000  0.000151  0.000440  \n20  0.015323  0.331047  0.222421  0.140535  0.100620  0.019081  \n21  0.000105  0.421173  0.154710  0.027006  0.043654  0.087654  \n22  0.032586  0.022892  0.000036  0.121444  0.091500  0.058031  \n23  0.001647  0.185397  0.334332  0.060774  0.083469  0.062707  \n\n[24 rows x 47 columns]\n1128\nimages/blood/online_v1_00205.png\ndone\n    #BE0032  #BC3F4A  #841B2D   #5C0923   #AB4E52   #722F37   #3F1728  \\\n0       0.0      0.0      0.0  0.000000  0.000000  0.000000  0.000000   \n1       0.0      0.0      0.0  0.000000  0.000000  0.000000  0.011853   \n2       0.0      0.0      0.0  0.000000  0.000000  0.000000  0.001217   \n3       0.0      0.0      0.0  0.000000  0.000000  0.000000  0.000000   \n4       0.0      0.0      0.0  0.000003  0.000000  0.000000  0.000756   \n5       0.0      0.0      0.0  0.000000  0.000000  0.000000  0.000000   \n6       0.0      0.0      0.0  0.000007  0.000000  0.000000  0.000127   \n7       0.0      0.0      0.0  0.000000  0.000000  0.000000  0.000004   \n8       0.0      0.0      0.0  0.000000  0.000000  0.000000  0.000031   \n9       0.0      0.0      0.0  0.000055  0.000000  0.000004  0.000735   \n10      0.0      0.0      0.0  0.000000  0.000000  0.000000  0.000000   \n11      0.0      0.0      0.0  0.000000  0.000000  0.000000  0.065225   \n12      0.0      0.0      0.0  0.000000  0.000000  0.000000  0.000000   \n13      0.0      0.0      0.0  0.000000  0.000000  0.000000  0.000000   \n14      0.0      0.0      0.0  0.000000  0.000000  0.000000  0.001397   \n15      0.0      0.0      0.0  0.000000  0.000000  0.000000  0.000000   \n16      0.0      0.0      0.0  0.000000  0.000000  0.000000  0.000000   \n17      0.0      0.0      0.0  0.000000  0.000000  0.000000  0.000000   \n18      0.0      0.0      0.0  0.000000  0.000011  0.000000  0.004657   \n19      0.0      0.0      0.0  0.000000  0.000000  0.000000  0.000000   \n20      0.0      0.0      0.0  0.000004  0.000004  0.000000  0.000232   \n21      0.0      0.0      0.0  0.000000  0.000000  0.000000  0.000012   \n22      0.0      0.0      0.0  0.000000  0.000000  0.000000  0.000756   \n23      0.0      0.0      0.0  0.000000  0.000000  0.000000  0.000011   \n24      0.0      0.0      0.0  0.000014  0.000014  0.000000  0.007326   \n\n     #AD8884   #905D5D   #543D3F  ...   #836479   #CE4676   #B3446C   #78184A  \\\n0   0.000000  0.000000  0.000000  ...  0.261377  0.125202  0.061941  0.007914   \n1   0.000047  0.015691  0.004776  ...  0.145533  0.309296  0.035123  0.003390   \n2   0.000010  0.011456  0.091890  ...  0.000000  0.000032  0.000000  0.000000   \n3   0.000100  0.000126  0.101204  ...  0.012688  0.003234  0.044587  0.043323   \n4   0.000881  0.001970  0.002605  ...  0.005505  0.421908  0.000020  0.000003   \n5   0.000041  0.000000  0.127318  ...  0.000006  0.000035  0.000041  0.048093   \n6   0.001490  0.000608  0.110942  ...  0.000000  0.020454  0.000000  0.000291   \n7   0.000000  0.000040  0.000000  ...  0.014242  0.020914  0.001332  0.010856   \n8   0.000219  0.000040  0.000904  ...  0.000256  0.000309  0.000454  0.000253   \n9   0.000204  0.109823  0.003270  ...  0.000000  0.001710  0.000000  0.000016   \n10  0.001701  0.000000  0.074569  ...  0.000000  0.000000  0.000000  0.015353   \n11  0.000075  0.044155  0.070865  ...  0.000000  0.010158  0.000000  0.000000   \n12  0.000000  0.000000  0.000000  ...  0.053434  0.245935  0.001601  0.002841   \n13  0.000000  0.000000  0.000000  ...  0.000000  0.000000  0.000000  0.000000   \n14  0.011556  0.004597  0.459257  ...  0.000000  0.000000  0.000000  0.000000   \n15  0.000000  0.000000  0.000000  ...  0.000000  0.000000  0.000000  0.000000   \n16  0.000006  0.033669  0.002371  ...  0.000039  0.000045  0.000168  0.033501   \n17  0.000000  0.000248  0.000004  ...  0.001532  0.097037  0.000408  0.010779   \n18  0.000007  0.008114  0.009682  ...  0.060484  0.195893  0.062920  0.047539   \n19  0.000000  0.000000  0.000000  ...  0.050187  0.060093  0.012076  0.043844   \n20  0.000297  0.000726  0.000026  ...  0.008730  0.006264  0.084166  0.067787   \n21  0.000000  0.000167  0.000568  ...  0.000000  0.000000  0.000000  0.024765   \n22  0.000020  0.296758  0.027399  ...  0.000008  0.138345  0.000000  0.000000   \n23  0.000000  0.057086  0.013554  ...  0.016054  0.063602  0.003752  0.011743   \n24  0.006911  0.001130  0.054929  ...  0.086507  0.088192  0.062326  0.030885   \n\n     #54133B   #A8516E   #673147   #38152C   #AF868E   #915F6D  \n0   0.031781  0.141491  0.020435  0.008028  0.000393  0.002226  \n1   0.048640  0.238551  0.019605  0.005193  0.027711  0.015915  \n2   0.001012  0.002041  0.021780  0.138292  0.139429  0.033746  \n3   0.001124  0.194102  0.083343  0.031534  0.059408  0.112911  \n4   0.039814  0.257184  0.009219  0.081245  0.071370  0.038983  \n5   0.000481  0.122952  0.243803  0.070282  0.134525  0.009765  \n6   0.060748  0.212645  0.257338  0.152191  0.032478  0.066129  \n7   0.030437  0.362148  0.155370  0.095704  0.053552  0.013053  \n8   0.000398  0.017441  0.541660  0.004620  0.020769  0.069691  \n9   0.038361  0.046942  0.013066  0.350829  0.094399  0.043943  \n10  0.000164  0.036272  0.149106  0.047642  0.162022  0.106092  \n11  0.131335  0.050312  0.071588  0.177299  0.158104  0.093807  \n12  0.057276  0.359530  0.092398  0.000000  0.000250  0.000351  \n13  0.000000  0.002583  0.000750  0.198218  0.291436  0.218146  \n14  0.007397  0.014151  0.001317  0.136428  0.098932  0.006606  \n15  0.013265  0.063307  0.355936  0.020123  0.297915  0.076775  \n16  0.018926  0.135721  0.114698  0.150570  0.027981  0.087836  \n17  0.106831  0.117121  0.350476  0.003535  0.004352  0.008721  \n18  0.127285  0.137602  0.056741  0.047970  0.041363  0.030071  \n19  0.000009  0.205858  0.487240  0.000000  0.000151  0.000440  \n20  0.015323  0.331047  0.222421  0.140535  0.100620  0.019081  \n21  0.000105  0.421173  0.154710  0.027006  0.043654  0.087654  \n22  0.032586  0.022892  0.000036  0.121444  0.091500  0.058031  \n23  0.001647  0.185397  0.334332  0.060774  0.083469  0.062707  \n24  0.018352  0.290895  0.112288  0.033978  0.005320  0.005019  \n\n[25 rows x 47 columns]\n1175\nimages/blood/online_v1_00014.png\ndone\n    #BE0032  #BC3F4A  #841B2D   #5C0923   #AB4E52   #722F37   #3F1728  \\\n0       0.0      0.0      0.0  0.000000  0.000000  0.000000  0.000000   \n1       0.0      0.0      0.0  0.000000  0.000000  0.000000  0.011853   \n2       0.0      0.0      0.0  0.000000  0.000000  0.000000  0.001217   \n3       0.0      0.0      0.0  0.000000  0.000000  0.000000  0.000000   \n4       0.0      0.0      0.0  0.000003  0.000000  0.000000  0.000756   \n5       0.0      0.0      0.0  0.000000  0.000000  0.000000  0.000000   \n6       0.0      0.0      0.0  0.000007  0.000000  0.000000  0.000127   \n7       0.0      0.0      0.0  0.000000  0.000000  0.000000  0.000004   \n8       0.0      0.0      0.0  0.000000  0.000000  0.000000  0.000031   \n9       0.0      0.0      0.0  0.000055  0.000000  0.000004  0.000735   \n10      0.0      0.0      0.0  0.000000  0.000000  0.000000  0.000000   \n11      0.0      0.0      0.0  0.000000  0.000000  0.000000  0.065225   \n12      0.0      0.0      0.0  0.000000  0.000000  0.000000  0.000000   \n13      0.0      0.0      0.0  0.000000  0.000000  0.000000  0.000000   \n14      0.0      0.0      0.0  0.000000  0.000000  0.000000  0.001397   \n15      0.0      0.0      0.0  0.000000  0.000000  0.000000  0.000000   \n16      0.0      0.0      0.0  0.000000  0.000000  0.000000  0.000000   \n17      0.0      0.0      0.0  0.000000  0.000000  0.000000  0.000000   \n18      0.0      0.0      0.0  0.000000  0.000011  0.000000  0.004657   \n19      0.0      0.0      0.0  0.000000  0.000000  0.000000  0.000000   \n20      0.0      0.0      0.0  0.000004  0.000004  0.000000  0.000232   \n21      0.0      0.0      0.0  0.000000  0.000000  0.000000  0.000012   \n22      0.0      0.0      0.0  0.000000  0.000000  0.000000  0.000756   \n23      0.0      0.0      0.0  0.000000  0.000000  0.000000  0.000011   \n24      0.0      0.0      0.0  0.000014  0.000014  0.000000  0.007326   \n25      0.0      0.0      0.0  0.000000  0.000005  0.000000  0.000025   \n\n     #AD8884   #905D5D   #543D3F  ...   #836479   #CE4676   #B3446C   #78184A  \\\n0   0.000000  0.000000  0.000000  ...  0.261377  0.125202  0.061941  0.007914   \n1   0.000047  0.015691  0.004776  ...  0.145533  0.309296  0.035123  0.003390   \n2   0.000010  0.011456  0.091890  ...  0.000000  0.000032  0.000000  0.000000   \n3   0.000100  0.000126  0.101204  ...  0.012688  0.003234  0.044587  0.043323   \n4   0.000881  0.001970  0.002605  ...  0.005505  0.421908  0.000020  0.000003   \n5   0.000041  0.000000  0.127318  ...  0.000006  0.000035  0.000041  0.048093   \n6   0.001490  0.000608  0.110942  ...  0.000000  0.020454  0.000000  0.000291   \n7   0.000000  0.000040  0.000000  ...  0.014242  0.020914  0.001332  0.010856   \n8   0.000219  0.000040  0.000904  ...  0.000256  0.000309  0.000454  0.000253   \n9   0.000204  0.109823  0.003270  ...  0.000000  0.001710  0.000000  0.000016   \n10  0.001701  0.000000  0.074569  ...  0.000000  0.000000  0.000000  0.015353   \n11  0.000075  0.044155  0.070865  ...  0.000000  0.010158  0.000000  0.000000   \n12  0.000000  0.000000  0.000000  ...  0.053434  0.245935  0.001601  0.002841   \n13  0.000000  0.000000  0.000000  ...  0.000000  0.000000  0.000000  0.000000   \n14  0.011556  0.004597  0.459257  ...  0.000000  0.000000  0.000000  0.000000   \n15  0.000000  0.000000  0.000000  ...  0.000000  0.000000  0.000000  0.000000   \n16  0.000006  0.033669  0.002371  ...  0.000039  0.000045  0.000168  0.033501   \n17  0.000000  0.000248  0.000004  ...  0.001532  0.097037  0.000408  0.010779   \n18  0.000007  0.008114  0.009682  ...  0.060484  0.195893  0.062920  0.047539   \n19  0.000000  0.000000  0.000000  ...  0.050187  0.060093  0.012076  0.043844   \n20  0.000297  0.000726  0.000026  ...  0.008730  0.006264  0.084166  0.067787   \n21  0.000000  0.000167  0.000568  ...  0.000000  0.000000  0.000000  0.024765   \n22  0.000020  0.296758  0.027399  ...  0.000008  0.138345  0.000000  0.000000   \n23  0.000000  0.057086  0.013554  ...  0.016054  0.063602  0.003752  0.011743   \n24  0.006911  0.001130  0.054929  ...  0.086507  0.088192  0.062326  0.030885   \n25  0.012345  0.000000  0.082997  ...  0.042074  0.066891  0.003186  0.000087   \n\n     #54133B   #A8516E   #673147   #38152C   #AF868E   #915F6D  \n0   0.031781  0.141491  0.020435  0.008028  0.000393  0.002226  \n1   0.048640  0.238551  0.019605  0.005193  0.027711  0.015915  \n2   0.001012  0.002041  0.021780  0.138292  0.139429  0.033746  \n3   0.001124  0.194102  0.083343  0.031534  0.059408  0.112911  \n4   0.039814  0.257184  0.009219  0.081245  0.071370  0.038983  \n5   0.000481  0.122952  0.243803  0.070282  0.134525  0.009765  \n6   0.060748  0.212645  0.257338  0.152191  0.032478  0.066129  \n7   0.030437  0.362148  0.155370  0.095704  0.053552  0.013053  \n8   0.000398  0.017441  0.541660  0.004620  0.020769  0.069691  \n9   0.038361  0.046942  0.013066  0.350829  0.094399  0.043943  \n10  0.000164  0.036272  0.149106  0.047642  0.162022  0.106092  \n11  0.131335  0.050312  0.071588  0.177299  0.158104  0.093807  \n12  0.057276  0.359530  0.092398  0.000000  0.000250  0.000351  \n13  0.000000  0.002583  0.000750  0.198218  0.291436  0.218146  \n14  0.007397  0.014151  0.001317  0.136428  0.098932  0.006606  \n15  0.013265  0.063307  0.355936  0.020123  0.297915  0.076775  \n16  0.018926  0.135721  0.114698  0.150570  0.027981  0.087836  \n17  0.106831  0.117121  0.350476  0.003535  0.004352  0.008721  \n18  0.127285  0.137602  0.056741  0.047970  0.041363  0.030071  \n19  0.000009  0.205858  0.487240  0.000000  0.000151  0.000440  \n20  0.015323  0.331047  0.222421  0.140535  0.100620  0.019081  \n21  0.000105  0.421173  0.154710  0.027006  0.043654  0.087654  \n22  0.032586  0.022892  0.000036  0.121444  0.091500  0.058031  \n23  0.001647  0.185397  0.334332  0.060774  0.083469  0.062707  \n24  0.018352  0.290895  0.112288  0.033978  0.005320  0.005019  \n25  0.008843  0.324908  0.051244  0.057044  0.082278  0.106493  \n\n[26 rows x 47 columns]\n1222\n"
    }
   ],
   "source": [
    "path = os.path.join('images', 'blood')\n",
    "df_red_vec = pd.DataFrame(columns = df_red_iscc['hex'].values) \n",
    "for img_name in os.listdir(path):\n",
    "    if img_name.startswith('data'):\n",
    "        continue\n",
    "        \n",
    "    path_img = os.path.join(path, img_name)\n",
    "    print(path_img)\n",
    "    dict_red, dict_temp_names = img_to_red_vec(path_img)\n",
    "    print('done')\n",
    "    for color_hex in df_red_vec.columns:\n",
    "        if color_hex not in dict_red.keys():\n",
    "            dict_red[color_hex] = 0\n",
    "    df_red_vec = df_red_vec.append(dict_red,ignore_index=True,sort=False)\n",
    "    print(df_red_vec)\n",
    "    print(df_red_vec.size)"
   ]
  },
  {
   "cell_type": "code",
   "execution_count": 15,
   "metadata": {},
   "outputs": [
    {
     "output_type": "execute_result",
     "data": {
      "text/plain": "(6, 267)"
     },
     "metadata": {},
     "execution_count": 15
    }
   ],
   "source": [
    "df_vec.shape"
   ]
  },
  {
   "cell_type": "code",
   "execution_count": 15,
   "metadata": {},
   "outputs": [
    {
     "output_type": "execute_result",
     "data": {
      "text/plain": "(26, 47)"
     },
     "metadata": {},
     "execution_count": 15
    }
   ],
   "source": [
    "df_red_vec.shape"
   ]
  },
  {
   "cell_type": "code",
   "execution_count": null,
   "metadata": {},
   "outputs": [],
   "source": [
    "df_vec.to_csv(os.path.join(path, 'data_blood.csv'), index=False)"
   ]
  },
  {
   "cell_type": "code",
   "execution_count": 14,
   "metadata": {},
   "outputs": [],
   "source": [
    "df_red_vec.to_csv(os.path.join(path, 'data_red_only.csv'), index = False)"
   ]
  },
  {
   "cell_type": "code",
   "execution_count": null,
   "metadata": {},
   "outputs": [],
   "source": []
  }
 ],
 "metadata": {
  "kernelspec": {
   "display_name": "Python 3",
   "language": "python",
   "name": "python3"
  },
  "language_info": {
   "codemirror_mode": {
    "name": "ipython",
    "version": 3
   },
   "file_extension": ".py",
   "mimetype": "text/x-python",
   "name": "python",
   "nbconvert_exporter": "python",
   "pygments_lexer": "ipython3",
   "version": "3.8.3-final"
  }
 },
 "nbformat": 4,
 "nbformat_minor": 4
}