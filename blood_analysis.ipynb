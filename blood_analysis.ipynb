{
 "cells": [
  {
   "cell_type": "code",
   "execution_count": 1,
   "metadata": {},
   "outputs": [],
   "source": [
    "'''\n",
    "Import necessary packages\n",
    "'''\n",
    "import os\n",
    "import pandas as pd\n",
    "import numpy as np\n",
    "from scipy.spatial.distance import cdist\n",
    "\n",
    "import matplotlib.pyplot as plt\n",
    "import imageio\n",
    "from colormath.color_objects import sRGBColor, LabColor\n",
    "from colormath.color_conversions import convert_color\n",
    "from PIL import Image\n",
    "# import cv2\n",
    "from collections import Counter\n",
    "\n",
    "np.set_printoptions(precision=3)\n",
    "\n",
    "%matplotlib inline"
   ]
  },
  {
   "cell_type": "code",
   "execution_count": 2,
   "metadata": {},
   "outputs": [],
   "source": [
    "def convert_to_lab(arr_rgb):\n",
    "    '''\n",
    "    This function will transform every rgb value in the list to lab. \n",
    "    '''\n",
    "    \n",
    "    list_lab = []\n",
    "    for row in arr_rgb:\n",
    "        r, g, b = row\n",
    "        list_lab.append(convert_color(sRGBColor(r, g, b, is_upscaled=True), LabColor).get_value_tuple())\n",
    "    return np.array(list_lab)\n",
    "\n",
    "\n",
    "def convert_to_rgb(arr_lab):\n",
    "    '''\n",
    "    This function will transform every rgb value in the list to lab. \n",
    "    '''\n",
    "    \n",
    "    list_rgb = []\n",
    "    for row in arr_lab:\n",
    "        l, a, b = row\n",
    "        list_rgb.append(convert_color(LabColor(l, a, b), sRGBColor).get_value_tuple())\n",
    "    return np.array(list_rgb)\n",
    "\n",
    "def find_the_cloeset_iscc(arr_img_lab, arr_iscc_lab):\n",
    "    \n",
    "    return arr_iscc_lab[np.argmin(cdist(arr_img_lab, arr_iscc_lab), 1)] \n",
    "\n",
    "# function to return key for any value \n",
    "def get_key(my_dict, val): \n",
    "    for key, value in my_dict.items(): \n",
    "         if val == value: \n",
    "                return key \n",
    "    return \"key doesn't exist\"\n",
    "      "
   ]
  },
  {
   "cell_type": "code",
   "execution_count": 3,
   "metadata": {},
   "outputs": [],
   "source": [
    "'''\n",
    "Define the color card with ISCC_NBS\n",
    "'''\n",
    "\n",
    "# Read ISCC from local file\n",
    "path_iscc = os.path.join('ISCC_NBS', 'ISCC_NBS_w3.csv')\n",
    "df_iscc = pd.read_csv(path_iscc, names = ['color_name', 'hex'])\n",
    "\n",
    "# Get the RGB and CIE-Lab values for each color in ISCC color card\n",
    "df_iscc['RGB'] = \"\"\n",
    "df_iscc['Lab'] = \"\"\n",
    "for index, row in df_iscc.iterrows(): \n",
    "    df_iscc.loc[index, 'RGB'] = sRGBColor.new_from_rgb_hex(row['hex'])\n",
    "    df_iscc.loc[index, 'Lab'] = convert_color(df_iscc.loc[index, 'RGB'], LabColor).get_value_tuple()"
   ]
  },
  {
   "cell_type": "code",
   "execution_count": 4,
   "metadata": {},
   "outputs": [],
   "source": [
    "def img_to_vec(img_path):\n",
    "    \n",
    "    img = Image.open(path_img).convert('RGB')\n",
    "    img = np.array(img)\n",
    "    arr_img_lab = convert_to_lab(img.reshape(img.shape[0]*img.shape[1], 3))\n",
    "    arr_iscc_lab = np.array(df_iscc['Lab'].tolist())\n",
    "    quantized_img_lab = find_the_cloeset_iscc(arr_img_lab, arr_iscc_lab)\n",
    "    quantized_img_rgb = convert_to_rgb(quantized_img_lab).reshape(img.shape[0], img.shape[1], 3)\n",
    "    background_lab = np.array([95.7931405 , -0.15465805, -0.6054342])\n",
    "    (unique, counts) = np.unique(quantized_img_lab, return_counts=True, axis=0)\n",
    "    indices = np.argsort(counts)[::-1]\n",
    "    dict_color_count = {}\n",
    "    dict_color_name = {}\n",
    "    sum_counts = sum(counts)\n",
    "\n",
    "\n",
    "    for i in indices:\n",
    "        if cdist(unique[i].reshape(1, 3), background_lab.reshape(1, 3)) < 0.001:\n",
    "            continue\n",
    "        index_iscc = np.where(cdist(df_iscc['Lab'].tolist(), unique[i].reshape(1, 3))<0.01)\n",
    "        hex_value = df_iscc.loc[index_iscc[0][0], 'hex']\n",
    "        color_name = df_iscc.loc[index_iscc[0][0], 'color_name']\n",
    "        dict_color_count[hex_value] = counts[i]/sum_counts\n",
    "        dict_color_name[hex_value] = color_name\n",
    "    return dict_color_count, dict_color_name"
   ]
  },
  {
   "cell_type": "code",
   "execution_count": 5,
   "metadata": {
    "scrolled": true,
    "tags": []
   },
   "outputs": [
    {
     "output_type": "stream",
     "name": "stdout",
     "text": "   #FFB5BA  #EA9399  #E4717A  #F9CCCA  #DEA5A4  #C08081  #EAD8D7  #C4AEAD  \\\n0      0.0      0.0      0.0      0.0      0.0      0.0      0.0      0.0   \n\n   #EAE3E1  #C1B6B3  ...  #A8516E  #673147  #38152C  #AF868E  #915F6D  \\\n0      0.0      0.0  ...      0.0      0.0      0.0      0.0      0.0   \n\n   #F2F3F4  #B9B8B5  #848482  #555555  #222222  \n0      0.0      0.0      0.0      0.0      0.0  \n\n[1 rows x 267 columns]\n   #FFB5BA  #EA9399  #E4717A  #F9CCCA  #DEA5A4  #C08081   #EAD8D7   #C4AEAD  \\\n0      0.0      0.0      0.0      0.0      0.0      0.0  0.000000  0.000000   \n1      0.0      0.0      0.0      0.0      0.0      0.0  0.011588  0.000047   \n\n    #EAE3E1  #C1B6B3  ...  #A8516E  #673147  #38152C  #AF868E  #915F6D  \\\n0  0.000000  0.00000  ...      0.0      0.0      0.0      0.0      0.0   \n1  0.004362  0.00339  ...      0.0      0.0      0.0      0.0      0.0   \n\n   #F2F3F4  #B9B8B5  #848482  #555555   #222222  \n0      0.0      0.0      0.0      0.0  0.000000  \n1      0.0      0.0      0.0      0.0  0.000041  \n\n[2 rows x 267 columns]\n   #FFB5BA  #EA9399  #E4717A  #F9CCCA  #DEA5A4  #C08081   #EAD8D7   #C4AEAD  \\\n0      0.0      0.0      0.0      0.0      0.0      0.0  0.000000  0.000000   \n1      0.0      0.0      0.0      0.0      0.0      0.0  0.011588  0.000047   \n2      0.0      0.0      0.0      0.0      0.0      0.0  0.000038  0.000002   \n\n    #EAE3E1   #C1B6B3  ...  #A8516E  #673147  #38152C  #AF868E  #915F6D  \\\n0  0.000000  0.000000  ...      0.0      0.0      0.0      0.0      0.0   \n1  0.004362  0.003390  ...      0.0      0.0      0.0      0.0      0.0   \n2  0.000476  0.000812  ...      0.0      0.0      0.0      0.0      0.0   \n\n   #F2F3F4   #B9B8B5   #848482   #555555   #222222  \n0      0.0  0.000000  0.000000  0.000000  0.000000  \n1      0.0  0.000000  0.000000  0.000000  0.000041  \n2      0.0  0.082276  0.065629  0.007611  0.049385  \n\n[3 rows x 267 columns]\n   #FFB5BA  #EA9399  #E4717A  #F9CCCA  #DEA5A4  #C08081   #EAD8D7   #C4AEAD  \\\n0      0.0      0.0      0.0      0.0      0.0      0.0  0.000000  0.000000   \n1      0.0      0.0      0.0      0.0      0.0      0.0  0.011588  0.000047   \n2      0.0      0.0      0.0      0.0      0.0      0.0  0.000038  0.000002   \n3      0.0      0.0      0.0      0.0      0.0      0.0  0.000000  0.000096   \n\n    #EAE3E1   #C1B6B3  ...  #A8516E  #673147  #38152C  #AF868E  #915F6D  \\\n0  0.000000  0.000000  ...      0.0      0.0      0.0      0.0      0.0   \n1  0.004362  0.003390  ...      0.0      0.0      0.0      0.0      0.0   \n2  0.000476  0.000812  ...      0.0      0.0      0.0      0.0      0.0   \n3  0.000037  0.000037  ...      0.0      0.0      0.0      0.0      0.0   \n\n   #F2F3F4   #B9B8B5   #848482   #555555   #222222  \n0      0.0  0.000000  0.000000  0.000000  0.000000  \n1      0.0  0.000000  0.000000  0.000000  0.000041  \n2      0.0  0.082276  0.065629  0.007611  0.049385  \n3      0.0  0.069328  0.130792  0.001317  0.000163  \n\n[4 rows x 267 columns]\n   #FFB5BA  #EA9399  #E4717A   #F9CCCA  #DEA5A4  #C08081   #EAD8D7   #C4AEAD  \\\n0      0.0      0.0      0.0  0.000000      0.0      0.0  0.000000  0.000000   \n1      0.0      0.0      0.0  0.000000      0.0      0.0  0.011588  0.000047   \n2      0.0      0.0      0.0  0.000000      0.0      0.0  0.000038  0.000002   \n3      0.0      0.0      0.0  0.000000      0.0      0.0  0.000000  0.000096   \n4      0.0      0.0      0.0  0.000003      0.0      0.0  0.000321  0.000309   \n\n    #EAE3E1   #C1B6B3  ...  #A8516E  #673147  #38152C   #AF868E   #915F6D  \\\n0  0.000000  0.000000  ...      0.0      0.0      0.0  0.000000  0.000000   \n1  0.004362  0.003390  ...      0.0      0.0      0.0  0.000000  0.000000   \n2  0.000476  0.000812  ...      0.0      0.0      0.0  0.000000  0.000000   \n3  0.000037  0.000037  ...      0.0      0.0      0.0  0.000000  0.000000   \n4  0.000326  0.000419  ...      0.0      0.0      0.0  0.000008  0.000018   \n\n   #F2F3F4   #B9B8B5   #848482   #555555   #222222  \n0      0.0  0.000000  0.000000  0.000000  0.000000  \n1      0.0  0.000000  0.000000  0.000000  0.000041  \n2      0.0  0.082276  0.065629  0.007611  0.049385  \n3      0.0  0.069328  0.130792  0.001317  0.000163  \n4      0.0  0.000241  0.000976  0.001669  0.000698  \n\n[5 rows x 267 columns]\n   #FFB5BA  #EA9399  #E4717A   #F9CCCA  #DEA5A4  #C08081   #EAD8D7   #C4AEAD  \\\n0      0.0      0.0      0.0  0.000000      0.0      0.0  0.000000  0.000000   \n1      0.0      0.0      0.0  0.000000      0.0      0.0  0.011588  0.000047   \n2      0.0      0.0      0.0  0.000000      0.0      0.0  0.000038  0.000002   \n3      0.0      0.0      0.0  0.000000      0.0      0.0  0.000000  0.000096   \n4      0.0      0.0      0.0  0.000003      0.0      0.0  0.000321  0.000309   \n5      0.0      0.0      0.0  0.000000      0.0      0.0  0.000000  0.000023   \n\n    #EAE3E1   #C1B6B3  ...  #A8516E  #673147  #38152C   #AF868E   #915F6D  \\\n0  0.000000  0.000000  ...      0.0      0.0      0.0  0.000000  0.000000   \n1  0.004362  0.003390  ...      0.0      0.0      0.0  0.000000  0.000000   \n2  0.000476  0.000812  ...      0.0      0.0      0.0  0.000000  0.000000   \n3  0.000037  0.000037  ...      0.0      0.0      0.0  0.000000  0.000000   \n4  0.000326  0.000419  ...      0.0      0.0      0.0  0.000008  0.000018   \n5  0.000000  0.000000  ...      0.0      0.0      0.0  0.000000  0.000000   \n\n   #F2F3F4   #B9B8B5   #848482   #555555   #222222  \n0      0.0  0.000000  0.000000  0.000000  0.000000  \n1      0.0  0.000000  0.000000  0.000000  0.000041  \n2      0.0  0.082276  0.065629  0.007611  0.049385  \n3      0.0  0.069328  0.130792  0.001317  0.000163  \n4      0.0  0.000241  0.000976  0.001669  0.000698  \n5      0.0  0.007506  0.050681  0.002565  0.000029  \n\n[6 rows x 267 columns]\n   #FFB5BA  #EA9399  #E4717A   #F9CCCA  #DEA5A4  #C08081   #EAD8D7   #C4AEAD  \\\n0      0.0      0.0      0.0  0.000000      0.0      0.0  0.000000  0.000000   \n1      0.0      0.0      0.0  0.000000      0.0      0.0  0.011588  0.000047   \n2      0.0      0.0      0.0  0.000000      0.0      0.0  0.000038  0.000002   \n3      0.0      0.0      0.0  0.000000      0.0      0.0  0.000000  0.000096   \n4      0.0      0.0      0.0  0.000003      0.0      0.0  0.000321  0.000309   \n5      0.0      0.0      0.0  0.000000      0.0      0.0  0.000000  0.000023   \n6      0.0      0.0      0.0  0.000007      0.0      0.0  0.000127  0.001480   \n\n    #EAE3E1   #C1B6B3  ...  #A8516E  #673147  #38152C   #AF868E   #915F6D  \\\n0  0.000000  0.000000  ...      0.0      0.0      0.0  0.000000  0.000000   \n1  0.004362  0.003390  ...      0.0      0.0      0.0  0.000000  0.000000   \n2  0.000476  0.000812  ...      0.0      0.0      0.0  0.000000  0.000000   \n3  0.000037  0.000037  ...      0.0      0.0      0.0  0.000000  0.000000   \n4  0.000326  0.000419  ...      0.0      0.0      0.0  0.000008  0.000018   \n5  0.000000  0.000000  ...      0.0      0.0      0.0  0.000000  0.000000   \n6  0.000301  0.078297  ...      0.0      0.0      0.0  0.000000  0.000000   \n\n   #F2F3F4   #B9B8B5   #848482   #555555   #222222  \n0      0.0  0.000000  0.000000  0.000000  0.000000  \n1      0.0  0.000000  0.000000  0.000000  0.000041  \n2      0.0  0.082276  0.065629  0.007611  0.049385  \n3      0.0  0.069328  0.130792  0.001317  0.000163  \n4      0.0  0.000241  0.000976  0.001669  0.000698  \n5      0.0  0.007506  0.050681  0.002565  0.000029  \n6      0.0  0.028614  0.000013  0.000000  0.000000  \n\n[7 rows x 267 columns]\n   #FFB5BA  #EA9399  #E4717A   #F9CCCA  #DEA5A4  #C08081   #EAD8D7   #C4AEAD  \\\n0      0.0      0.0      0.0  0.000000      0.0      0.0  0.000000  0.000000   \n1      0.0      0.0      0.0  0.000000      0.0      0.0  0.011588  0.000047   \n2      0.0      0.0      0.0  0.000000      0.0      0.0  0.000038  0.000002   \n3      0.0      0.0      0.0  0.000000      0.0      0.0  0.000000  0.000096   \n4      0.0      0.0      0.0  0.000003      0.0      0.0  0.000321  0.000309   \n5      0.0      0.0      0.0  0.000000      0.0      0.0  0.000000  0.000023   \n6      0.0      0.0      0.0  0.000007      0.0      0.0  0.000127  0.001480   \n7      0.0      0.0      0.0  0.000000      0.0      0.0  0.000004  0.000000   \n\n    #EAE3E1   #C1B6B3  ...  #A8516E  #673147  #38152C   #AF868E   #915F6D  \\\n0  0.000000  0.000000  ...      0.0      0.0      0.0  0.000000  0.000000   \n1  0.004362  0.003390  ...      0.0      0.0      0.0  0.000000  0.000000   \n2  0.000476  0.000812  ...      0.0      0.0      0.0  0.000000  0.000000   \n3  0.000037  0.000037  ...      0.0      0.0      0.0  0.000000  0.000000   \n4  0.000326  0.000419  ...      0.0      0.0      0.0  0.000008  0.000018   \n5  0.000000  0.000000  ...      0.0      0.0      0.0  0.000000  0.000000   \n6  0.000301  0.078297  ...      0.0      0.0      0.0  0.000000  0.000000   \n7  0.000004  0.000000  ...      0.0      0.0      0.0  0.000000  0.000000   \n\n   #F2F3F4   #B9B8B5   #848482   #555555   #222222  \n0      0.0  0.000000  0.000000  0.000000  0.000000  \n1      0.0  0.000000  0.000000  0.000000  0.000041  \n2      0.0  0.082276  0.065629  0.007611  0.049385  \n3      0.0  0.069328  0.130792  0.001317  0.000163  \n4      0.0  0.000241  0.000976  0.001669  0.000698  \n5      0.0  0.007506  0.050681  0.002565  0.000029  \n6      0.0  0.028614  0.000013  0.000000  0.000000  \n7      0.0  0.000000  0.000000  0.000000  0.000000  \n\n[8 rows x 267 columns]\n"
    },
    {
     "output_type": "error",
     "ename": "KeyboardInterrupt",
     "evalue": "",
     "traceback": [
      "\u001b[0;31m---------------------------------------------------------------------------\u001b[0m",
      "\u001b[0;31mKeyboardInterrupt\u001b[0m                         Traceback (most recent call last)",
      "\u001b[0;32m<ipython-input-5-1a03d5553407>\u001b[0m in \u001b[0;36m<module>\u001b[0;34m\u001b[0m\n\u001b[1;32m      6\u001b[0m \u001b[0;34m\u001b[0m\u001b[0m\n\u001b[1;32m      7\u001b[0m     \u001b[0mpath_img\u001b[0m \u001b[0;34m=\u001b[0m \u001b[0mos\u001b[0m\u001b[0;34m.\u001b[0m\u001b[0mpath\u001b[0m\u001b[0;34m.\u001b[0m\u001b[0mjoin\u001b[0m\u001b[0;34m(\u001b[0m\u001b[0mpath\u001b[0m\u001b[0;34m,\u001b[0m \u001b[0mimg_name\u001b[0m\u001b[0;34m)\u001b[0m\u001b[0;34m\u001b[0m\u001b[0;34m\u001b[0m\u001b[0m\n\u001b[0;32m----> 8\u001b[0;31m     \u001b[0mdict_color\u001b[0m\u001b[0;34m,\u001b[0m \u001b[0mdict_temp_names\u001b[0m \u001b[0;34m=\u001b[0m \u001b[0mimg_to_vec\u001b[0m\u001b[0;34m(\u001b[0m\u001b[0mpath_img\u001b[0m\u001b[0;34m)\u001b[0m\u001b[0;34m\u001b[0m\u001b[0;34m\u001b[0m\u001b[0m\n\u001b[0m\u001b[1;32m      9\u001b[0m     \u001b[0;32mfor\u001b[0m \u001b[0mcolor_hex\u001b[0m \u001b[0;32min\u001b[0m \u001b[0mdf_vec\u001b[0m\u001b[0;34m.\u001b[0m\u001b[0mcolumns\u001b[0m\u001b[0;34m:\u001b[0m\u001b[0;34m\u001b[0m\u001b[0;34m\u001b[0m\u001b[0m\n\u001b[1;32m     10\u001b[0m         \u001b[0;32mif\u001b[0m \u001b[0mcolor_hex\u001b[0m \u001b[0;32mnot\u001b[0m \u001b[0;32min\u001b[0m \u001b[0mdict_color\u001b[0m\u001b[0;34m.\u001b[0m\u001b[0mkeys\u001b[0m\u001b[0;34m(\u001b[0m\u001b[0;34m)\u001b[0m\u001b[0;34m:\u001b[0m\u001b[0;34m\u001b[0m\u001b[0;34m\u001b[0m\u001b[0m\n",
      "\u001b[0;32m<ipython-input-4-8cb2d5796e2b>\u001b[0m in \u001b[0;36mimg_to_vec\u001b[0;34m(img_path)\u001b[0m\n\u001b[1;32m      3\u001b[0m     \u001b[0mimg\u001b[0m \u001b[0;34m=\u001b[0m \u001b[0mImage\u001b[0m\u001b[0;34m.\u001b[0m\u001b[0mopen\u001b[0m\u001b[0;34m(\u001b[0m\u001b[0mpath_img\u001b[0m\u001b[0;34m)\u001b[0m\u001b[0;34m.\u001b[0m\u001b[0mconvert\u001b[0m\u001b[0;34m(\u001b[0m\u001b[0;34m'RGB'\u001b[0m\u001b[0;34m)\u001b[0m\u001b[0;34m\u001b[0m\u001b[0;34m\u001b[0m\u001b[0m\n\u001b[1;32m      4\u001b[0m     \u001b[0mimg\u001b[0m \u001b[0;34m=\u001b[0m \u001b[0mnp\u001b[0m\u001b[0;34m.\u001b[0m\u001b[0marray\u001b[0m\u001b[0;34m(\u001b[0m\u001b[0mimg\u001b[0m\u001b[0;34m)\u001b[0m\u001b[0;34m\u001b[0m\u001b[0;34m\u001b[0m\u001b[0m\n\u001b[0;32m----> 5\u001b[0;31m     \u001b[0marr_img_lab\u001b[0m \u001b[0;34m=\u001b[0m \u001b[0mconvert_to_lab\u001b[0m\u001b[0;34m(\u001b[0m\u001b[0mimg\u001b[0m\u001b[0;34m.\u001b[0m\u001b[0mreshape\u001b[0m\u001b[0;34m(\u001b[0m\u001b[0mimg\u001b[0m\u001b[0;34m.\u001b[0m\u001b[0mshape\u001b[0m\u001b[0;34m[\u001b[0m\u001b[0;36m0\u001b[0m\u001b[0;34m]\u001b[0m\u001b[0;34m*\u001b[0m\u001b[0mimg\u001b[0m\u001b[0;34m.\u001b[0m\u001b[0mshape\u001b[0m\u001b[0;34m[\u001b[0m\u001b[0;36m1\u001b[0m\u001b[0;34m]\u001b[0m\u001b[0;34m,\u001b[0m \u001b[0;36m3\u001b[0m\u001b[0;34m)\u001b[0m\u001b[0;34m)\u001b[0m\u001b[0;34m\u001b[0m\u001b[0;34m\u001b[0m\u001b[0m\n\u001b[0m\u001b[1;32m      6\u001b[0m     \u001b[0marr_iscc_lab\u001b[0m \u001b[0;34m=\u001b[0m \u001b[0mnp\u001b[0m\u001b[0;34m.\u001b[0m\u001b[0marray\u001b[0m\u001b[0;34m(\u001b[0m\u001b[0mdf_iscc\u001b[0m\u001b[0;34m[\u001b[0m\u001b[0;34m'Lab'\u001b[0m\u001b[0;34m]\u001b[0m\u001b[0;34m.\u001b[0m\u001b[0mtolist\u001b[0m\u001b[0;34m(\u001b[0m\u001b[0;34m)\u001b[0m\u001b[0;34m)\u001b[0m\u001b[0;34m\u001b[0m\u001b[0;34m\u001b[0m\u001b[0m\n\u001b[1;32m      7\u001b[0m     \u001b[0mquantized_img_lab\u001b[0m \u001b[0;34m=\u001b[0m \u001b[0mfind_the_cloeset_iscc\u001b[0m\u001b[0;34m(\u001b[0m\u001b[0marr_img_lab\u001b[0m\u001b[0;34m,\u001b[0m \u001b[0marr_iscc_lab\u001b[0m\u001b[0;34m)\u001b[0m\u001b[0;34m\u001b[0m\u001b[0;34m\u001b[0m\u001b[0m\n",
      "\u001b[0;32m<ipython-input-2-695dcc9a26df>\u001b[0m in \u001b[0;36mconvert_to_lab\u001b[0;34m(arr_rgb)\u001b[0m\n\u001b[1;32m      6\u001b[0m     \u001b[0mlist_lab\u001b[0m \u001b[0;34m=\u001b[0m \u001b[0;34m[\u001b[0m\u001b[0;34m]\u001b[0m\u001b[0;34m\u001b[0m\u001b[0;34m\u001b[0m\u001b[0m\n\u001b[1;32m      7\u001b[0m     \u001b[0;32mfor\u001b[0m \u001b[0mrow\u001b[0m \u001b[0;32min\u001b[0m \u001b[0marr_rgb\u001b[0m\u001b[0;34m:\u001b[0m\u001b[0;34m\u001b[0m\u001b[0;34m\u001b[0m\u001b[0m\n\u001b[0;32m----> 8\u001b[0;31m         \u001b[0mr\u001b[0m\u001b[0;34m,\u001b[0m \u001b[0mg\u001b[0m\u001b[0;34m,\u001b[0m \u001b[0mb\u001b[0m \u001b[0;34m=\u001b[0m \u001b[0mrow\u001b[0m\u001b[0;34m\u001b[0m\u001b[0;34m\u001b[0m\u001b[0m\n\u001b[0m\u001b[1;32m      9\u001b[0m         \u001b[0mlist_lab\u001b[0m\u001b[0;34m.\u001b[0m\u001b[0mappend\u001b[0m\u001b[0;34m(\u001b[0m\u001b[0mconvert_color\u001b[0m\u001b[0;34m(\u001b[0m\u001b[0msRGBColor\u001b[0m\u001b[0;34m(\u001b[0m\u001b[0mr\u001b[0m\u001b[0;34m,\u001b[0m \u001b[0mg\u001b[0m\u001b[0;34m,\u001b[0m \u001b[0mb\u001b[0m\u001b[0;34m,\u001b[0m \u001b[0mis_upscaled\u001b[0m\u001b[0;34m=\u001b[0m\u001b[0;32mTrue\u001b[0m\u001b[0;34m)\u001b[0m\u001b[0;34m,\u001b[0m \u001b[0mLabColor\u001b[0m\u001b[0;34m)\u001b[0m\u001b[0;34m.\u001b[0m\u001b[0mget_value_tuple\u001b[0m\u001b[0;34m(\u001b[0m\u001b[0;34m)\u001b[0m\u001b[0;34m)\u001b[0m\u001b[0;34m\u001b[0m\u001b[0;34m\u001b[0m\u001b[0m\n\u001b[1;32m     10\u001b[0m     \u001b[0;32mreturn\u001b[0m \u001b[0mnp\u001b[0m\u001b[0;34m.\u001b[0m\u001b[0marray\u001b[0m\u001b[0;34m(\u001b[0m\u001b[0mlist_lab\u001b[0m\u001b[0;34m)\u001b[0m\u001b[0;34m\u001b[0m\u001b[0;34m\u001b[0m\u001b[0m\n",
      "\u001b[0;31mKeyboardInterrupt\u001b[0m: "
     ]
    }
   ],
   "source": [
    "\n",
    "path = os.path.join('images', 'blood')\n",
    "df_vec = pd.DataFrame(columns = df_iscc['hex'].values) \n",
    "for img_name in os.listdir(path):\n",
    "    if img_name.startswith('.'):\n",
    "        continue\n",
    "        \n",
    "    path_img = os.path.join(path, img_name)\n",
    "    dict_color, dict_temp_names = img_to_vec(path_img)\n",
    "    for color_hex in df_vec.columns:\n",
    "        if color_hex not in dict_color.keys():\n",
    "            dict_color[color_hex] = 0\n",
    "    df_vec = df_vec.append(dict_color,ignore_index=True,sort=False)\n",
    "    print(df_vec)\n",
    "    "
   ]
  },
  {
   "cell_type": "code",
   "execution_count": null,
   "metadata": {},
   "outputs": [],
   "source": [
    "def place_red_values_in_csv(dominant_color_names, dict_color_count, concern_color = 'red'):\n",
    "    count = 0\n",
    "    color_concerns = []\n",
    "     \n",
    "    \n",
    "\n",
    "    for color_name in dominant_color_names:\n",
    "        if concern_color in color_name:\n",
    "            color_hex = get_key(dict_color_name, color_name)\n",
    "            count += dict_dominant_color_count[color_hex]\n",
    "            color_concerns.append(color_name)\n",
    "            df_red_vec = df_red_vec.append(dict_color,ignore_index=True,sort=False)\n",
    "\n",
    "\n"
   ]
  },
  {
   "cell_type": "code",
   "execution_count": null,
   "metadata": {},
   "outputs": [],
   "source": [
    "path = os.path.join('images', 'blood')\n",
    "df_red_vec = pd.DataFrame(columns = df_iscc['hex'].values) \n",
    "\n",
    "for img_name in os.listdir(path):\n",
    "    if img_name.startswith('.'):\n",
    "        continue\n",
    "    path_img = os.path.join(path, img_name)\n",
    "    dict_color, dict_names = img_to_vec(path_img)\n",
    "    place_red_values_in_csv(dict_names, dict_color, 'red')\n",
    "    # for color_hex in df_vec.columns:\n",
    "    #     if color_hex not in dict_color.keys():\n",
    "    #         dict_color[color_hex] = 0\n",
    "    \n",
    "print(df_red_vec)"
   ]
  },
  {
   "cell_type": "code",
   "execution_count": null,
   "metadata": {},
   "outputs": [],
   "source": [
    "df_vec.shape"
   ]
  },
  {
   "cell_type": "code",
   "execution_count": null,
   "metadata": {},
   "outputs": [],
   "source": [
    "df_vec.to_csv(os.path.join(path, 'blood.csv'), index=False)"
   ]
  },
  {
   "cell_type": "code",
   "execution_count": null,
   "metadata": {},
   "outputs": [],
   "source": [
    "df_red_vec.to_csv(os.path.join(path, 'onlyRed.csv'), index = False)"
   ]
  },
  {
   "cell_type": "code",
   "execution_count": null,
   "metadata": {},
   "outputs": [],
   "source": []
  }
 ],
 "metadata": {
  "kernelspec": {
   "display_name": "Python 3",
   "language": "python",
   "name": "python3"
  },
  "language_info": {
   "codemirror_mode": {
    "name": "ipython",
    "version": 3
   },
   "file_extension": ".py",
   "mimetype": "text/x-python",
   "name": "python",
   "nbconvert_exporter": "python",
   "pygments_lexer": "ipython3",
   "version": "3.8.3-final"
  }
 },
 "nbformat": 4,
 "nbformat_minor": 4
}