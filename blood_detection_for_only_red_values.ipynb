{
 "cells": [
  {
   "cell_type": "code",
   "execution_count": 1,
   "metadata": {},
   "outputs": [],
   "source": [
    "import os\n",
    "import pandas as pd\n",
    "import plotly.express as px\n",
    "from sklearn.decomposition import PCA\n",
    "import matplotlib.pyplot as plt\n",
    "from sklearn.linear_model import LogisticRegression\n",
    "from sklearn.model_selection import train_test_split\n",
    "from sklearn.metrics import accuracy_score\n",
    "from sklearn.neighbors import KNeighborsClassifier"
   ]
  },
  {
   "cell_type": "code",
   "execution_count": 2,
   "metadata": {
    "tags": []
   },
   "outputs": [
    {
     "output_type": "stream",
     "name": "stdout",
     "text": "    #BE0032  #BC3F4A  #841B2D   #5C0923   #AB4E52   #722F37   #3F1728  \\\n0       0.0      0.0      0.0  0.000000  0.000000  0.000000  0.000000   \n1       0.0      0.0      0.0  0.000000  0.000000  0.000000  0.011853   \n2       0.0      0.0      0.0  0.000000  0.000000  0.000000  0.001217   \n3       0.0      0.0      0.0  0.000000  0.000000  0.000000  0.000000   \n4       0.0      0.0      0.0  0.000003  0.000000  0.000000  0.000756   \n5       0.0      0.0      0.0  0.000000  0.000000  0.000000  0.000000   \n6       0.0      0.0      0.0  0.000007  0.000000  0.000000  0.000127   \n7       0.0      0.0      0.0  0.000000  0.000000  0.000000  0.000004   \n8       0.0      0.0      0.0  0.000000  0.000000  0.000000  0.000031   \n9       0.0      0.0      0.0  0.000055  0.000000  0.000004  0.000735   \n10      0.0      0.0      0.0  0.000000  0.000000  0.000000  0.000000   \n11      0.0      0.0      0.0  0.000000  0.000000  0.000000  0.065225   \n12      0.0      0.0      0.0  0.000000  0.000000  0.000000  0.000000   \n13      0.0      0.0      0.0  0.000000  0.000000  0.000000  0.000000   \n14      0.0      0.0      0.0  0.000000  0.000000  0.000000  0.001397   \n15      0.0      0.0      0.0  0.000000  0.000000  0.000000  0.000000   \n16      0.0      0.0      0.0  0.000000  0.000000  0.000000  0.000000   \n17      0.0      0.0      0.0  0.000000  0.000000  0.000000  0.000000   \n18      0.0      0.0      0.0  0.000000  0.000011  0.000000  0.004657   \n19      0.0      0.0      0.0  0.000000  0.000000  0.000000  0.000000   \n20      0.0      0.0      0.0  0.000004  0.000004  0.000000  0.000232   \n21      0.0      0.0      0.0  0.000000  0.000000  0.000000  0.000012   \n22      0.0      0.0      0.0  0.000000  0.000000  0.000000  0.000756   \n23      0.0      0.0      0.0  0.000000  0.000000  0.000000  0.000011   \n24      0.0      0.0      0.0  0.000014  0.000014  0.000000  0.007326   \n25      0.0      0.0      0.0  0.000000  0.000005  0.000000  0.000025   \n26      0.0      0.0      0.0  0.000000  0.000000  0.000000  0.000000   \n\n     #AD8884   #905D5D   #543D3F  ...   #836479   #CE4676   #B3446C   #78184A  \\\n0   0.000000  0.000000  0.000000  ...  0.261377  0.125202  0.061941  0.007914   \n1   0.000047  0.015691  0.004776  ...  0.145533  0.309296  0.035123  0.003390   \n2   0.000010  0.011456  0.091890  ...  0.000000  0.000032  0.000000  0.000000   \n3   0.000100  0.000126  0.101204  ...  0.012688  0.003234  0.044587  0.043323   \n4   0.000881  0.001970  0.002605  ...  0.005505  0.421908  0.000020  0.000003   \n5   0.000041  0.000000  0.127318  ...  0.000006  0.000035  0.000041  0.048093   \n6   0.001490  0.000608  0.110942  ...  0.000000  0.020454  0.000000  0.000291   \n7   0.000000  0.000040  0.000000  ...  0.014242  0.020914  0.001332  0.010856   \n8   0.000219  0.000040  0.000904  ...  0.000256  0.000309  0.000454  0.000253   \n9   0.000204  0.109823  0.003270  ...  0.000000  0.001710  0.000000  0.000016   \n10  0.001701  0.000000  0.074569  ...  0.000000  0.000000  0.000000  0.015353   \n11  0.000075  0.044155  0.070865  ...  0.000000  0.010158  0.000000  0.000000   \n12  0.000000  0.000000  0.000000  ...  0.053434  0.245935  0.001601  0.002841   \n13  0.000000  0.000000  0.000000  ...  0.000000  0.000000  0.000000  0.000000   \n14  0.011556  0.004597  0.459257  ...  0.000000  0.000000  0.000000  0.000000   \n15  0.000000  0.000000  0.000000  ...  0.000000  0.000000  0.000000  0.000000   \n16  0.000006  0.033669  0.002371  ...  0.000039  0.000045  0.000168  0.033501   \n17  0.000000  0.000248  0.000004  ...  0.001532  0.097037  0.000408  0.010779   \n18  0.000007  0.008114  0.009682  ...  0.060484  0.195893  0.062920  0.047539   \n19  0.000000  0.000000  0.000000  ...  0.050187  0.060093  0.012076  0.043844   \n20  0.000297  0.000726  0.000026  ...  0.008730  0.006264  0.084166  0.067787   \n21  0.000000  0.000167  0.000568  ...  0.000000  0.000000  0.000000  0.024765   \n22  0.000020  0.296758  0.027399  ...  0.000008  0.138345  0.000000  0.000000   \n23  0.000000  0.057086  0.013554  ...  0.016054  0.063602  0.003752  0.011743   \n24  0.006911  0.001130  0.054929  ...  0.086507  0.088192  0.062326  0.030885   \n25  0.012345  0.000000  0.082997  ...  0.042074  0.066891  0.003186  0.000087   \n26  0.000066  0.000008  0.000086  ...  0.000003  0.000000  0.000000  0.000000   \n\n     #54133B   #A8516E   #673147   #38152C   #AF868E   #915F6D  \n0   0.031781  0.141491  0.020435  0.008028  0.000393  0.002226  \n1   0.048640  0.238551  0.019605  0.005193  0.027711  0.015915  \n2   0.001012  0.002041  0.021780  0.138292  0.139429  0.033746  \n3   0.001124  0.194102  0.083343  0.031534  0.059408  0.112911  \n4   0.039814  0.257184  0.009219  0.081245  0.071370  0.038983  \n5   0.000481  0.122952  0.243803  0.070282  0.134525  0.009765  \n6   0.060748  0.212645  0.257338  0.152191  0.032478  0.066129  \n7   0.030437  0.362148  0.155370  0.095704  0.053552  0.013053  \n8   0.000398  0.017441  0.541660  0.004620  0.020769  0.069691  \n9   0.038361  0.046942  0.013066  0.350829  0.094399  0.043943  \n10  0.000164  0.036272  0.149106  0.047642  0.162022  0.106092  \n11  0.131335  0.050312  0.071588  0.177299  0.158104  0.093807  \n12  0.057276  0.359530  0.092398  0.000000  0.000250  0.000351  \n13  0.000000  0.002583  0.000750  0.198218  0.291436  0.218146  \n14  0.007397  0.014151  0.001317  0.136428  0.098932  0.006606  \n15  0.013265  0.063307  0.355936  0.020123  0.297915  0.076775  \n16  0.018926  0.135721  0.114698  0.150570  0.027981  0.087836  \n17  0.106831  0.117121  0.350476  0.003535  0.004352  0.008721  \n18  0.127285  0.137602  0.056741  0.047970  0.041363  0.030071  \n19  0.000009  0.205858  0.487240  0.000000  0.000151  0.000440  \n20  0.015323  0.331047  0.222421  0.140535  0.100620  0.019081  \n21  0.000105  0.421173  0.154710  0.027006  0.043654  0.087654  \n22  0.032586  0.022892  0.000036  0.121444  0.091500  0.058031  \n23  0.001647  0.185397  0.334332  0.060774  0.083469  0.062707  \n24  0.018352  0.290895  0.112288  0.033978  0.005320  0.005019  \n25  0.008843  0.324908  0.051244  0.057044  0.082278  0.106493  \n26  0.000000  0.000000  0.000000  0.000000  0.000008  0.000000  \n\n[27 rows x 47 columns]\n"
    }
   ],
   "source": [
    "path_blood = os.path.join('images', 'blood', 'data_red_only.csv')\n",
    "path_good = os.path.join('images', 'good', 'good_red_only.csv')\n",
    "\n",
    "df_blood = pd.read_csv(path_blood)\n",
    "df_blood['label'] = 1\n",
    "# print(df_blood)\n",
    "df_good = pd.read_csv(path_good)\n",
    "df_good['label'] = 0\n",
    "df_data = pd.concat([df_blood, df_good], ignore_index=True)\n",
    "df_features = df_data.loc[:, df_data.columns != 'label']\n",
    "# print(df_data)\n",
    "print(df_features)"
   ]
  },
  {
   "cell_type": "code",
   "execution_count": 3,
   "metadata": {},
   "outputs": [
    {
     "output_type": "execute_result",
     "data": {
      "text/plain": "1"
     },
     "metadata": {},
     "execution_count": 3
    }
   ],
   "source": [
    "len(df_data[df_data['label'] == 0])"
   ]
  },
  {
   "cell_type": "code",
   "execution_count": 7,
   "metadata": {
    "tags": []
   },
   "outputs": [
    {
     "output_type": "stream",
     "name": "stdout",
     "text": "[[0.00000000e+00 0.00000000e+00 0.00000000e+00 0.00000000e+00\n  0.00000000e+00 0.00000000e+00 1.09075044e-05 0.00000000e+00\n  5.70855148e-02 1.35536649e-02 0.00000000e+00 0.00000000e+00\n  0.00000000e+00 0.00000000e+00 0.00000000e+00 0.00000000e+00\n  0.00000000e+00 1.52705061e-05 4.58115183e-05 0.00000000e+00\n  3.61845550e-02 4.21247818e-03 4.36300175e-06 1.78315881e-02\n  6.30453752e-04 0.00000000e+00 0.00000000e+00 0.00000000e+00\n  0.00000000e+00 0.00000000e+00 6.29363002e-03 1.30890052e-05\n  3.39005236e-02 0.00000000e+00 0.00000000e+00 0.00000000e+00\n  6.74083770e-03 1.60536649e-02 6.36016579e-02 3.75218150e-03\n  1.17430192e-02 1.64703316e-03 1.85397033e-01 3.34332461e-01\n  6.07744328e-02 8.34685864e-02 6.27072426e-02]]\n"
    }
   ],
   "source": [
    "X_train, X_test, y_train, y_test = train_test_split(df_features.values, \\\n",
    "                                                    df_data['label'].values, test_size=0.33, random_state=42)\n",
    "                                                    \n",
    "print(X_train)\n"
   ]
  },
  {
   "cell_type": "code",
   "execution_count": 13,
   "metadata": {},
   "outputs": [],
   "source": [
    "pca = PCA(n_components=2)\n",
    "components = pca.fit_transform(X_train)\n",
    "plt.scatter(components[:, 0], components[:, 1], c = y_train)\n",
    "plt.xlabel('PCA 0')\n",
    "plt.ylabel('PCA 1')\n",
    "# plt.legend()\n",
    "plt.colorbar()\n",
    "plt.show()\n",
    "pca_train = pca.transform(X_train)\n",
    "pca_test = pca.transform(X_test)"
   ]
  },
  {
   "cell_type": "code",
   "execution_count": 14,
   "metadata": {},
   "outputs": [
    {
     "output_type": "error",
     "ename": "ValueError",
     "evalue": "Expected n_neighbors &lt;= n_samples,  but n_samples = 1, n_neighbors = 3",
     "traceback": [
      "\u001b[0;31m---------------------------------------------------------------------------\u001b[0m",
      "\u001b[0;31mValueError\u001b[0m                                Traceback (most recent call last)",
      "\u001b[0;32m&lt;ipython-input-14-1fdf90719c30&gt;\u001b[0m in \u001b[0;36m&lt;module&gt;\u001b[0;34m\u001b[0m\n\u001b[1;32m      1\u001b[0m \u001b[0mclf\u001b[0m \u001b[0;34m=\u001b[0m \u001b[0mKNeighborsClassifier\u001b[0m\u001b[0;34m(\u001b[0m\u001b[0mn_neighbors\u001b[0m\u001b[0;34m=\u001b[0m\u001b[0;36m3\u001b[0m\u001b[0;34m)\u001b[0m\u001b[0;34m.\u001b[0m\u001b[0mfit\u001b[0m\u001b[0;34m(\u001b[0m\u001b[0mpca_train\u001b[0m\u001b[0;34m,\u001b[0m \u001b[0my_train\u001b[0m\u001b[0;34m)\u001b[0m\u001b[0;34m\u001b[0m\u001b[0;34m\u001b[0m\u001b[0m\n\u001b[0;32m----&gt; 2\u001b[0;31m \u001b[0my_hat\u001b[0m \u001b[0;34m=\u001b[0m \u001b[0mclf\u001b[0m\u001b[0;34m.\u001b[0m\u001b[0mpredict\u001b[0m\u001b[0;34m(\u001b[0m\u001b[0mpca_test\u001b[0m\u001b[0;34m)\u001b[0m\u001b[0;34m\u001b[0m\u001b[0;34m\u001b[0m\u001b[0m\n\u001b[0m\u001b[1;32m      3\u001b[0m \u001b[0mclf\u001b[0m\u001b[0;34m.\u001b[0m\u001b[0mscore\u001b[0m\u001b[0;34m(\u001b[0m\u001b[0mpca_test\u001b[0m\u001b[0;34m,\u001b[0m \u001b[0my_test\u001b[0m\u001b[0;34m)\u001b[0m\u001b[0;34m\u001b[0m\u001b[0;34m\u001b[0m\u001b[0m\n",
      "\u001b[0;32m~/opt/anaconda3/lib/python3.8/site-packages/sklearn/neighbors/_classification.py\u001b[0m in \u001b[0;36mpredict\u001b[0;34m(self, X)\u001b[0m\n\u001b[1;32m    173\u001b[0m         \u001b[0mX\u001b[0m \u001b[0;34m=\u001b[0m \u001b[0mcheck_array\u001b[0m\u001b[0;34m(\u001b[0m\u001b[0mX\u001b[0m\u001b[0;34m,\u001b[0m \u001b[0maccept_sparse\u001b[0m\u001b[0;34m=\u001b[0m\u001b[0;34m&#39;csr&#39;\u001b[0m\u001b[0;34m)\u001b[0m\u001b[0;34m\u001b[0m\u001b[0;34m\u001b[0m\u001b[0m\n\u001b[1;32m    174\u001b[0m \u001b[0;34m\u001b[0m\u001b[0m\n\u001b[0;32m--&gt; 175\u001b[0;31m         \u001b[0mneigh_dist\u001b[0m\u001b[0;34m,\u001b[0m \u001b[0mneigh_ind\u001b[0m \u001b[0;34m=\u001b[0m \u001b[0mself\u001b[0m\u001b[0;34m.\u001b[0m\u001b[0mkneighbors\u001b[0m\u001b[0;34m(\u001b[0m\u001b[0mX\u001b[0m\u001b[0;34m)\u001b[0m\u001b[0;34m\u001b[0m\u001b[0;34m\u001b[0m\u001b[0m\n\u001b[0m\u001b[1;32m    176\u001b[0m         \u001b[0mclasses_\u001b[0m \u001b[0;34m=\u001b[0m \u001b[0mself\u001b[0m\u001b[0;34m.\u001b[0m\u001b[0mclasses_\u001b[0m\u001b[0;34m\u001b[0m\u001b[0;34m\u001b[0m\u001b[0m\n\u001b[1;32m    177\u001b[0m         \u001b[0m_y\u001b[0m \u001b[0;34m=\u001b[0m \u001b[0mself\u001b[0m\u001b[0;34m.\u001b[0m\u001b[0m_y\u001b[0m\u001b[0;34m\u001b[0m\u001b[0;34m\u001b[0m\u001b[0m\n",
      "\u001b[0;32m~/opt/anaconda3/lib/python3.8/site-packages/sklearn/neighbors/_base.py\u001b[0m in \u001b[0;36mkneighbors\u001b[0;34m(self, X, n_neighbors, return_distance)\u001b[0m\n\u001b[1;32m    614\u001b[0m         \u001b[0mn_samples_fit\u001b[0m \u001b[0;34m=\u001b[0m \u001b[0mself\u001b[0m\u001b[0;34m.\u001b[0m\u001b[0mn_samples_fit_\u001b[0m\u001b[0;34m\u001b[0m\u001b[0;34m\u001b[0m\u001b[0m\n\u001b[1;32m    615\u001b[0m         \u001b[0;32mif\u001b[0m \u001b[0mn_neighbors\u001b[0m \u001b[0;34m&gt;\u001b[0m \u001b[0mn_samples_fit\u001b[0m\u001b[0;34m:\u001b[0m\u001b[0;34m\u001b[0m\u001b[0;34m\u001b[0m\u001b[0m\n\u001b[0;32m--&gt; 616\u001b[0;31m             raise ValueError(\n\u001b[0m\u001b[1;32m    617\u001b[0m                 \u001b[0;34m&quot;Expected n_neighbors &lt;= n_samples, &quot;\u001b[0m\u001b[0;34m\u001b[0m\u001b[0;34m\u001b[0m\u001b[0m\n\u001b[1;32m    618\u001b[0m                 \u001b[0;34m&quot; but n_samples = %d, n_neighbors = %d&quot;\u001b[0m \u001b[0;34m%\u001b[0m\u001b[0;34m\u001b[0m\u001b[0;34m\u001b[0m\u001b[0m\n",
      "\u001b[0;31mValueError\u001b[0m: Expected n_neighbors &lt;= n_samples,  but n_samples = 1, n_neighbors = 3"
     ]
    }
   ],
   "source": [
    "clf = KNeighborsClassifier(n_neighbors=3).fit(pca_train, y_train)\n",
    "y_hat = clf.predict(pca_test)\n",
    "clf.score(pca_test, y_test)"
   ]
  },
  {
   "cell_type": "code",
   "execution_count": 15,
   "metadata": {},
   "outputs": [
    {
     "output_type": "error",
     "ename": "NameError",
     "evalue": "name &#39;y_hat&#39; is not defined",
     "traceback": [
      "\u001b[0;31m---------------------------------------------------------------------------\u001b[0m",
      "\u001b[0;31mNameError\u001b[0m                                 Traceback (most recent call last)",
      "\u001b[0;32m&lt;ipython-input-15-5ab07247eef7&gt;\u001b[0m in \u001b[0;36m&lt;module&gt;\u001b[0;34m\u001b[0m\n\u001b[0;32m----&gt; 1\u001b[0;31m \u001b[0my_hat\u001b[0m\u001b[0;34m\u001b[0m\u001b[0;34m\u001b[0m\u001b[0m\n\u001b[0m",
      "\u001b[0;31mNameError\u001b[0m: name &#39;y_hat&#39; is not defined"
     ]
    }
   ],
   "source": [
    "y_hat"
   ]
  },
  {
   "cell_type": "code",
   "execution_count": null,
   "metadata": {},
   "outputs": [],
   "source": []
  },
  {
   "cell_type": "code",
   "execution_count": null,
   "metadata": {},
   "outputs": [],
   "source": []
  },
  {
   "cell_type": "code",
   "execution_count": 16,
   "metadata": {},
   "outputs": [
    {
     "output_type": "execute_result",
     "data": {
      "text/plain": "0.5555555555555556"
     },
     "metadata": {},
     "execution_count": 16
    }
   ],
   "source": [
    "accuracy_score(y_test, y_hat)"
   ]
  },
  {
   "cell_type": "code",
   "execution_count": null,
   "metadata": {},
   "outputs": [],
   "source": []
  }
 ],
 "metadata": {
  "kernelspec": {
   "display_name": "Python 3",
   "language": "python",
   "name": "python3"
  },
  "language_info": {
   "codemirror_mode": {
    "name": "ipython",
    "version": 3
   },
   "file_extension": ".py",
   "mimetype": "text/x-python",
   "name": "python",
   "nbconvert_exporter": "python",
   "pygments_lexer": "ipython3",
   "version": "3.8.3-final"
  }
 },
 "nbformat": 4,
 "nbformat_minor": 4
}