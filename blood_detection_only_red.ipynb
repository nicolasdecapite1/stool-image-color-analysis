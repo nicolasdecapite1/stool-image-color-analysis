{
 "metadata": {
  "language_info": {
   "codemirror_mode": {
    "name": "ipython",
    "version": 3
   },
   "file_extension": ".py",
   "mimetype": "text/x-python",
   "name": "python",
   "nbconvert_exporter": "python",
   "pygments_lexer": "ipython3",
   "version": "3.8.3-final"
  },
  "orig_nbformat": 2,
  "kernelspec": {
   "name": "Python 3.8.3 64-bit ('anaconda3': virtualenv)",
   "display_name": "Python 3.8.3 64-bit ('anaconda3': virtualenv)",
   "metadata": {
    "interpreter": {
     "hash": "0b62f61f555cd15a4b9544cc3fede62125d8b43c5c437c69b962f9c101969a87"
    }
   }
  }
 },
 "nbformat": 4,
 "nbformat_minor": 2,
 "cells": [
  {
   "cell_type": "code",
   "execution_count": 1,
   "metadata": {},
   "outputs": [],
   "source": [
    "import os\n",
    "import pandas as pd\n",
    "import plotly.express as px\n",
    "from sklearn.decomposition import PCA\n",
    "import matplotlib.pyplot as plt\n",
    "from sklearn.linear_model import LogisticRegression\n",
    "from sklearn.model_selection import train_test_split\n",
    "from sklearn.metrics import accuracy_score\n",
    "from sklearn.neighbors import KNeighborsClassifier"
   ]
  },
  {
   "cell_type": "code",
   "execution_count": 2,
   "metadata": {
    "tags": []
   },
   "outputs": [
    {
     "output_type": "stream",
     "name": "stdout",
     "text": "   #BE0032\\t#BC3F4A\\t#841B2D\\t#5C0923\\t#AB4E52\\t#722F37\\t#3F1728\\t#AD8884\\t#905D5D\\t#543D3F\\t#2E1D21\\t#8F817F\\t#5C504F\\t#282022\\t#E25822\\t#D9603B\\t#AA381E\\t#CB6D51\\t#9E4732\\t#B4745E\\t#882D17\\t#56070C\\t#A87C6D\\t#79443B\\t#3E1D1E\\t#977F73\\t#674C47\\t#43302E\\t#870074\\t#9E4F88\\t#702963\\t#54194E\\t#B784A7\\t#915C83\\t#5D3954\\t#341731\\t#AA8A9E\\t#836479\\t#CE4676\\t#B3446C\\t#78184A\\t#54133B\\t#A8516E\\t#673147\\t#38152C\\t#AF868E\\t#915F6D  \\\n0   0\\t0\\t0\\t0\\t0\\t0\\t0\\t0\\t0\\t0\\t8.28E-05\\t0\\t0\\t...                                                                                                                                                                                                                                                                                                                                                                                      \n1   0\\t0\\t0\\t0\\t0\\t0\\t0\\t0\\t0\\t0\\t0.000372475\\t0\\t...                                                                                                                                                                                                                                                                                                                                                                                      \n2   0\\t0\\t0\\t0\\t0\\t0\\t0\\t0\\t0\\t0\\t0.000205098\\t7.5...                                                                                                                                                                                                                                                                                                                                                                                      \n3   0\\t0\\t0.000146374\\t0\\t0.000129741\\t0.000169661...                                                                                                                                                                                                                                                                                                                                                                                      \n4   0\\t0\\t0\\t0\\t0\\t0\\t0\\t0.000180723\\t4.52E-05\\t0....                                                                                                                                                                                                                                                                                                                                                                                      \n5   0\\t0\\t0\\t0\\t0\\t0\\t0\\t0\\t2.35E-05\\t0.000416667\\...                                                                                                                                                                                                                                                                                                                                                                                      \n6   0\\t0\\t0\\t0\\t0\\t0\\t0\\t0.000273881\\t1.34E-05\\t0....                                                                                                                                                                                                                                                                                                                                                                                      \n7   0\\t0\\t0\\t0\\t0\\t0\\t0\\t0\\t0\\t0\\t1.78E-05\\t0\\t0\\t...                                                                                                                                                                                                                                                                                                                                                                                      \n8   0\\t0\\t0\\t0\\t0\\t0\\t0\\t6.17E-06\\t0\\t8.95E-05\\t0....                                                                                                                                                                                                                                                                                                                                                                                      \n9   0\\t0\\t0\\t0\\t0\\t4.32E-05\\t0\\t0.00023978\\t0.0004...                                                                                                                                                                                                                                                                                                                                                                                      \n10  0\\t0\\t0\\t0\\t0\\t0\\t0\\t0\\t0.000170999\\t0.0721796...                                                                                                                                                                                                                                                                                                                                                                                      \n11  0\\t0\\t0\\t0\\t0\\t0\\t0\\t3.16E-05\\t0.000110585\\t0....                                                                                                                                                                                                                                                                                                                                                                                      \n12  0\\t0\\t0\\t0\\t0\\t0\\t0\\t0\\t0\\t0\\t0.002126156\\t0\\t...                                                                                                                                                                                                                                                                                                                                                                                      \n13  0\\t0\\t0\\t0\\t0\\t0\\t0\\t0\\t0\\t0\\t0\\t0\\t0\\t0\\t0\\t0...                                                                                                                                                                                                                                                                                                                                                                                      \n14  0\\t0\\t0\\t0\\t0\\t0.003702364\\t0\\t0.011502653\\t0....                                                                                                                                                                                                                                                                                                                                                                                      \n15  0\\t0\\t0\\t0\\t0\\t0\\t0\\t0\\t0\\t0\\t0.055225138\\t0\\t...                                                                                                                                                                                                                                                                                                                                                                                      \n16  0\\t0\\t0\\t5.59E-06\\t0\\t0.00466443\\t0.003998881\\...                                                                                                                                                                                                                                                                                                                                                                                      \n17  0\\t0\\t0\\t0\\t0\\t0\\t0\\t4.21E-06\\t0\\t0\\t0.0005723...                                                                                                                                                                                                                                                                                                                                                                                      \n18  0\\t0\\t0\\t0\\t0\\t0\\t0\\t3.53E-06\\t3.53E-06\\t3.88E...                                                                                                                                                                                                                                                                                                                                                                                      \n19  0\\t0\\t0\\t0\\t0\\t0\\t0\\t0\\t0\\t0\\t0.000253333\\t0\\t...                                                                                                                                                                                                                                                                                                                                                                                      \n20  0\\t0\\t0\\t0\\t0\\t6.50E-06\\t2.17E-06\\t0.000125704...                                                                                                                                                                                                                                                                                                                                                                                      \n21  0\\t0\\t0\\t0\\t0\\t0\\t0\\t0\\t0\\t3.09E-05\\t0.0004876...                                                                                                                                                                                                                                                                                                                                                                                      \n22  0\\t0\\t0\\t0\\t0\\t0\\t0\\t0\\t1.19E-05\\t1.59E-05\\t0\\...                                                                                                                                                                                                                                                                                                                                                                                      \n23  0\\t0\\t0\\t0\\t0\\t0\\t0\\t4.36E-06\\t0\\t0\\t0.0067124...                                                                                                                                                                                                                                                                                                                                                                                      \n24  0\\t0\\t0\\t0\\t0\\t0\\t0\\t0.000277778\\t6.12E-05\\t0\\...                                                                                                                                                                                                                                                                                                                                                                                      \n25  0\\t0\\t0\\t0\\t0\\t0\\t0\\t0.000122324\\t0\\t4.59E-05\\...                                                                                                                                                                                                                                                                                                                                                                                      \n26                                                NaN                                                                                                                                                                                                                                                                                                                                                                                      \n\n    label  #BE0032  #BC3F4A  #841B2D  #5C0923  #AB4E52  #722F37  #3F1728  \\\n0       1      NaN      NaN      NaN      NaN      NaN      NaN      NaN   \n1       1      NaN      NaN      NaN      NaN      NaN      NaN      NaN   \n2       1      NaN      NaN      NaN      NaN      NaN      NaN      NaN   \n3       1      NaN      NaN      NaN      NaN      NaN      NaN      NaN   \n4       1      NaN      NaN      NaN      NaN      NaN      NaN      NaN   \n5       1      NaN      NaN      NaN      NaN      NaN      NaN      NaN   \n6       1      NaN      NaN      NaN      NaN      NaN      NaN      NaN   \n7       1      NaN      NaN      NaN      NaN      NaN      NaN      NaN   \n8       1      NaN      NaN      NaN      NaN      NaN      NaN      NaN   \n9       1      NaN      NaN      NaN      NaN      NaN      NaN      NaN   \n10      1      NaN      NaN      NaN      NaN      NaN      NaN      NaN   \n11      1      NaN      NaN      NaN      NaN      NaN      NaN      NaN   \n12      1      NaN      NaN      NaN      NaN      NaN      NaN      NaN   \n13      1      NaN      NaN      NaN      NaN      NaN      NaN      NaN   \n14      1      NaN      NaN      NaN      NaN      NaN      NaN      NaN   \n15      1      NaN      NaN      NaN      NaN      NaN      NaN      NaN   \n16      1      NaN      NaN      NaN      NaN      NaN      NaN      NaN   \n17      1      NaN      NaN      NaN      NaN      NaN      NaN      NaN   \n18      1      NaN      NaN      NaN      NaN      NaN      NaN      NaN   \n19      1      NaN      NaN      NaN      NaN      NaN      NaN      NaN   \n20      1      NaN      NaN      NaN      NaN      NaN      NaN      NaN   \n21      1      NaN      NaN      NaN      NaN      NaN      NaN      NaN   \n22      1      NaN      NaN      NaN      NaN      NaN      NaN      NaN   \n23      1      NaN      NaN      NaN      NaN      NaN      NaN      NaN   \n24      1      NaN      NaN      NaN      NaN      NaN      NaN      NaN   \n25      1      NaN      NaN      NaN      NaN      NaN      NaN      NaN   \n26      0      0.0      0.0      0.0      0.0      0.0      0.0      0.0   \n\n     #AD8884  ...   #836479  #CE4676  #B3446C  #78184A  #54133B  #A8516E  \\\n0        NaN  ...       NaN      NaN      NaN      NaN      NaN      NaN   \n1        NaN  ...       NaN      NaN      NaN      NaN      NaN      NaN   \n2        NaN  ...       NaN      NaN      NaN      NaN      NaN      NaN   \n3        NaN  ...       NaN      NaN      NaN      NaN      NaN      NaN   \n4        NaN  ...       NaN      NaN      NaN      NaN      NaN      NaN   \n5        NaN  ...       NaN      NaN      NaN      NaN      NaN      NaN   \n6        NaN  ...       NaN      NaN      NaN      NaN      NaN      NaN   \n7        NaN  ...       NaN      NaN      NaN      NaN      NaN      NaN   \n8        NaN  ...       NaN      NaN      NaN      NaN      NaN      NaN   \n9        NaN  ...       NaN      NaN      NaN      NaN      NaN      NaN   \n10       NaN  ...       NaN      NaN      NaN      NaN      NaN      NaN   \n11       NaN  ...       NaN      NaN      NaN      NaN      NaN      NaN   \n12       NaN  ...       NaN      NaN      NaN      NaN      NaN      NaN   \n13       NaN  ...       NaN      NaN      NaN      NaN      NaN      NaN   \n14       NaN  ...       NaN      NaN      NaN      NaN      NaN      NaN   \n15       NaN  ...       NaN      NaN      NaN      NaN      NaN      NaN   \n16       NaN  ...       NaN      NaN      NaN      NaN      NaN      NaN   \n17       NaN  ...       NaN      NaN      NaN      NaN      NaN      NaN   \n18       NaN  ...       NaN      NaN      NaN      NaN      NaN      NaN   \n19       NaN  ...       NaN      NaN      NaN      NaN      NaN      NaN   \n20       NaN  ...       NaN      NaN      NaN      NaN      NaN      NaN   \n21       NaN  ...       NaN      NaN      NaN      NaN      NaN      NaN   \n22       NaN  ...       NaN      NaN      NaN      NaN      NaN      NaN   \n23       NaN  ...       NaN      NaN      NaN      NaN      NaN      NaN   \n24       NaN  ...       NaN      NaN      NaN      NaN      NaN      NaN   \n25       NaN  ...       NaN      NaN      NaN      NaN      NaN      NaN   \n26  0.000066  ...  0.000003      0.0      0.0      0.0      0.0      0.0   \n\n    #673147  #38152C   #AF868E  #915F6D  \n0       NaN      NaN       NaN      NaN  \n1       NaN      NaN       NaN      NaN  \n2       NaN      NaN       NaN      NaN  \n3       NaN      NaN       NaN      NaN  \n4       NaN      NaN       NaN      NaN  \n5       NaN      NaN       NaN      NaN  \n6       NaN      NaN       NaN      NaN  \n7       NaN      NaN       NaN      NaN  \n8       NaN      NaN       NaN      NaN  \n9       NaN      NaN       NaN      NaN  \n10      NaN      NaN       NaN      NaN  \n11      NaN      NaN       NaN      NaN  \n12      NaN      NaN       NaN      NaN  \n13      NaN      NaN       NaN      NaN  \n14      NaN      NaN       NaN      NaN  \n15      NaN      NaN       NaN      NaN  \n16      NaN      NaN       NaN      NaN  \n17      NaN      NaN       NaN      NaN  \n18      NaN      NaN       NaN      NaN  \n19      NaN      NaN       NaN      NaN  \n20      NaN      NaN       NaN      NaN  \n21      NaN      NaN       NaN      NaN  \n22      NaN      NaN       NaN      NaN  \n23      NaN      NaN       NaN      NaN  \n24      NaN      NaN       NaN      NaN  \n25      NaN      NaN       NaN      NaN  \n26      0.0      0.0  0.000008      0.0  \n\n[27 rows x 49 columns]\n"
    }
   ],
   "source": [
    "path_blood = os.path.join('images', 'blood', 'blood_red_only.csv')\n",
    "path_good = os.path.join('images', 'good', 'good_red_only.csv')\n",
    "\n",
    "df_blood = pd.read_csv(path_blood)\n",
    "df_blood['label'] = 1\n",
    "# print(df_blood)\n",
    "df_good = pd.read_csv(path_good)\n",
    "df_good['label'] = 0\n",
    "\n",
    "df_data = pd.concat([df_blood, df_good], ignore_index=True)\n",
    "print(df_data)\n",
    "df_features = df_data.loc[:, df_data.columns != 'label']"
   ]
  },
  {
   "cell_type": "code",
   "execution_count": 3,
   "metadata": {},
   "outputs": [
    {
     "output_type": "execute_result",
     "data": {
      "text/plain": "1"
     },
     "metadata": {},
     "execution_count": 3
    }
   ],
   "source": [
    "len(df_data[df_data['label'] == 0])"
   ]
  },
  {
   "cell_type": "code",
   "execution_count": 4,
   "metadata": {},
   "outputs": [],
   "source": [
    "X_train, X_test, y_train, y_test = train_test_split(df_features.values, \\\n",
    "                                                    df_data['label'].values, test_size=0.33, random_state=42)"
   ]
  },
  {
   "cell_type": "code",
   "execution_count": 5,
   "metadata": {},
   "outputs": [
    {
     "output_type": "error",
     "ename": "ValueError",
     "evalue": "could not convert string to float: &#39;0\\t0\\t0\\t0\\t0\\t0\\t0\\t0.000277778\\t6.12E-05\\t0\\t0.010014124\\t0.000550847\\t2.35E-05\\t0.000414313\\t0\\t0\\t0\\t0\\t0\\t1.88E-05\\t0.000235405\\t0\\t0.000527307\\t0.000117702\\t0.010922787\\t0.000362524\\t0.000244821\\t0\\t0\\t0\\t0\\t0\\t0\\t0\\t0\\t0\\t0\\t0\\t0\\t0\\t0\\t0\\t0\\t0\\t0\\t9.42E-06\\t0&#39;",
     "traceback": [
      "\u001b[0;31m---------------------------------------------------------------------------\u001b[0m",
      "\u001b[0;31mValueError\u001b[0m                                Traceback (most recent call last)",
      "\u001b[0;32m&lt;ipython-input-5-d9c42a361034&gt;\u001b[0m in \u001b[0;36m&lt;module&gt;\u001b[0;34m\u001b[0m\n\u001b[1;32m      1\u001b[0m \u001b[0mpca\u001b[0m \u001b[0;34m=\u001b[0m \u001b[0mPCA\u001b[0m\u001b[0;34m(\u001b[0m\u001b[0mn_components\u001b[0m\u001b[0;34m=\u001b[0m\u001b[0;36m2\u001b[0m\u001b[0;34m)\u001b[0m\u001b[0;34m\u001b[0m\u001b[0;34m\u001b[0m\u001b[0m\n\u001b[0;32m----&gt; 2\u001b[0;31m \u001b[0mcomponents\u001b[0m \u001b[0;34m=\u001b[0m \u001b[0mpca\u001b[0m\u001b[0;34m.\u001b[0m\u001b[0mfit_transform\u001b[0m\u001b[0;34m(\u001b[0m\u001b[0mX_train\u001b[0m\u001b[0;34m)\u001b[0m\u001b[0;34m\u001b[0m\u001b[0;34m\u001b[0m\u001b[0m\n\u001b[0m\u001b[1;32m      3\u001b[0m \u001b[0mplt\u001b[0m\u001b[0;34m.\u001b[0m\u001b[0mscatter\u001b[0m\u001b[0;34m(\u001b[0m\u001b[0mcomponents\u001b[0m\u001b[0;34m[\u001b[0m\u001b[0;34m:\u001b[0m\u001b[0;34m,\u001b[0m \u001b[0;36m0\u001b[0m\u001b[0;34m]\u001b[0m\u001b[0;34m,\u001b[0m \u001b[0mcomponents\u001b[0m\u001b[0;34m[\u001b[0m\u001b[0;34m:\u001b[0m\u001b[0;34m,\u001b[0m \u001b[0;36m1\u001b[0m\u001b[0;34m]\u001b[0m\u001b[0;34m,\u001b[0m \u001b[0mc\u001b[0m \u001b[0;34m=\u001b[0m \u001b[0my_train\u001b[0m\u001b[0;34m)\u001b[0m\u001b[0;34m\u001b[0m\u001b[0;34m\u001b[0m\u001b[0m\n\u001b[1;32m      4\u001b[0m \u001b[0mplt\u001b[0m\u001b[0;34m.\u001b[0m\u001b[0mxlabel\u001b[0m\u001b[0;34m(\u001b[0m\u001b[0;34m&#39;PCA 0&#39;\u001b[0m\u001b[0;34m)\u001b[0m\u001b[0;34m\u001b[0m\u001b[0;34m\u001b[0m\u001b[0m\n\u001b[1;32m      5\u001b[0m \u001b[0mplt\u001b[0m\u001b[0;34m.\u001b[0m\u001b[0mylabel\u001b[0m\u001b[0;34m(\u001b[0m\u001b[0;34m&#39;PCA 1&#39;\u001b[0m\u001b[0;34m)\u001b[0m\u001b[0;34m\u001b[0m\u001b[0;34m\u001b[0m\u001b[0m\n",
      "\u001b[0;32m~/opt/anaconda3/lib/python3.8/site-packages/sklearn/decomposition/_pca.py\u001b[0m in \u001b[0;36mfit_transform\u001b[0;34m(self, X, y)\u001b[0m\n\u001b[1;32m    374\u001b[0m         \u001b[0mC\u001b[0m\u001b[0;34m-\u001b[0m\u001b[0mordered\u001b[0m \u001b[0marray\u001b[0m\u001b[0;34m,\u001b[0m \u001b[0muse\u001b[0m \u001b[0;34m&#39;np.ascontiguousarray&#39;\u001b[0m\u001b[0;34m.\u001b[0m\u001b[0;34m\u001b[0m\u001b[0;34m\u001b[0m\u001b[0m\n\u001b[1;32m    375\u001b[0m         &quot;&quot;&quot;\n\u001b[0;32m--&gt; 376\u001b[0;31m         \u001b[0mU\u001b[0m\u001b[0;34m,\u001b[0m \u001b[0mS\u001b[0m\u001b[0;34m,\u001b[0m \u001b[0mV\u001b[0m \u001b[0;34m=\u001b[0m \u001b[0mself\u001b[0m\u001b[0;34m.\u001b[0m\u001b[0m_fit\u001b[0m\u001b[0;34m(\u001b[0m\u001b[0mX\u001b[0m\u001b[0;34m)\u001b[0m\u001b[0;34m\u001b[0m\u001b[0;34m\u001b[0m\u001b[0m\n\u001b[0m\u001b[1;32m    377\u001b[0m         \u001b[0mU\u001b[0m \u001b[0;34m=\u001b[0m \u001b[0mU\u001b[0m\u001b[0;34m[\u001b[0m\u001b[0;34m:\u001b[0m\u001b[0;34m,\u001b[0m \u001b[0;34m:\u001b[0m\u001b[0mself\u001b[0m\u001b[0;34m.\u001b[0m\u001b[0mn_components_\u001b[0m\u001b[0;34m]\u001b[0m\u001b[0;34m\u001b[0m\u001b[0;34m\u001b[0m\u001b[0m\n\u001b[1;32m    378\u001b[0m \u001b[0;34m\u001b[0m\u001b[0m\n",
      "\u001b[0;32m~/opt/anaconda3/lib/python3.8/site-packages/sklearn/decomposition/_pca.py\u001b[0m in \u001b[0;36m_fit\u001b[0;34m(self, X)\u001b[0m\n\u001b[1;32m    395\u001b[0m                             &#39;TruncatedSVD for a possible alternative.&#39;)\n\u001b[1;32m    396\u001b[0m \u001b[0;34m\u001b[0m\u001b[0m\n\u001b[0;32m--&gt; 397\u001b[0;31m         X = self._validate_data(X, dtype=[np.float64, np.float32],\n\u001b[0m\u001b[1;32m    398\u001b[0m                                 ensure_2d=True, copy=self.copy)\n\u001b[1;32m    399\u001b[0m \u001b[0;34m\u001b[0m\u001b[0m\n",
      "\u001b[0;32m~/opt/anaconda3/lib/python3.8/site-packages/sklearn/base.py\u001b[0m in \u001b[0;36m_validate_data\u001b[0;34m(self, X, y, reset, validate_separately, **check_params)\u001b[0m\n\u001b[1;32m    418\u001b[0m                     \u001b[0;34mf&quot;requires y to be passed, but the target y is None.&quot;\u001b[0m\u001b[0;34m\u001b[0m\u001b[0;34m\u001b[0m\u001b[0m\n\u001b[1;32m    419\u001b[0m                 )\n\u001b[0;32m--&gt; 420\u001b[0;31m             \u001b[0mX\u001b[0m \u001b[0;34m=\u001b[0m \u001b[0mcheck_array\u001b[0m\u001b[0;34m(\u001b[0m\u001b[0mX\u001b[0m\u001b[0;34m,\u001b[0m \u001b[0;34m**\u001b[0m\u001b[0mcheck_params\u001b[0m\u001b[0;34m)\u001b[0m\u001b[0;34m\u001b[0m\u001b[0;34m\u001b[0m\u001b[0m\n\u001b[0m\u001b[1;32m    421\u001b[0m             \u001b[0mout\u001b[0m \u001b[0;34m=\u001b[0m \u001b[0mX\u001b[0m\u001b[0;34m\u001b[0m\u001b[0;34m\u001b[0m\u001b[0m\n\u001b[1;32m    422\u001b[0m         \u001b[0;32melse\u001b[0m\u001b[0;34m:\u001b[0m\u001b[0;34m\u001b[0m\u001b[0;34m\u001b[0m\u001b[0m\n",
      "\u001b[0;32m~/opt/anaconda3/lib/python3.8/site-packages/sklearn/utils/validation.py\u001b[0m in \u001b[0;36minner_f\u001b[0;34m(*args, **kwargs)\u001b[0m\n\u001b[1;32m     71\u001b[0m                           FutureWarning)\n\u001b[1;32m     72\u001b[0m         \u001b[0mkwargs\u001b[0m\u001b[0;34m.\u001b[0m\u001b[0mupdate\u001b[0m\u001b[0;34m(\u001b[0m\u001b[0;34m{\u001b[0m\u001b[0mk\u001b[0m\u001b[0;34m:\u001b[0m \u001b[0marg\u001b[0m \u001b[0;32mfor\u001b[0m \u001b[0mk\u001b[0m\u001b[0;34m,\u001b[0m \u001b[0marg\u001b[0m \u001b[0;32min\u001b[0m \u001b[0mzip\u001b[0m\u001b[0;34m(\u001b[0m\u001b[0msig\u001b[0m\u001b[0;34m.\u001b[0m\u001b[0mparameters\u001b[0m\u001b[0;34m,\u001b[0m \u001b[0margs\u001b[0m\u001b[0;34m)\u001b[0m\u001b[0;34m}\u001b[0m\u001b[0;34m)\u001b[0m\u001b[0;34m\u001b[0m\u001b[0;34m\u001b[0m\u001b[0m\n\u001b[0;32m---&gt; 73\u001b[0;31m         \u001b[0;32mreturn\u001b[0m \u001b[0mf\u001b[0m\u001b[0;34m(\u001b[0m\u001b[0;34m**\u001b[0m\u001b[0mkwargs\u001b[0m\u001b[0;34m)\u001b[0m\u001b[0;34m\u001b[0m\u001b[0;34m\u001b[0m\u001b[0m\n\u001b[0m\u001b[1;32m     74\u001b[0m     \u001b[0;32mreturn\u001b[0m \u001b[0minner_f\u001b[0m\u001b[0;34m\u001b[0m\u001b[0;34m\u001b[0m\u001b[0m\n\u001b[1;32m     75\u001b[0m \u001b[0;34m\u001b[0m\u001b[0m\n",
      "\u001b[0;32m~/opt/anaconda3/lib/python3.8/site-packages/sklearn/utils/validation.py\u001b[0m in \u001b[0;36mcheck_array\u001b[0;34m(array, accept_sparse, accept_large_sparse, dtype, order, copy, force_all_finite, ensure_2d, allow_nd, ensure_min_samples, ensure_min_features, estimator)\u001b[0m\n\u001b[1;32m    597\u001b[0m                     \u001b[0marray\u001b[0m \u001b[0;34m=\u001b[0m \u001b[0marray\u001b[0m\u001b[0;34m.\u001b[0m\u001b[0mastype\u001b[0m\u001b[0;34m(\u001b[0m\u001b[0mdtype\u001b[0m\u001b[0;34m,\u001b[0m \u001b[0mcasting\u001b[0m\u001b[0;34m=\u001b[0m\u001b[0;34m&quot;unsafe&quot;\u001b[0m\u001b[0;34m,\u001b[0m \u001b[0mcopy\u001b[0m\u001b[0;34m=\u001b[0m\u001b[0;32mFalse\u001b[0m\u001b[0;34m)\u001b[0m\u001b[0;34m\u001b[0m\u001b[0;34m\u001b[0m\u001b[0m\n\u001b[1;32m    598\u001b[0m                 \u001b[0;32melse\u001b[0m\u001b[0;34m:\u001b[0m\u001b[0;34m\u001b[0m\u001b[0;34m\u001b[0m\u001b[0m\n\u001b[0;32m--&gt; 599\u001b[0;31m                     \u001b[0marray\u001b[0m \u001b[0;34m=\u001b[0m \u001b[0mnp\u001b[0m\u001b[0;34m.\u001b[0m\u001b[0masarray\u001b[0m\u001b[0;34m(\u001b[0m\u001b[0marray\u001b[0m\u001b[0;34m,\u001b[0m \u001b[0morder\u001b[0m\u001b[0;34m=\u001b[0m\u001b[0morder\u001b[0m\u001b[0;34m,\u001b[0m \u001b[0mdtype\u001b[0m\u001b[0;34m=\u001b[0m\u001b[0mdtype\u001b[0m\u001b[0;34m)\u001b[0m\u001b[0;34m\u001b[0m\u001b[0;34m\u001b[0m\u001b[0m\n\u001b[0m\u001b[1;32m    600\u001b[0m             \u001b[0;32mexcept\u001b[0m \u001b[0mComplexWarning\u001b[0m\u001b[0;34m:\u001b[0m\u001b[0;34m\u001b[0m\u001b[0;34m\u001b[0m\u001b[0m\n\u001b[1;32m    601\u001b[0m                 raise ValueError(&quot;Complex data not supported\\n&quot;\n",
      "\u001b[0;32m~/opt/anaconda3/lib/python3.8/site-packages/numpy/core/_asarray.py\u001b[0m in \u001b[0;36masarray\u001b[0;34m(a, dtype, order)\u001b[0m\n\u001b[1;32m     83\u001b[0m \u001b[0;34m\u001b[0m\u001b[0m\n\u001b[1;32m     84\u001b[0m     &quot;&quot;&quot;\n\u001b[0;32m---&gt; 85\u001b[0;31m     \u001b[0;32mreturn\u001b[0m \u001b[0marray\u001b[0m\u001b[0;34m(\u001b[0m\u001b[0ma\u001b[0m\u001b[0;34m,\u001b[0m \u001b[0mdtype\u001b[0m\u001b[0;34m,\u001b[0m \u001b[0mcopy\u001b[0m\u001b[0;34m=\u001b[0m\u001b[0;32mFalse\u001b[0m\u001b[0;34m,\u001b[0m \u001b[0morder\u001b[0m\u001b[0;34m=\u001b[0m\u001b[0morder\u001b[0m\u001b[0;34m)\u001b[0m\u001b[0;34m\u001b[0m\u001b[0;34m\u001b[0m\u001b[0m\n\u001b[0m\u001b[1;32m     86\u001b[0m \u001b[0;34m\u001b[0m\u001b[0m\n\u001b[1;32m     87\u001b[0m \u001b[0;34m\u001b[0m\u001b[0m\n",
      "\u001b[0;31mValueError\u001b[0m: could not convert string to float: &#39;0\\t0\\t0\\t0\\t0\\t0\\t0\\t0.000277778\\t6.12E-05\\t0\\t0.010014124\\t0.000550847\\t2.35E-05\\t0.000414313\\t0\\t0\\t0\\t0\\t0\\t1.88E-05\\t0.000235405\\t0\\t0.000527307\\t0.000117702\\t0.010922787\\t0.000362524\\t0.000244821\\t0\\t0\\t0\\t0\\t0\\t0\\t0\\t0\\t0\\t0\\t0\\t0\\t0\\t0\\t0\\t0\\t0\\t0\\t9.42E-06\\t0&#39;"
     ]
    }
   ],
   "source": [
    "pca = PCA(n_components=2)\n",
    "components = pca.fit_transform(X_train)\n",
    "plt.scatter(components[:, 0], components[:, 1], c = y_train)\n",
    "plt.xlabel('PCA 0')\n",
    "plt.ylabel('PCA 1')\n",
    "# plt.legend()\n",
    "plt.colorbar()\n",
    "plt.show()\n",
    "pca_train = pca.transform(X_train)\n",
    "pca_test = pca.transform(X_test)"
   ]
  },
  {
   "cell_type": "code",
   "execution_count": 12,
   "metadata": {},
   "outputs": [
    {
     "output_type": "error",
     "ename": "NameError",
     "evalue": "name 'pca_train' is not defined",
     "traceback": [
      "\u001b[0;31m---------------------------------------------------------------------------\u001b[0m",
      "\u001b[0;31mNameError\u001b[0m                                 Traceback (most recent call last)",
      "\u001b[0;32m<ipython-input-12-1fdf90719c30>\u001b[0m in \u001b[0;36m<module>\u001b[0;34m\u001b[0m\n\u001b[0;32m----> 1\u001b[0;31m \u001b[0mclf\u001b[0m \u001b[0;34m=\u001b[0m \u001b[0mKNeighborsClassifier\u001b[0m\u001b[0;34m(\u001b[0m\u001b[0mn_neighbors\u001b[0m\u001b[0;34m=\u001b[0m\u001b[0;36m3\u001b[0m\u001b[0;34m)\u001b[0m\u001b[0;34m.\u001b[0m\u001b[0mfit\u001b[0m\u001b[0;34m(\u001b[0m\u001b[0mpca_train\u001b[0m\u001b[0;34m,\u001b[0m \u001b[0my_train\u001b[0m\u001b[0;34m)\u001b[0m\u001b[0;34m\u001b[0m\u001b[0;34m\u001b[0m\u001b[0m\n\u001b[0m\u001b[1;32m      2\u001b[0m \u001b[0my_hat\u001b[0m \u001b[0;34m=\u001b[0m \u001b[0mclf\u001b[0m\u001b[0;34m.\u001b[0m\u001b[0mpredict\u001b[0m\u001b[0;34m(\u001b[0m\u001b[0mpca_test\u001b[0m\u001b[0;34m)\u001b[0m\u001b[0;34m\u001b[0m\u001b[0;34m\u001b[0m\u001b[0m\n\u001b[1;32m      3\u001b[0m \u001b[0mclf\u001b[0m\u001b[0;34m.\u001b[0m\u001b[0mscore\u001b[0m\u001b[0;34m(\u001b[0m\u001b[0mpca_test\u001b[0m\u001b[0;34m,\u001b[0m \u001b[0my_test\u001b[0m\u001b[0;34m)\u001b[0m\u001b[0;34m\u001b[0m\u001b[0;34m\u001b[0m\u001b[0m\n",
      "\u001b[0;31mNameError\u001b[0m: name 'pca_train' is not defined"
     ]
    }
   ],
   "source": [
    "clf = KNeighborsClassifier(n_neighbors=3).fit(pca_train, y_train)\n",
    "y_hat = clf.predict(pca_test)\n",
    "clf.score(pca_test, y_test)"
   ]
  },
  {
   "cell_type": "code",
   "execution_count": 13,
   "metadata": {},
   "outputs": [
    {
     "output_type": "error",
     "ename": "NameError",
     "evalue": "name 'y_hat' is not defined",
     "traceback": [
      "\u001b[0;31m---------------------------------------------------------------------------\u001b[0m",
      "\u001b[0;31mNameError\u001b[0m                                 Traceback (most recent call last)",
      "\u001b[0;32m<ipython-input-13-5ab07247eef7>\u001b[0m in \u001b[0;36m<module>\u001b[0;34m\u001b[0m\n\u001b[0;32m----> 1\u001b[0;31m \u001b[0my_hat\u001b[0m\u001b[0;34m\u001b[0m\u001b[0;34m\u001b[0m\u001b[0m\n\u001b[0m",
      "\u001b[0;31mNameError\u001b[0m: name 'y_hat' is not defined"
     ]
    }
   ],
   "source": [
    "y_hat"
   ]
  },
  {
   "cell_type": "code",
   "execution_count": null,
   "metadata": {},
   "outputs": [],
   "source": [
    "accuracy_score(y_test, y_hat)"
   ]
  }
 ]
}